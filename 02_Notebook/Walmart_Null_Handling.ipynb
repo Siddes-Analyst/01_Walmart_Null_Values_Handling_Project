{
 "cells": [
  {
   "cell_type": "markdown",
   "id": "5f76dad8-ad78-4bc0-9272-b4a85f07e514",
   "metadata": {},
   "source": [
    "# <b> <font color= #ABFF00> Handling Null Values in Different Columns"
   ]
  },
  {
   "cell_type": "markdown",
   "id": "e11224e6-2393-4ae2-8e6c-406dba568d56",
   "metadata": {},
   "source": [
    "### <b><font color= #FFFF00> Objective :"
   ]
  },
  {
   "cell_type": "markdown",
   "id": "7625cd6d-45e1-47d4-81b5-51e473e229d6",
   "metadata": {},
   "source": [
    "#### *This is a realistic Walmart sales dataset. In this project, I aim to handle the missing (null) values using practical, real-world logic based on the type and context of each column.*\n",
    "### Part 1:\n",
    "- #### *Import the necessary libraries and dataset, then analyze the structure and quality of the data.*\n",
    "### Part 2:\n",
    "- #### *Apply appropriate real-world logic to impute.*\n",
    "### Part 3:\n",
    "- #### *Plot the chart before and after handling null values, Final summary.*"
   ]
  },
  {
   "cell_type": "markdown",
   "id": "2f747281-5082-4d40-b2b5-5f9a2d22448c",
   "metadata": {},
   "source": [
    "# <b> <font color= #ABFF00> PART - 1"
   ]
  },
  {
   "cell_type": "markdown",
   "id": "9144bee3-502c-4345-a67f-6bac6519415a",
   "metadata": {},
   "source": [
    "### <b><font color= #FFFF00> Import the librarys and Dataset :"
   ]
  },
  {
   "cell_type": "code",
   "execution_count": 4,
   "id": "2f8d39cd-c5f9-47bd-9133-c4a743c6e328",
   "metadata": {},
   "outputs": [],
   "source": [
    "import numpy as np\n",
    "import pandas as pd\n",
    "import matplotlib.pyplot as plt\n",
    "import seaborn as sns"
   ]
  },
  {
   "cell_type": "code",
   "execution_count": 6,
   "id": "cfd9ca36-04e6-455a-9eea-125015ef3de1",
   "metadata": {
    "scrolled": true
   },
   "outputs": [
    {
     "data": {
      "text/html": [
       "<div>\n",
       "<style scoped>\n",
       "    .dataframe tbody tr th:only-of-type {\n",
       "        vertical-align: middle;\n",
       "    }\n",
       "\n",
       "    .dataframe tbody tr th {\n",
       "        vertical-align: top;\n",
       "    }\n",
       "\n",
       "    .dataframe thead th {\n",
       "        text-align: right;\n",
       "    }\n",
       "</style>\n",
       "<table border=\"1\" class=\"dataframe\">\n",
       "  <thead>\n",
       "    <tr style=\"text-align: right;\">\n",
       "      <th></th>\n",
       "      <th>Order ID</th>\n",
       "      <th>Order Date</th>\n",
       "      <th>Customer ID</th>\n",
       "      <th>Customer Name</th>\n",
       "      <th>City</th>\n",
       "      <th>Region</th>\n",
       "      <th>Category</th>\n",
       "      <th>Quantity</th>\n",
       "      <th>Sales</th>\n",
       "      <th>Profit</th>\n",
       "    </tr>\n",
       "  </thead>\n",
       "  <tbody>\n",
       "    <tr>\n",
       "      <th>0</th>\n",
       "      <td>CA-2021-1000</td>\n",
       "      <td>14-02-2025</td>\n",
       "      <td>CUST-1000</td>\n",
       "      <td>Jasmine Davis</td>\n",
       "      <td>East Tony</td>\n",
       "      <td>South</td>\n",
       "      <td>Office Supplies</td>\n",
       "      <td>10.0</td>\n",
       "      <td>843.53</td>\n",
       "      <td>NaN</td>\n",
       "    </tr>\n",
       "    <tr>\n",
       "      <th>1</th>\n",
       "      <td>CA-2021-1001</td>\n",
       "      <td>01-01-2024</td>\n",
       "      <td>CUST-1001</td>\n",
       "      <td>Ryan Lambert</td>\n",
       "      <td>East Melissaberg</td>\n",
       "      <td>Central</td>\n",
       "      <td>Furniture</td>\n",
       "      <td>3.0</td>\n",
       "      <td>868.01</td>\n",
       "      <td>NaN</td>\n",
       "    </tr>\n",
       "    <tr>\n",
       "      <th>2</th>\n",
       "      <td>CA-2021-1002</td>\n",
       "      <td>04-02-2024</td>\n",
       "      <td>CUST-1002</td>\n",
       "      <td>Lisa Hickman</td>\n",
       "      <td>West Debbie</td>\n",
       "      <td>Central</td>\n",
       "      <td>Furniture</td>\n",
       "      <td>2.0</td>\n",
       "      <td>105.02</td>\n",
       "      <td>296.82</td>\n",
       "    </tr>\n",
       "    <tr>\n",
       "      <th>3</th>\n",
       "      <td>CA-2021-1003</td>\n",
       "      <td>04-08-2023</td>\n",
       "      <td>CUST-1003</td>\n",
       "      <td>Robert Smith</td>\n",
       "      <td>East Michael</td>\n",
       "      <td>West</td>\n",
       "      <td>NaN</td>\n",
       "      <td>3.0</td>\n",
       "      <td>544.25</td>\n",
       "      <td>177.81</td>\n",
       "    </tr>\n",
       "    <tr>\n",
       "      <th>4</th>\n",
       "      <td>CA-2021-1004</td>\n",
       "      <td>06-12-2024</td>\n",
       "      <td>CUST-1004</td>\n",
       "      <td>Jason Willis</td>\n",
       "      <td>Port Elizabeth</td>\n",
       "      <td>Central</td>\n",
       "      <td>Furniture</td>\n",
       "      <td>6.0</td>\n",
       "      <td>395.26</td>\n",
       "      <td>-64.67</td>\n",
       "    </tr>\n",
       "  </tbody>\n",
       "</table>\n",
       "</div>"
      ],
      "text/plain": [
       "       Order ID  Order Date Customer ID  Customer Name              City  \\\n",
       "0  CA-2021-1000  14-02-2025   CUST-1000  Jasmine Davis         East Tony   \n",
       "1  CA-2021-1001  01-01-2024   CUST-1001   Ryan Lambert  East Melissaberg   \n",
       "2  CA-2021-1002  04-02-2024   CUST-1002   Lisa Hickman       West Debbie   \n",
       "3  CA-2021-1003  04-08-2023   CUST-1003   Robert Smith      East Michael   \n",
       "4  CA-2021-1004  06-12-2024   CUST-1004   Jason Willis    Port Elizabeth   \n",
       "\n",
       "    Region         Category  Quantity   Sales  Profit  \n",
       "0    South  Office Supplies      10.0  843.53     NaN  \n",
       "1  Central        Furniture       3.0  868.01     NaN  \n",
       "2  Central        Furniture       2.0  105.02  296.82  \n",
       "3     West              NaN       3.0  544.25  177.81  \n",
       "4  Central        Furniture       6.0  395.26  -64.67  "
      ]
     },
     "execution_count": 6,
     "metadata": {},
     "output_type": "execute_result"
    }
   ],
   "source": [
    "df = pd.read_csv(r\"D:\\B_Data_Anlysist_Project\\Python_Projects\\01_Handling_Null_Value\\walmart_sales_with_nulls_value_dataset.csv\")\n",
    "df.head()"
   ]
  },
  {
   "cell_type": "code",
   "execution_count": 3,
   "id": "686ca77a-9296-49db-b2d3-cbaee515fa14",
   "metadata": {},
   "outputs": [
    {
     "data": {
      "text/plain": [
       "(100, 10)"
      ]
     },
     "execution_count": 3,
     "metadata": {},
     "output_type": "execute_result"
    }
   ],
   "source": [
    "df.shape"
   ]
  },
  {
   "cell_type": "code",
   "execution_count": 4,
   "id": "34c68370-01e9-4207-aaa5-230be3dd402c",
   "metadata": {},
   "outputs": [
    {
     "name": "stdout",
     "output_type": "stream",
     "text": [
      "<class 'pandas.core.frame.DataFrame'>\n",
      "RangeIndex: 100 entries, 0 to 99\n",
      "Data columns (total 10 columns):\n",
      " #   Column         Non-Null Count  Dtype  \n",
      "---  ------         --------------  -----  \n",
      " 0   Order ID       93 non-null     object \n",
      " 1   Order Date     85 non-null     object \n",
      " 2   Customer ID    94 non-null     object \n",
      " 3   Customer Name  97 non-null     object \n",
      " 4   City           88 non-null     object \n",
      " 5   Region         96 non-null     object \n",
      " 6   Category       93 non-null     object \n",
      " 7   Quantity       93 non-null     float64\n",
      " 8   Sales          89 non-null     float64\n",
      " 9   Profit         88 non-null     float64\n",
      "dtypes: float64(3), object(7)\n",
      "memory usage: 7.9+ KB\n"
     ]
    }
   ],
   "source": [
    "df.info()"
   ]
  },
  {
   "cell_type": "code",
   "execution_count": 5,
   "id": "2d3f95d9-bda9-48c3-8b40-ad1fd26c63db",
   "metadata": {},
   "outputs": [
    {
     "data": {
      "text/plain": [
       "Order ID          7\n",
       "Order Date       15\n",
       "Customer ID       6\n",
       "Customer Name     3\n",
       "City             12\n",
       "Region            4\n",
       "Category          7\n",
       "Quantity          7\n",
       "Sales            11\n",
       "Profit           12\n",
       "dtype: int64"
      ]
     },
     "execution_count": 5,
     "metadata": {},
     "output_type": "execute_result"
    }
   ],
   "source": [
    "df.isnull().sum()"
   ]
  },
  {
   "cell_type": "markdown",
   "id": "080e45b6-a28b-476e-a757-11102caf63ea",
   "metadata": {},
   "source": [
    "### <b><font color= #FFFF00> Dataset Analysis :"
   ]
  },
  {
   "cell_type": "markdown",
   "id": "36624e5b-673f-4666-b919-73232c618273",
   "metadata": {},
   "source": [
    "#### *The dataset contains 10 columns and 100 rows. Based on the data types and usage, I’ve categorized the columns into 4 types:*\n",
    "- #### <b> <font color= #ABFF00> Identifiers columns :\n",
    "    - ##### Order ID - 93 filled values & 7 null values, \n",
    "    - ##### Customer ID - 94 filled values & 6 null values, \n",
    "    - ##### Customer Name - 97 filled values & 3 null values.\n",
    "- #### <b> <font color= #ABFF00> Dates columns :\n",
    "    - ##### Order Date - 85 filled values & 15 null values.\n",
    "- #### <b> <font color= #ABFF00> Categorical columns :\n",
    "    - ##### City - 88 filled values & 12 null values, \n",
    "    - ##### Region - 96 filled values & 4 null values, \n",
    "    - ##### Categor - 93 filled values & 7 null values.\n",
    "- #### <b> <font color= #ABFF00> Numerical columns :\n",
    "    - ##### Quantity - 93 filled values & 7 null values, \n",
    "    - ##### Sales - 89 filled values & 11 null values, \n",
    "    - ##### Profit - 88 filled values & 12 null values."
   ]
  },
  {
   "cell_type": "markdown",
   "id": "3eb57849-2f69-4f01-b7a7-a50d678c3773",
   "metadata": {},
   "source": [
    "# <b> <font color= #ABFF00> PART - 2"
   ]
  },
  {
   "cell_type": "markdown",
   "id": "409bea6c-0332-4aba-8d4a-30b2771e284f",
   "metadata": {},
   "source": [
    "### <b><font color= #ABFF00> *1 - Handling the Identifiers columns :*"
   ]
  },
  {
   "cell_type": "code",
   "execution_count": 7,
   "id": "ad6f669c-8503-4580-bdfe-10a78816a227",
   "metadata": {},
   "outputs": [
    {
     "data": {
      "text/html": [
       "<div>\n",
       "<style scoped>\n",
       "    .dataframe tbody tr th:only-of-type {\n",
       "        vertical-align: middle;\n",
       "    }\n",
       "\n",
       "    .dataframe tbody tr th {\n",
       "        vertical-align: top;\n",
       "    }\n",
       "\n",
       "    .dataframe thead th {\n",
       "        text-align: right;\n",
       "    }\n",
       "</style>\n",
       "<table border=\"1\" class=\"dataframe\">\n",
       "  <thead>\n",
       "    <tr style=\"text-align: right;\">\n",
       "      <th></th>\n",
       "      <th>Order ID</th>\n",
       "      <th>Order Date</th>\n",
       "      <th>Customer ID</th>\n",
       "      <th>Customer Name</th>\n",
       "      <th>City</th>\n",
       "      <th>Region</th>\n",
       "      <th>Category</th>\n",
       "      <th>Quantity</th>\n",
       "      <th>Sales</th>\n",
       "      <th>Profit</th>\n",
       "    </tr>\n",
       "  </thead>\n",
       "  <tbody>\n",
       "    <tr>\n",
       "      <th>0</th>\n",
       "      <td>CA-2021-1000</td>\n",
       "      <td>14-02-2025</td>\n",
       "      <td>CUST-1000</td>\n",
       "      <td>Jasmine Davis</td>\n",
       "      <td>East Tony</td>\n",
       "      <td>South</td>\n",
       "      <td>Office Supplies</td>\n",
       "      <td>10.0</td>\n",
       "      <td>843.53</td>\n",
       "      <td>NaN</td>\n",
       "    </tr>\n",
       "    <tr>\n",
       "      <th>1</th>\n",
       "      <td>CA-2021-1001</td>\n",
       "      <td>01-01-2024</td>\n",
       "      <td>CUST-1001</td>\n",
       "      <td>Ryan Lambert</td>\n",
       "      <td>East Melissaberg</td>\n",
       "      <td>Central</td>\n",
       "      <td>Furniture</td>\n",
       "      <td>3.0</td>\n",
       "      <td>868.01</td>\n",
       "      <td>NaN</td>\n",
       "    </tr>\n",
       "    <tr>\n",
       "      <th>2</th>\n",
       "      <td>CA-2021-1002</td>\n",
       "      <td>04-02-2024</td>\n",
       "      <td>CUST-1002</td>\n",
       "      <td>Lisa Hickman</td>\n",
       "      <td>West Debbie</td>\n",
       "      <td>Central</td>\n",
       "      <td>Furniture</td>\n",
       "      <td>2.0</td>\n",
       "      <td>105.02</td>\n",
       "      <td>296.82</td>\n",
       "    </tr>\n",
       "    <tr>\n",
       "      <th>3</th>\n",
       "      <td>CA-2021-1003</td>\n",
       "      <td>04-08-2023</td>\n",
       "      <td>CUST-1003</td>\n",
       "      <td>Robert Smith</td>\n",
       "      <td>East Michael</td>\n",
       "      <td>West</td>\n",
       "      <td>NaN</td>\n",
       "      <td>3.0</td>\n",
       "      <td>544.25</td>\n",
       "      <td>177.81</td>\n",
       "    </tr>\n",
       "    <tr>\n",
       "      <th>4</th>\n",
       "      <td>CA-2021-1004</td>\n",
       "      <td>06-12-2024</td>\n",
       "      <td>CUST-1004</td>\n",
       "      <td>Jason Willis</td>\n",
       "      <td>Port Elizabeth</td>\n",
       "      <td>Central</td>\n",
       "      <td>Furniture</td>\n",
       "      <td>6.0</td>\n",
       "      <td>395.26</td>\n",
       "      <td>-64.67</td>\n",
       "    </tr>\n",
       "  </tbody>\n",
       "</table>\n",
       "</div>"
      ],
      "text/plain": [
       "       Order ID  Order Date Customer ID  Customer Name              City  \\\n",
       "0  CA-2021-1000  14-02-2025   CUST-1000  Jasmine Davis         East Tony   \n",
       "1  CA-2021-1001  01-01-2024   CUST-1001   Ryan Lambert  East Melissaberg   \n",
       "2  CA-2021-1002  04-02-2024   CUST-1002   Lisa Hickman       West Debbie   \n",
       "3  CA-2021-1003  04-08-2023   CUST-1003   Robert Smith      East Michael   \n",
       "4  CA-2021-1004  06-12-2024   CUST-1004   Jason Willis    Port Elizabeth   \n",
       "\n",
       "    Region         Category  Quantity   Sales  Profit  \n",
       "0    South  Office Supplies      10.0  843.53     NaN  \n",
       "1  Central        Furniture       3.0  868.01     NaN  \n",
       "2  Central        Furniture       2.0  105.02  296.82  \n",
       "3     West              NaN       3.0  544.25  177.81  \n",
       "4  Central        Furniture       6.0  395.26  -64.67  "
      ]
     },
     "execution_count": 7,
     "metadata": {},
     "output_type": "execute_result"
    }
   ],
   "source": [
    "df_copy = pd.DataFrame(df)\n",
    "df_copy.head()"
   ]
  },
  {
   "cell_type": "markdown",
   "id": "a7401b2a-2844-4db2-bf55-0aa1660d2211",
   "metadata": {},
   "source": [
    "#### <b> <font color= #FFFF00> 1 - Handling the Order ID column :\n",
    "- ##### *Type: Object*\n",
    "- ##### *Fill_values: 93*\n",
    "- ##### *Null_values: 7*"
   ]
  },
  {
   "cell_type": "code",
   "execution_count": 32,
   "id": "0ca52b60-b93c-4c22-a084-86966082546a",
   "metadata": {},
   "outputs": [
    {
     "name": "stdout",
     "output_type": "stream",
     "text": [
      "<class 'pandas.core.series.Series'>\n",
      "RangeIndex: 100 entries, 0 to 99\n",
      "Series name: Order ID\n",
      "Non-Null Count  Dtype \n",
      "--------------  ----- \n",
      "93 non-null     object\n",
      "dtypes: object(1)\n",
      "memory usage: 932.0+ bytes\n"
     ]
    }
   ],
   "source": [
    "df_copy[\"Order ID\"].info()"
   ]
  },
  {
   "cell_type": "code",
   "execution_count": 34,
   "id": "746311e9-ef5a-414a-aea3-1a75001df48a",
   "metadata": {},
   "outputs": [
    {
     "data": {
      "text/plain": [
       "7"
      ]
     },
     "execution_count": 34,
     "metadata": {},
     "output_type": "execute_result"
    }
   ],
   "source": [
    "df_copy[\"Order ID\"].isnull().sum()"
   ]
  },
  {
   "cell_type": "code",
   "execution_count": 37,
   "id": "6a568bc6-5477-4c78-bc5d-72c70ce025d3",
   "metadata": {},
   "outputs": [
    {
     "data": {
      "text/html": [
       "<div>\n",
       "<style scoped>\n",
       "    .dataframe tbody tr th:only-of-type {\n",
       "        vertical-align: middle;\n",
       "    }\n",
       "\n",
       "    .dataframe tbody tr th {\n",
       "        vertical-align: top;\n",
       "    }\n",
       "\n",
       "    .dataframe thead th {\n",
       "        text-align: right;\n",
       "    }\n",
       "</style>\n",
       "<table border=\"1\" class=\"dataframe\">\n",
       "  <thead>\n",
       "    <tr style=\"text-align: right;\">\n",
       "      <th></th>\n",
       "      <th>Order ID</th>\n",
       "      <th>Order Date</th>\n",
       "      <th>Customer ID</th>\n",
       "      <th>Customer Name</th>\n",
       "      <th>City</th>\n",
       "      <th>Region</th>\n",
       "      <th>Category</th>\n",
       "      <th>Quantity</th>\n",
       "      <th>Sales</th>\n",
       "      <th>Profit</th>\n",
       "    </tr>\n",
       "  </thead>\n",
       "  <tbody>\n",
       "    <tr>\n",
       "      <th>26</th>\n",
       "      <td>NaN</td>\n",
       "      <td>NaN</td>\n",
       "      <td>CUST-1026</td>\n",
       "      <td>Glenn Gonzalez</td>\n",
       "      <td>Port Kristinview</td>\n",
       "      <td>South</td>\n",
       "      <td>Furniture</td>\n",
       "      <td>6.0</td>\n",
       "      <td>75.28</td>\n",
       "      <td>-77.45</td>\n",
       "    </tr>\n",
       "    <tr>\n",
       "      <th>31</th>\n",
       "      <td>NaN</td>\n",
       "      <td>02-04-2024</td>\n",
       "      <td>CUST-1031</td>\n",
       "      <td>Lisa Dominguez</td>\n",
       "      <td>Port Victoria</td>\n",
       "      <td>East</td>\n",
       "      <td>Office Supplies</td>\n",
       "      <td>NaN</td>\n",
       "      <td>707.11</td>\n",
       "      <td>118.88</td>\n",
       "    </tr>\n",
       "    <tr>\n",
       "      <th>35</th>\n",
       "      <td>NaN</td>\n",
       "      <td>10-04-2025</td>\n",
       "      <td>CUST-1035</td>\n",
       "      <td>Cesar Campbell</td>\n",
       "      <td>South James</td>\n",
       "      <td>NaN</td>\n",
       "      <td>Office Supplies</td>\n",
       "      <td>10.0</td>\n",
       "      <td>734.29</td>\n",
       "      <td>70.03</td>\n",
       "    </tr>\n",
       "    <tr>\n",
       "      <th>37</th>\n",
       "      <td>NaN</td>\n",
       "      <td>15-05-2025</td>\n",
       "      <td>CUST-1037</td>\n",
       "      <td>Kristin Johnson</td>\n",
       "      <td>Cynthiafurt</td>\n",
       "      <td>East</td>\n",
       "      <td>Furniture</td>\n",
       "      <td>1.0</td>\n",
       "      <td>754.20</td>\n",
       "      <td>174.73</td>\n",
       "    </tr>\n",
       "    <tr>\n",
       "      <th>45</th>\n",
       "      <td>NaN</td>\n",
       "      <td>NaN</td>\n",
       "      <td>CUST-1045</td>\n",
       "      <td>Nancy Fisher</td>\n",
       "      <td>Lake Maryhaven</td>\n",
       "      <td>West</td>\n",
       "      <td>Technology</td>\n",
       "      <td>2.0</td>\n",
       "      <td>847.45</td>\n",
       "      <td>161.73</td>\n",
       "    </tr>\n",
       "    <tr>\n",
       "      <th>54</th>\n",
       "      <td>NaN</td>\n",
       "      <td>29-01-2025</td>\n",
       "      <td>CUST-1054</td>\n",
       "      <td>Jeffrey Barry</td>\n",
       "      <td>West Marieville</td>\n",
       "      <td>NaN</td>\n",
       "      <td>Office Supplies</td>\n",
       "      <td>2.0</td>\n",
       "      <td>396.97</td>\n",
       "      <td>194.35</td>\n",
       "    </tr>\n",
       "    <tr>\n",
       "      <th>59</th>\n",
       "      <td>NaN</td>\n",
       "      <td>03-02-2025</td>\n",
       "      <td>CUST-1059</td>\n",
       "      <td>Mary Bush</td>\n",
       "      <td>North Craigbury</td>\n",
       "      <td>East</td>\n",
       "      <td>Furniture</td>\n",
       "      <td>5.0</td>\n",
       "      <td>742.43</td>\n",
       "      <td>-44.92</td>\n",
       "    </tr>\n",
       "  </tbody>\n",
       "</table>\n",
       "</div>"
      ],
      "text/plain": [
       "   Order ID  Order Date Customer ID    Customer Name              City Region  \\\n",
       "26      NaN         NaN   CUST-1026   Glenn Gonzalez  Port Kristinview  South   \n",
       "31      NaN  02-04-2024   CUST-1031   Lisa Dominguez     Port Victoria   East   \n",
       "35      NaN  10-04-2025   CUST-1035   Cesar Campbell       South James    NaN   \n",
       "37      NaN  15-05-2025   CUST-1037  Kristin Johnson       Cynthiafurt   East   \n",
       "45      NaN         NaN   CUST-1045     Nancy Fisher    Lake Maryhaven   West   \n",
       "54      NaN  29-01-2025   CUST-1054    Jeffrey Barry   West Marieville    NaN   \n",
       "59      NaN  03-02-2025   CUST-1059        Mary Bush   North Craigbury   East   \n",
       "\n",
       "           Category  Quantity   Sales  Profit  \n",
       "26        Furniture       6.0   75.28  -77.45  \n",
       "31  Office Supplies       NaN  707.11  118.88  \n",
       "35  Office Supplies      10.0  734.29   70.03  \n",
       "37        Furniture       1.0  754.20  174.73  \n",
       "45       Technology       2.0  847.45  161.73  \n",
       "54  Office Supplies       2.0  396.97  194.35  \n",
       "59        Furniture       5.0  742.43  -44.92  "
      ]
     },
     "execution_count": 37,
     "metadata": {},
     "output_type": "execute_result"
    }
   ],
   "source": [
    "df_copy[df_copy[\"Order ID\"].isnull()]"
   ]
  },
  {
   "cell_type": "code",
   "execution_count": 8,
   "id": "5941cdd3-2969-41b7-b3e1-c584e147e9f8",
   "metadata": {},
   "outputs": [],
   "source": [
    "df_copy[\"Order ID\"] = df_copy[\"Order ID\"].fillna(\"Unknown\")"
   ]
  },
  {
   "cell_type": "code",
   "execution_count": 12,
   "id": "4818be34-c647-4ffd-8a0a-a760b725b125",
   "metadata": {},
   "outputs": [
    {
     "data": {
      "text/html": [
       "<div>\n",
       "<style scoped>\n",
       "    .dataframe tbody tr th:only-of-type {\n",
       "        vertical-align: middle;\n",
       "    }\n",
       "\n",
       "    .dataframe tbody tr th {\n",
       "        vertical-align: top;\n",
       "    }\n",
       "\n",
       "    .dataframe thead th {\n",
       "        text-align: right;\n",
       "    }\n",
       "</style>\n",
       "<table border=\"1\" class=\"dataframe\">\n",
       "  <thead>\n",
       "    <tr style=\"text-align: right;\">\n",
       "      <th></th>\n",
       "      <th>Order ID</th>\n",
       "      <th>Order Date</th>\n",
       "      <th>Customer ID</th>\n",
       "      <th>Customer Name</th>\n",
       "      <th>City</th>\n",
       "      <th>Region</th>\n",
       "      <th>Category</th>\n",
       "      <th>Quantity</th>\n",
       "      <th>Sales</th>\n",
       "      <th>Profit</th>\n",
       "    </tr>\n",
       "  </thead>\n",
       "  <tbody>\n",
       "    <tr>\n",
       "      <th>26</th>\n",
       "      <td>Unknown</td>\n",
       "      <td>NaN</td>\n",
       "      <td>CUST-1026</td>\n",
       "      <td>Glenn Gonzalez</td>\n",
       "      <td>Port Kristinview</td>\n",
       "      <td>South</td>\n",
       "      <td>Furniture</td>\n",
       "      <td>6.0</td>\n",
       "      <td>75.28</td>\n",
       "      <td>-77.45</td>\n",
       "    </tr>\n",
       "    <tr>\n",
       "      <th>31</th>\n",
       "      <td>Unknown</td>\n",
       "      <td>02-04-2024</td>\n",
       "      <td>CUST-1031</td>\n",
       "      <td>Lisa Dominguez</td>\n",
       "      <td>Port Victoria</td>\n",
       "      <td>East</td>\n",
       "      <td>Office Supplies</td>\n",
       "      <td>NaN</td>\n",
       "      <td>707.11</td>\n",
       "      <td>118.88</td>\n",
       "    </tr>\n",
       "    <tr>\n",
       "      <th>35</th>\n",
       "      <td>Unknown</td>\n",
       "      <td>10-04-2025</td>\n",
       "      <td>CUST-1035</td>\n",
       "      <td>Cesar Campbell</td>\n",
       "      <td>South James</td>\n",
       "      <td>NaN</td>\n",
       "      <td>Office Supplies</td>\n",
       "      <td>10.0</td>\n",
       "      <td>734.29</td>\n",
       "      <td>70.03</td>\n",
       "    </tr>\n",
       "    <tr>\n",
       "      <th>37</th>\n",
       "      <td>Unknown</td>\n",
       "      <td>15-05-2025</td>\n",
       "      <td>CUST-1037</td>\n",
       "      <td>Kristin Johnson</td>\n",
       "      <td>Cynthiafurt</td>\n",
       "      <td>East</td>\n",
       "      <td>Furniture</td>\n",
       "      <td>1.0</td>\n",
       "      <td>754.20</td>\n",
       "      <td>174.73</td>\n",
       "    </tr>\n",
       "    <tr>\n",
       "      <th>45</th>\n",
       "      <td>Unknown</td>\n",
       "      <td>NaN</td>\n",
       "      <td>CUST-1045</td>\n",
       "      <td>Nancy Fisher</td>\n",
       "      <td>Lake Maryhaven</td>\n",
       "      <td>West</td>\n",
       "      <td>Technology</td>\n",
       "      <td>2.0</td>\n",
       "      <td>847.45</td>\n",
       "      <td>161.73</td>\n",
       "    </tr>\n",
       "    <tr>\n",
       "      <th>54</th>\n",
       "      <td>Unknown</td>\n",
       "      <td>29-01-2025</td>\n",
       "      <td>CUST-1054</td>\n",
       "      <td>Jeffrey Barry</td>\n",
       "      <td>West Marieville</td>\n",
       "      <td>NaN</td>\n",
       "      <td>Office Supplies</td>\n",
       "      <td>2.0</td>\n",
       "      <td>396.97</td>\n",
       "      <td>194.35</td>\n",
       "    </tr>\n",
       "    <tr>\n",
       "      <th>59</th>\n",
       "      <td>Unknown</td>\n",
       "      <td>03-02-2025</td>\n",
       "      <td>CUST-1059</td>\n",
       "      <td>Mary Bush</td>\n",
       "      <td>North Craigbury</td>\n",
       "      <td>East</td>\n",
       "      <td>Furniture</td>\n",
       "      <td>5.0</td>\n",
       "      <td>742.43</td>\n",
       "      <td>-44.92</td>\n",
       "    </tr>\n",
       "  </tbody>\n",
       "</table>\n",
       "</div>"
      ],
      "text/plain": [
       "   Order ID  Order Date Customer ID    Customer Name              City Region  \\\n",
       "26  Unknown         NaN   CUST-1026   Glenn Gonzalez  Port Kristinview  South   \n",
       "31  Unknown  02-04-2024   CUST-1031   Lisa Dominguez     Port Victoria   East   \n",
       "35  Unknown  10-04-2025   CUST-1035   Cesar Campbell       South James    NaN   \n",
       "37  Unknown  15-05-2025   CUST-1037  Kristin Johnson       Cynthiafurt   East   \n",
       "45  Unknown         NaN   CUST-1045     Nancy Fisher    Lake Maryhaven   West   \n",
       "54  Unknown  29-01-2025   CUST-1054    Jeffrey Barry   West Marieville    NaN   \n",
       "59  Unknown  03-02-2025   CUST-1059        Mary Bush   North Craigbury   East   \n",
       "\n",
       "           Category  Quantity   Sales  Profit  \n",
       "26        Furniture       6.0   75.28  -77.45  \n",
       "31  Office Supplies       NaN  707.11  118.88  \n",
       "35  Office Supplies      10.0  734.29   70.03  \n",
       "37        Furniture       1.0  754.20  174.73  \n",
       "45       Technology       2.0  847.45  161.73  \n",
       "54  Office Supplies       2.0  396.97  194.35  \n",
       "59        Furniture       5.0  742.43  -44.92  "
      ]
     },
     "execution_count": 12,
     "metadata": {},
     "output_type": "execute_result"
    }
   ],
   "source": [
    "df_copy[df_copy[\"Order ID\"] == \"Unknown\"]"
   ]
  },
  {
   "cell_type": "markdown",
   "id": "f61d36f6-647c-4fc9-80a9-5fbd63f5a9a1",
   "metadata": {},
   "source": [
    "#### <b><font color= #FFFF00> Order ID column Analysis :"
   ]
  },
  {
   "cell_type": "markdown",
   "id": "ea40e162-6dd7-4340-9547-0e43ff90888a",
   "metadata": {},
   "source": [
    "#### <b> <font color= #ABFF00> *Step - 1 :*\n",
    "##### I am looking for any same order id is there in the column. All 93 order are having a unique id.\n",
    "#### <b> <font color= #ABFF00> *Step - 2 :*\n",
    "##### Placing every order create unique Order ID. So, there is no possible to relate with any columns to fill the relative data for the missing value.\n",
    "#### <b> <font color= #ABFF00> *Conclusion :*\n",
    "##### Since the Order IDs are unique and there’s no meaningful logic to derive the missing values from other columns, I have filled the null values with the placeholder `\"Unknown\"` to retain row integrity without creating misleading data."
   ]
  },
  {
   "cell_type": "code",
   "execution_count": 5,
   "id": "c0185c9a-6a0b-4a4f-bc89-899f3c781580",
   "metadata": {},
   "outputs": [
    {
     "name": "stdout",
     "output_type": "stream",
     "text": [
      "<class 'pandas.core.series.Series'>\n",
      "RangeIndex: 100 entries, 0 to 99\n",
      "Series name: Order ID\n",
      "Non-Null Count  Dtype \n",
      "--------------  ----- \n",
      "100 non-null    object\n",
      "dtypes: object(1)\n",
      "memory usage: 932.0+ bytes\n"
     ]
    }
   ],
   "source": [
    "df_copy[\"Order ID\"].info()"
   ]
  },
  {
   "cell_type": "markdown",
   "id": "020f0ca2-3ae4-4a3b-b8f2-0561e5fd5edd",
   "metadata": {},
   "source": [
    "#### <b> <font color= #FFFF00> 2 - Handling the Customer ID column :\n",
    "- ##### *Type: Object*\n",
    "- ##### *Fill_values: 94*\n",
    "- ##### *Null_values: 6*"
   ]
  },
  {
   "cell_type": "code",
   "execution_count": 45,
   "id": "4509591c-9729-45e8-a201-269b5370b86e",
   "metadata": {},
   "outputs": [
    {
     "data": {
      "text/plain": [
       "94"
      ]
     },
     "execution_count": 45,
     "metadata": {},
     "output_type": "execute_result"
    }
   ],
   "source": [
    "df_copy[\"Customer ID\"].nunique()"
   ]
  },
  {
   "cell_type": "code",
   "execution_count": 46,
   "id": "4e25cae9-50b5-446f-82d4-9f7b216eaa3c",
   "metadata": {},
   "outputs": [
    {
     "name": "stdout",
     "output_type": "stream",
     "text": [
      "<class 'pandas.core.series.Series'>\n",
      "RangeIndex: 100 entries, 0 to 99\n",
      "Series name: Customer ID\n",
      "Non-Null Count  Dtype \n",
      "--------------  ----- \n",
      "94 non-null     object\n",
      "dtypes: object(1)\n",
      "memory usage: 932.0+ bytes\n"
     ]
    }
   ],
   "source": [
    "df_copy[\"Customer ID\"].info()"
   ]
  },
  {
   "cell_type": "code",
   "execution_count": 48,
   "id": "721f8e8d-2115-427c-90c2-a09f09d8cbe0",
   "metadata": {},
   "outputs": [
    {
     "data": {
      "text/html": [
       "<div>\n",
       "<style scoped>\n",
       "    .dataframe tbody tr th:only-of-type {\n",
       "        vertical-align: middle;\n",
       "    }\n",
       "\n",
       "    .dataframe tbody tr th {\n",
       "        vertical-align: top;\n",
       "    }\n",
       "\n",
       "    .dataframe thead th {\n",
       "        text-align: right;\n",
       "    }\n",
       "</style>\n",
       "<table border=\"1\" class=\"dataframe\">\n",
       "  <thead>\n",
       "    <tr style=\"text-align: right;\">\n",
       "      <th></th>\n",
       "      <th>Order ID</th>\n",
       "      <th>Order Date</th>\n",
       "      <th>Customer ID</th>\n",
       "      <th>Customer Name</th>\n",
       "      <th>City</th>\n",
       "      <th>Region</th>\n",
       "      <th>Category</th>\n",
       "      <th>Quantity</th>\n",
       "      <th>Sales</th>\n",
       "      <th>Profit</th>\n",
       "    </tr>\n",
       "  </thead>\n",
       "  <tbody>\n",
       "    <tr>\n",
       "      <th>9</th>\n",
       "      <td>CA-2021-1009</td>\n",
       "      <td>17-06-2025</td>\n",
       "      <td>NaN</td>\n",
       "      <td>Susan Owens</td>\n",
       "      <td>West Cynthia</td>\n",
       "      <td>West</td>\n",
       "      <td>Office Supplies</td>\n",
       "      <td>3.0</td>\n",
       "      <td>126.30</td>\n",
       "      <td>105.62</td>\n",
       "    </tr>\n",
       "    <tr>\n",
       "      <th>25</th>\n",
       "      <td>CA-2021-1025</td>\n",
       "      <td>12-11-2024</td>\n",
       "      <td>NaN</td>\n",
       "      <td>Seth Brooks</td>\n",
       "      <td>Lake Stephanie</td>\n",
       "      <td>Central</td>\n",
       "      <td>Office Supplies</td>\n",
       "      <td>6.0</td>\n",
       "      <td>343.78</td>\n",
       "      <td>-42.91</td>\n",
       "    </tr>\n",
       "    <tr>\n",
       "      <th>42</th>\n",
       "      <td>CA-2021-1042</td>\n",
       "      <td>15-02-2025</td>\n",
       "      <td>NaN</td>\n",
       "      <td>Colleen Williams</td>\n",
       "      <td>Port Stephanie</td>\n",
       "      <td>Central</td>\n",
       "      <td>Office Supplies</td>\n",
       "      <td>1.0</td>\n",
       "      <td>NaN</td>\n",
       "      <td>95.02</td>\n",
       "    </tr>\n",
       "    <tr>\n",
       "      <th>84</th>\n",
       "      <td>CA-2021-1084</td>\n",
       "      <td>15-05-2024</td>\n",
       "      <td>NaN</td>\n",
       "      <td>Kimberly Simon</td>\n",
       "      <td>Port Joshuastad</td>\n",
       "      <td>NaN</td>\n",
       "      <td>Furniture</td>\n",
       "      <td>5.0</td>\n",
       "      <td>482.28</td>\n",
       "      <td>31.27</td>\n",
       "    </tr>\n",
       "    <tr>\n",
       "      <th>89</th>\n",
       "      <td>CA-2021-1089</td>\n",
       "      <td>NaN</td>\n",
       "      <td>NaN</td>\n",
       "      <td>Caitlin Chapman</td>\n",
       "      <td>Stewartland</td>\n",
       "      <td>Central</td>\n",
       "      <td>Technology</td>\n",
       "      <td>1.0</td>\n",
       "      <td>20.49</td>\n",
       "      <td>122.80</td>\n",
       "    </tr>\n",
       "    <tr>\n",
       "      <th>94</th>\n",
       "      <td>CA-2021-1094</td>\n",
       "      <td>16-10-2023</td>\n",
       "      <td>NaN</td>\n",
       "      <td>Curtis Escobar</td>\n",
       "      <td>Lake Katherine</td>\n",
       "      <td>Central</td>\n",
       "      <td>Technology</td>\n",
       "      <td>4.0</td>\n",
       "      <td>NaN</td>\n",
       "      <td>201.22</td>\n",
       "    </tr>\n",
       "  </tbody>\n",
       "</table>\n",
       "</div>"
      ],
      "text/plain": [
       "        Order ID  Order Date Customer ID     Customer Name             City  \\\n",
       "9   CA-2021-1009  17-06-2025         NaN       Susan Owens     West Cynthia   \n",
       "25  CA-2021-1025  12-11-2024         NaN       Seth Brooks   Lake Stephanie   \n",
       "42  CA-2021-1042  15-02-2025         NaN  Colleen Williams   Port Stephanie   \n",
       "84  CA-2021-1084  15-05-2024         NaN    Kimberly Simon  Port Joshuastad   \n",
       "89  CA-2021-1089         NaN         NaN   Caitlin Chapman      Stewartland   \n",
       "94  CA-2021-1094  16-10-2023         NaN    Curtis Escobar   Lake Katherine   \n",
       "\n",
       "     Region         Category  Quantity   Sales  Profit  \n",
       "9      West  Office Supplies       3.0  126.30  105.62  \n",
       "25  Central  Office Supplies       6.0  343.78  -42.91  \n",
       "42  Central  Office Supplies       1.0     NaN   95.02  \n",
       "84      NaN        Furniture       5.0  482.28   31.27  \n",
       "89  Central       Technology       1.0   20.49  122.80  \n",
       "94  Central       Technology       4.0     NaN  201.22  "
      ]
     },
     "execution_count": 48,
     "metadata": {},
     "output_type": "execute_result"
    }
   ],
   "source": [
    "df_copy[df_copy[\"Customer ID\"].isnull()]"
   ]
  },
  {
   "cell_type": "code",
   "execution_count": 9,
   "id": "e195a0b9-044d-4dc2-a0ed-bd090a22263c",
   "metadata": {},
   "outputs": [],
   "source": [
    "df_copy[\"Customer ID\"] = df_copy[\"Customer ID\"].fillna(\"Unknown\")"
   ]
  },
  {
   "cell_type": "code",
   "execution_count": 14,
   "id": "e9324db4-1a61-4f2b-b624-ed28400676fb",
   "metadata": {},
   "outputs": [
    {
     "data": {
      "text/html": [
       "<div>\n",
       "<style scoped>\n",
       "    .dataframe tbody tr th:only-of-type {\n",
       "        vertical-align: middle;\n",
       "    }\n",
       "\n",
       "    .dataframe tbody tr th {\n",
       "        vertical-align: top;\n",
       "    }\n",
       "\n",
       "    .dataframe thead th {\n",
       "        text-align: right;\n",
       "    }\n",
       "</style>\n",
       "<table border=\"1\" class=\"dataframe\">\n",
       "  <thead>\n",
       "    <tr style=\"text-align: right;\">\n",
       "      <th></th>\n",
       "      <th>Order ID</th>\n",
       "      <th>Order Date</th>\n",
       "      <th>Customer ID</th>\n",
       "      <th>Customer Name</th>\n",
       "      <th>City</th>\n",
       "      <th>Region</th>\n",
       "      <th>Category</th>\n",
       "      <th>Quantity</th>\n",
       "      <th>Sales</th>\n",
       "      <th>Profit</th>\n",
       "    </tr>\n",
       "  </thead>\n",
       "  <tbody>\n",
       "    <tr>\n",
       "      <th>9</th>\n",
       "      <td>CA-2021-1009</td>\n",
       "      <td>17-06-2025</td>\n",
       "      <td>Unknown</td>\n",
       "      <td>Susan Owens</td>\n",
       "      <td>West Cynthia</td>\n",
       "      <td>West</td>\n",
       "      <td>Office Supplies</td>\n",
       "      <td>3.0</td>\n",
       "      <td>126.30</td>\n",
       "      <td>105.62</td>\n",
       "    </tr>\n",
       "    <tr>\n",
       "      <th>25</th>\n",
       "      <td>CA-2021-1025</td>\n",
       "      <td>12-11-2024</td>\n",
       "      <td>Unknown</td>\n",
       "      <td>Seth Brooks</td>\n",
       "      <td>Lake Stephanie</td>\n",
       "      <td>Central</td>\n",
       "      <td>Office Supplies</td>\n",
       "      <td>6.0</td>\n",
       "      <td>343.78</td>\n",
       "      <td>-42.91</td>\n",
       "    </tr>\n",
       "    <tr>\n",
       "      <th>42</th>\n",
       "      <td>CA-2021-1042</td>\n",
       "      <td>15-02-2025</td>\n",
       "      <td>Unknown</td>\n",
       "      <td>Colleen Williams</td>\n",
       "      <td>Port Stephanie</td>\n",
       "      <td>Central</td>\n",
       "      <td>Office Supplies</td>\n",
       "      <td>1.0</td>\n",
       "      <td>NaN</td>\n",
       "      <td>95.02</td>\n",
       "    </tr>\n",
       "    <tr>\n",
       "      <th>84</th>\n",
       "      <td>CA-2021-1084</td>\n",
       "      <td>15-05-2024</td>\n",
       "      <td>Unknown</td>\n",
       "      <td>Kimberly Simon</td>\n",
       "      <td>Port Joshuastad</td>\n",
       "      <td>NaN</td>\n",
       "      <td>Furniture</td>\n",
       "      <td>5.0</td>\n",
       "      <td>482.28</td>\n",
       "      <td>31.27</td>\n",
       "    </tr>\n",
       "    <tr>\n",
       "      <th>89</th>\n",
       "      <td>CA-2021-1089</td>\n",
       "      <td>NaN</td>\n",
       "      <td>Unknown</td>\n",
       "      <td>Caitlin Chapman</td>\n",
       "      <td>Stewartland</td>\n",
       "      <td>Central</td>\n",
       "      <td>Technology</td>\n",
       "      <td>1.0</td>\n",
       "      <td>20.49</td>\n",
       "      <td>122.80</td>\n",
       "    </tr>\n",
       "    <tr>\n",
       "      <th>94</th>\n",
       "      <td>CA-2021-1094</td>\n",
       "      <td>16-10-2023</td>\n",
       "      <td>Unknown</td>\n",
       "      <td>Curtis Escobar</td>\n",
       "      <td>Lake Katherine</td>\n",
       "      <td>Central</td>\n",
       "      <td>Technology</td>\n",
       "      <td>4.0</td>\n",
       "      <td>NaN</td>\n",
       "      <td>201.22</td>\n",
       "    </tr>\n",
       "  </tbody>\n",
       "</table>\n",
       "</div>"
      ],
      "text/plain": [
       "        Order ID  Order Date Customer ID     Customer Name             City  \\\n",
       "9   CA-2021-1009  17-06-2025     Unknown       Susan Owens     West Cynthia   \n",
       "25  CA-2021-1025  12-11-2024     Unknown       Seth Brooks   Lake Stephanie   \n",
       "42  CA-2021-1042  15-02-2025     Unknown  Colleen Williams   Port Stephanie   \n",
       "84  CA-2021-1084  15-05-2024     Unknown    Kimberly Simon  Port Joshuastad   \n",
       "89  CA-2021-1089         NaN     Unknown   Caitlin Chapman      Stewartland   \n",
       "94  CA-2021-1094  16-10-2023     Unknown    Curtis Escobar   Lake Katherine   \n",
       "\n",
       "     Region         Category  Quantity   Sales  Profit  \n",
       "9      West  Office Supplies       3.0  126.30  105.62  \n",
       "25  Central  Office Supplies       6.0  343.78  -42.91  \n",
       "42  Central  Office Supplies       1.0     NaN   95.02  \n",
       "84      NaN        Furniture       5.0  482.28   31.27  \n",
       "89  Central       Technology       1.0   20.49  122.80  \n",
       "94  Central       Technology       4.0     NaN  201.22  "
      ]
     },
     "execution_count": 14,
     "metadata": {},
     "output_type": "execute_result"
    }
   ],
   "source": [
    "df_copy[df_copy[\"Customer ID\"] == \"Unknown\"]"
   ]
  },
  {
   "cell_type": "markdown",
   "id": "dd4b08e4-cd95-49be-97f4-0a0c84c0ebe1",
   "metadata": {},
   "source": [
    "#### <b><font color= #FFFF00> Customer ID column Analysis :"
   ]
  },
  {
   "cell_type": "markdown",
   "id": "f4c2d8b5-e5e9-4caf-b4a3-38b7a5d6e74b",
   "metadata": {},
   "source": [
    "#### <b> <font color= #ABFF00> *Step - 1 :*\n",
    "##### Checked for duplicate or repeated customer IDs to see if any customers placed multiple orders.\n",
    "##### Result: All 94 customer IDs are unique.\n",
    "#### <b> <font color= #ABFF00> *Conclusion :*\n",
    "##### Since each customer is unique, there is no way to infer the missing values from other rows or columns. Therefore, I filled the null values with the placeholder `\"Unknown\"` to retain row integrity without creating misleading assumptions."
   ]
  },
  {
   "cell_type": "code",
   "execution_count": 7,
   "id": "c8944caa-1007-41a1-b03c-9cf606240e33",
   "metadata": {},
   "outputs": [
    {
     "name": "stdout",
     "output_type": "stream",
     "text": [
      "<class 'pandas.core.series.Series'>\n",
      "RangeIndex: 100 entries, 0 to 99\n",
      "Series name: Customer ID\n",
      "Non-Null Count  Dtype \n",
      "--------------  ----- \n",
      "100 non-null    object\n",
      "dtypes: object(1)\n",
      "memory usage: 932.0+ bytes\n"
     ]
    }
   ],
   "source": [
    "df_copy[\"Customer ID\"].info()"
   ]
  },
  {
   "cell_type": "markdown",
   "id": "0b06eb3a-76c4-4c56-be26-4e883dc95b7e",
   "metadata": {},
   "source": [
    "#### <b> <font color= #FFFF00> 3 - Handling the Customer Name column :\n",
    "- ##### *Type: Object*\n",
    "- ##### *Fill_values: 97*\n",
    "- ##### *Null_values: 3*"
   ]
  },
  {
   "cell_type": "code",
   "execution_count": 52,
   "id": "107bab39-c368-458f-bd45-5379c47a19aa",
   "metadata": {},
   "outputs": [
    {
     "data": {
      "text/plain": [
       "97"
      ]
     },
     "execution_count": 52,
     "metadata": {},
     "output_type": "execute_result"
    }
   ],
   "source": [
    "df_copy[\"Customer Name\"].nunique()"
   ]
  },
  {
   "cell_type": "code",
   "execution_count": 53,
   "id": "005fbfd6-1301-41ab-8f34-d5c0048f2851",
   "metadata": {},
   "outputs": [
    {
     "name": "stdout",
     "output_type": "stream",
     "text": [
      "<class 'pandas.core.series.Series'>\n",
      "RangeIndex: 100 entries, 0 to 99\n",
      "Series name: Customer Name\n",
      "Non-Null Count  Dtype \n",
      "--------------  ----- \n",
      "97 non-null     object\n",
      "dtypes: object(1)\n",
      "memory usage: 932.0+ bytes\n"
     ]
    }
   ],
   "source": [
    "df_copy[\"Customer Name\"].info()"
   ]
  },
  {
   "cell_type": "code",
   "execution_count": 55,
   "id": "ecdb9747-493a-48fa-9035-567c647c0fef",
   "metadata": {},
   "outputs": [
    {
     "data": {
      "text/html": [
       "<div>\n",
       "<style scoped>\n",
       "    .dataframe tbody tr th:only-of-type {\n",
       "        vertical-align: middle;\n",
       "    }\n",
       "\n",
       "    .dataframe tbody tr th {\n",
       "        vertical-align: top;\n",
       "    }\n",
       "\n",
       "    .dataframe thead th {\n",
       "        text-align: right;\n",
       "    }\n",
       "</style>\n",
       "<table border=\"1\" class=\"dataframe\">\n",
       "  <thead>\n",
       "    <tr style=\"text-align: right;\">\n",
       "      <th></th>\n",
       "      <th>Order ID</th>\n",
       "      <th>Order Date</th>\n",
       "      <th>Customer ID</th>\n",
       "      <th>Customer Name</th>\n",
       "      <th>City</th>\n",
       "      <th>Region</th>\n",
       "      <th>Category</th>\n",
       "      <th>Quantity</th>\n",
       "      <th>Sales</th>\n",
       "      <th>Profit</th>\n",
       "    </tr>\n",
       "  </thead>\n",
       "  <tbody>\n",
       "    <tr>\n",
       "      <th>10</th>\n",
       "      <td>CA-2021-1010</td>\n",
       "      <td>NaN</td>\n",
       "      <td>CUST-1010</td>\n",
       "      <td>NaN</td>\n",
       "      <td>Port Melissa</td>\n",
       "      <td>Central</td>\n",
       "      <td>Office Supplies</td>\n",
       "      <td>2.0</td>\n",
       "      <td>749.34</td>\n",
       "      <td>NaN</td>\n",
       "    </tr>\n",
       "    <tr>\n",
       "      <th>14</th>\n",
       "      <td>CA-2021-1014</td>\n",
       "      <td>12-01-2025</td>\n",
       "      <td>CUST-1014</td>\n",
       "      <td>NaN</td>\n",
       "      <td>Kennethbury</td>\n",
       "      <td>West</td>\n",
       "      <td>Furniture</td>\n",
       "      <td>2.0</td>\n",
       "      <td>206.72</td>\n",
       "      <td>-92.1</td>\n",
       "    </tr>\n",
       "    <tr>\n",
       "      <th>95</th>\n",
       "      <td>CA-2021-1095</td>\n",
       "      <td>01-08-2023</td>\n",
       "      <td>CUST-1095</td>\n",
       "      <td>NaN</td>\n",
       "      <td>Lambertburgh</td>\n",
       "      <td>East</td>\n",
       "      <td>Office Supplies</td>\n",
       "      <td>6.0</td>\n",
       "      <td>215.45</td>\n",
       "      <td>-85.6</td>\n",
       "    </tr>\n",
       "  </tbody>\n",
       "</table>\n",
       "</div>"
      ],
      "text/plain": [
       "        Order ID  Order Date Customer ID Customer Name          City   Region  \\\n",
       "10  CA-2021-1010         NaN   CUST-1010           NaN  Port Melissa  Central   \n",
       "14  CA-2021-1014  12-01-2025   CUST-1014           NaN   Kennethbury     West   \n",
       "95  CA-2021-1095  01-08-2023   CUST-1095           NaN  Lambertburgh     East   \n",
       "\n",
       "           Category  Quantity   Sales  Profit  \n",
       "10  Office Supplies       2.0  749.34     NaN  \n",
       "14        Furniture       2.0  206.72   -92.1  \n",
       "95  Office Supplies       6.0  215.45   -85.6  "
      ]
     },
     "execution_count": 55,
     "metadata": {},
     "output_type": "execute_result"
    }
   ],
   "source": [
    "df_copy[df_copy[\"Customer Name\"].isnull()]"
   ]
  },
  {
   "cell_type": "code",
   "execution_count": 10,
   "id": "91425897-8b42-4dc7-a280-946e13da2348",
   "metadata": {},
   "outputs": [],
   "source": [
    "df_copy[\"Customer Name\"] = df_copy[\"Customer Name\"].fillna(\"Unknown\")"
   ]
  },
  {
   "cell_type": "code",
   "execution_count": 16,
   "id": "43372182-e1ee-45a0-88dd-0ba157e34feb",
   "metadata": {},
   "outputs": [
    {
     "data": {
      "text/html": [
       "<div>\n",
       "<style scoped>\n",
       "    .dataframe tbody tr th:only-of-type {\n",
       "        vertical-align: middle;\n",
       "    }\n",
       "\n",
       "    .dataframe tbody tr th {\n",
       "        vertical-align: top;\n",
       "    }\n",
       "\n",
       "    .dataframe thead th {\n",
       "        text-align: right;\n",
       "    }\n",
       "</style>\n",
       "<table border=\"1\" class=\"dataframe\">\n",
       "  <thead>\n",
       "    <tr style=\"text-align: right;\">\n",
       "      <th></th>\n",
       "      <th>Order ID</th>\n",
       "      <th>Order Date</th>\n",
       "      <th>Customer ID</th>\n",
       "      <th>Customer Name</th>\n",
       "      <th>City</th>\n",
       "      <th>Region</th>\n",
       "      <th>Category</th>\n",
       "      <th>Quantity</th>\n",
       "      <th>Sales</th>\n",
       "      <th>Profit</th>\n",
       "    </tr>\n",
       "  </thead>\n",
       "  <tbody>\n",
       "    <tr>\n",
       "      <th>10</th>\n",
       "      <td>CA-2021-1010</td>\n",
       "      <td>NaN</td>\n",
       "      <td>CUST-1010</td>\n",
       "      <td>Unknown</td>\n",
       "      <td>Port Melissa</td>\n",
       "      <td>Central</td>\n",
       "      <td>Office Supplies</td>\n",
       "      <td>2.0</td>\n",
       "      <td>749.34</td>\n",
       "      <td>NaN</td>\n",
       "    </tr>\n",
       "    <tr>\n",
       "      <th>14</th>\n",
       "      <td>CA-2021-1014</td>\n",
       "      <td>12-01-2025</td>\n",
       "      <td>CUST-1014</td>\n",
       "      <td>Unknown</td>\n",
       "      <td>Kennethbury</td>\n",
       "      <td>West</td>\n",
       "      <td>Furniture</td>\n",
       "      <td>2.0</td>\n",
       "      <td>206.72</td>\n",
       "      <td>-92.1</td>\n",
       "    </tr>\n",
       "    <tr>\n",
       "      <th>95</th>\n",
       "      <td>CA-2021-1095</td>\n",
       "      <td>01-08-2023</td>\n",
       "      <td>CUST-1095</td>\n",
       "      <td>Unknown</td>\n",
       "      <td>Lambertburgh</td>\n",
       "      <td>East</td>\n",
       "      <td>Office Supplies</td>\n",
       "      <td>6.0</td>\n",
       "      <td>215.45</td>\n",
       "      <td>-85.6</td>\n",
       "    </tr>\n",
       "  </tbody>\n",
       "</table>\n",
       "</div>"
      ],
      "text/plain": [
       "        Order ID  Order Date Customer ID Customer Name          City   Region  \\\n",
       "10  CA-2021-1010         NaN   CUST-1010       Unknown  Port Melissa  Central   \n",
       "14  CA-2021-1014  12-01-2025   CUST-1014       Unknown   Kennethbury     West   \n",
       "95  CA-2021-1095  01-08-2023   CUST-1095       Unknown  Lambertburgh     East   \n",
       "\n",
       "           Category  Quantity   Sales  Profit  \n",
       "10  Office Supplies       2.0  749.34     NaN  \n",
       "14        Furniture       2.0  206.72   -92.1  \n",
       "95  Office Supplies       6.0  215.45   -85.6  "
      ]
     },
     "execution_count": 16,
     "metadata": {},
     "output_type": "execute_result"
    }
   ],
   "source": [
    "df_copy[df_copy[\"Customer Name\"] == \"Unknown\"]"
   ]
  },
  {
   "cell_type": "markdown",
   "id": "d2daa956-d75c-431d-8339-6055e2edf007",
   "metadata": {},
   "source": [
    "#### <b><font color= #FFFF00> Customer Name column Analysis :"
   ]
  },
  {
   "cell_type": "markdown",
   "id": "e51900c5-183b-450f-951d-7ac2a9e31674",
   "metadata": {},
   "source": [
    "#### <b> <font color= #ABFF00> *Step - 1 :*\n",
    "##### Checked for duplicate or repeated customer names to see if any customers placed multiple orders.\n",
    "##### Result: All 97 customer names are unique.\n",
    "#### <b> <font color= #ABFF00> *Step - 2 :*\n",
    "##### Tried to relate Customer Name with Customer ID, but since all Customer IDs are also unique (except 6 missing), no reliable grouping or mapping is possible.\n",
    "#### <b> <font color= #ABFF00> *Conclusion :*\n",
    "##### As all customer names are unique and cannot be related to other identifiers, I filled the null values with the placeholder \"Unknown\" to preserve data consistency.\n",
    "#### <b> <font color= #ABFF00> *Why i did not use Forward Fill :*\n",
    "##### While forward fill is a valid approach, it can cause misleading data in this case."
   ]
  },
  {
   "cell_type": "code",
   "execution_count": 11,
   "id": "8e0e619a-f3f0-4352-b01b-48c716f00665",
   "metadata": {},
   "outputs": [
    {
     "name": "stdout",
     "output_type": "stream",
     "text": [
      "<class 'pandas.core.series.Series'>\n",
      "RangeIndex: 100 entries, 0 to 99\n",
      "Series name: Customer Name\n",
      "Non-Null Count  Dtype \n",
      "--------------  ----- \n",
      "100 non-null    object\n",
      "dtypes: object(1)\n",
      "memory usage: 932.0+ bytes\n"
     ]
    }
   ],
   "source": [
    "df_copy[\"Customer Name\"].info()"
   ]
  },
  {
   "cell_type": "code",
   "execution_count": 12,
   "id": "55ee7c29-17c0-43a9-a448-966e61394480",
   "metadata": {},
   "outputs": [
    {
     "name": "stdout",
     "output_type": "stream",
     "text": [
      "<class 'pandas.core.frame.DataFrame'>\n",
      "RangeIndex: 100 entries, 0 to 99\n",
      "Data columns (total 3 columns):\n",
      " #   Column         Non-Null Count  Dtype \n",
      "---  ------         --------------  ----- \n",
      " 0   Order ID       100 non-null    object\n",
      " 1   Customer ID    100 non-null    object\n",
      " 2   Customer Name  100 non-null    object\n",
      "dtypes: object(3)\n",
      "memory usage: 2.5+ KB\n"
     ]
    }
   ],
   "source": [
    "df_copy[[\"Order ID\", \"Customer ID\", \"Customer Name\"]].info()"
   ]
  },
  {
   "cell_type": "markdown",
   "id": "0bfe13f5-aa5b-4eb7-9671-730a82dd9678",
   "metadata": {},
   "source": [
    "### <b><font color= #ABFF00> *2 - Handling the Dates columns :*"
   ]
  },
  {
   "cell_type": "code",
   "execution_count": 13,
   "id": "8e2bd75a-b335-4fae-b3d2-48f8e286c7c7",
   "metadata": {},
   "outputs": [
    {
     "data": {
      "text/html": [
       "<div>\n",
       "<style scoped>\n",
       "    .dataframe tbody tr th:only-of-type {\n",
       "        vertical-align: middle;\n",
       "    }\n",
       "\n",
       "    .dataframe tbody tr th {\n",
       "        vertical-align: top;\n",
       "    }\n",
       "\n",
       "    .dataframe thead th {\n",
       "        text-align: right;\n",
       "    }\n",
       "</style>\n",
       "<table border=\"1\" class=\"dataframe\">\n",
       "  <thead>\n",
       "    <tr style=\"text-align: right;\">\n",
       "      <th></th>\n",
       "      <th>Order ID</th>\n",
       "      <th>Order Date</th>\n",
       "      <th>Customer ID</th>\n",
       "      <th>Customer Name</th>\n",
       "      <th>City</th>\n",
       "      <th>Region</th>\n",
       "      <th>Category</th>\n",
       "      <th>Quantity</th>\n",
       "      <th>Sales</th>\n",
       "      <th>Profit</th>\n",
       "    </tr>\n",
       "  </thead>\n",
       "  <tbody>\n",
       "    <tr>\n",
       "      <th>0</th>\n",
       "      <td>CA-2021-1000</td>\n",
       "      <td>14-02-2025</td>\n",
       "      <td>CUST-1000</td>\n",
       "      <td>Jasmine Davis</td>\n",
       "      <td>East Tony</td>\n",
       "      <td>South</td>\n",
       "      <td>Office Supplies</td>\n",
       "      <td>10.0</td>\n",
       "      <td>843.53</td>\n",
       "      <td>NaN</td>\n",
       "    </tr>\n",
       "    <tr>\n",
       "      <th>1</th>\n",
       "      <td>CA-2021-1001</td>\n",
       "      <td>01-01-2024</td>\n",
       "      <td>CUST-1001</td>\n",
       "      <td>Ryan Lambert</td>\n",
       "      <td>East Melissaberg</td>\n",
       "      <td>Central</td>\n",
       "      <td>Furniture</td>\n",
       "      <td>3.0</td>\n",
       "      <td>868.01</td>\n",
       "      <td>NaN</td>\n",
       "    </tr>\n",
       "    <tr>\n",
       "      <th>2</th>\n",
       "      <td>CA-2021-1002</td>\n",
       "      <td>04-02-2024</td>\n",
       "      <td>CUST-1002</td>\n",
       "      <td>Lisa Hickman</td>\n",
       "      <td>West Debbie</td>\n",
       "      <td>Central</td>\n",
       "      <td>Furniture</td>\n",
       "      <td>2.0</td>\n",
       "      <td>105.02</td>\n",
       "      <td>296.82</td>\n",
       "    </tr>\n",
       "    <tr>\n",
       "      <th>3</th>\n",
       "      <td>CA-2021-1003</td>\n",
       "      <td>04-08-2023</td>\n",
       "      <td>CUST-1003</td>\n",
       "      <td>Robert Smith</td>\n",
       "      <td>East Michael</td>\n",
       "      <td>West</td>\n",
       "      <td>NaN</td>\n",
       "      <td>3.0</td>\n",
       "      <td>544.25</td>\n",
       "      <td>177.81</td>\n",
       "    </tr>\n",
       "    <tr>\n",
       "      <th>4</th>\n",
       "      <td>CA-2021-1004</td>\n",
       "      <td>06-12-2024</td>\n",
       "      <td>CUST-1004</td>\n",
       "      <td>Jason Willis</td>\n",
       "      <td>Port Elizabeth</td>\n",
       "      <td>Central</td>\n",
       "      <td>Furniture</td>\n",
       "      <td>6.0</td>\n",
       "      <td>395.26</td>\n",
       "      <td>-64.67</td>\n",
       "    </tr>\n",
       "  </tbody>\n",
       "</table>\n",
       "</div>"
      ],
      "text/plain": [
       "       Order ID  Order Date Customer ID  Customer Name              City  \\\n",
       "0  CA-2021-1000  14-02-2025   CUST-1000  Jasmine Davis         East Tony   \n",
       "1  CA-2021-1001  01-01-2024   CUST-1001   Ryan Lambert  East Melissaberg   \n",
       "2  CA-2021-1002  04-02-2024   CUST-1002   Lisa Hickman       West Debbie   \n",
       "3  CA-2021-1003  04-08-2023   CUST-1003   Robert Smith      East Michael   \n",
       "4  CA-2021-1004  06-12-2024   CUST-1004   Jason Willis    Port Elizabeth   \n",
       "\n",
       "    Region         Category  Quantity   Sales  Profit  \n",
       "0    South  Office Supplies      10.0  843.53     NaN  \n",
       "1  Central        Furniture       3.0  868.01     NaN  \n",
       "2  Central        Furniture       2.0  105.02  296.82  \n",
       "3     West              NaN       3.0  544.25  177.81  \n",
       "4  Central        Furniture       6.0  395.26  -64.67  "
      ]
     },
     "execution_count": 13,
     "metadata": {},
     "output_type": "execute_result"
    }
   ],
   "source": [
    "df_date = pd.DataFrame(df_copy)\n",
    "df_date.head()"
   ]
  },
  {
   "cell_type": "markdown",
   "id": "28079732-c92d-4e51-98d3-48f750cb3b4c",
   "metadata": {},
   "source": [
    "#### <b> <font color= #FFFF00> 1 - Handling the Order Date column :\n",
    "- ##### *Type: Object*\n",
    "- ##### *Fill_values: 85*\n",
    "- ##### *Null_values: 15*"
   ]
  },
  {
   "cell_type": "code",
   "execution_count": 14,
   "id": "5d2bc1bf-b72b-4026-a504-ce895f00fad9",
   "metadata": {},
   "outputs": [],
   "source": [
    "df_date[\"Order Date\"] = pd.to_datetime(df_date[\"Order Date\"], dayfirst= True)"
   ]
  },
  {
   "cell_type": "code",
   "execution_count": 15,
   "id": "a88db0ce-201c-4467-b458-ffc16bc1a820",
   "metadata": {},
   "outputs": [
    {
     "data": {
      "text/html": [
       "<div>\n",
       "<style scoped>\n",
       "    .dataframe tbody tr th:only-of-type {\n",
       "        vertical-align: middle;\n",
       "    }\n",
       "\n",
       "    .dataframe tbody tr th {\n",
       "        vertical-align: top;\n",
       "    }\n",
       "\n",
       "    .dataframe thead th {\n",
       "        text-align: right;\n",
       "    }\n",
       "</style>\n",
       "<table border=\"1\" class=\"dataframe\">\n",
       "  <thead>\n",
       "    <tr style=\"text-align: right;\">\n",
       "      <th></th>\n",
       "      <th>Order ID</th>\n",
       "      <th>Order Date</th>\n",
       "      <th>Customer ID</th>\n",
       "      <th>Customer Name</th>\n",
       "      <th>City</th>\n",
       "      <th>Region</th>\n",
       "      <th>Category</th>\n",
       "      <th>Quantity</th>\n",
       "      <th>Sales</th>\n",
       "      <th>Profit</th>\n",
       "    </tr>\n",
       "  </thead>\n",
       "  <tbody>\n",
       "    <tr>\n",
       "      <th>0</th>\n",
       "      <td>CA-2021-1000</td>\n",
       "      <td>2025-02-14</td>\n",
       "      <td>CUST-1000</td>\n",
       "      <td>Jasmine Davis</td>\n",
       "      <td>East Tony</td>\n",
       "      <td>South</td>\n",
       "      <td>Office Supplies</td>\n",
       "      <td>10.0</td>\n",
       "      <td>843.53</td>\n",
       "      <td>NaN</td>\n",
       "    </tr>\n",
       "    <tr>\n",
       "      <th>1</th>\n",
       "      <td>CA-2021-1001</td>\n",
       "      <td>2024-01-01</td>\n",
       "      <td>CUST-1001</td>\n",
       "      <td>Ryan Lambert</td>\n",
       "      <td>East Melissaberg</td>\n",
       "      <td>Central</td>\n",
       "      <td>Furniture</td>\n",
       "      <td>3.0</td>\n",
       "      <td>868.01</td>\n",
       "      <td>NaN</td>\n",
       "    </tr>\n",
       "    <tr>\n",
       "      <th>2</th>\n",
       "      <td>CA-2021-1002</td>\n",
       "      <td>2024-02-04</td>\n",
       "      <td>CUST-1002</td>\n",
       "      <td>Lisa Hickman</td>\n",
       "      <td>West Debbie</td>\n",
       "      <td>Central</td>\n",
       "      <td>Furniture</td>\n",
       "      <td>2.0</td>\n",
       "      <td>105.02</td>\n",
       "      <td>296.82</td>\n",
       "    </tr>\n",
       "    <tr>\n",
       "      <th>3</th>\n",
       "      <td>CA-2021-1003</td>\n",
       "      <td>2023-08-04</td>\n",
       "      <td>CUST-1003</td>\n",
       "      <td>Robert Smith</td>\n",
       "      <td>East Michael</td>\n",
       "      <td>West</td>\n",
       "      <td>NaN</td>\n",
       "      <td>3.0</td>\n",
       "      <td>544.25</td>\n",
       "      <td>177.81</td>\n",
       "    </tr>\n",
       "    <tr>\n",
       "      <th>4</th>\n",
       "      <td>CA-2021-1004</td>\n",
       "      <td>2024-12-06</td>\n",
       "      <td>CUST-1004</td>\n",
       "      <td>Jason Willis</td>\n",
       "      <td>Port Elizabeth</td>\n",
       "      <td>Central</td>\n",
       "      <td>Furniture</td>\n",
       "      <td>6.0</td>\n",
       "      <td>395.26</td>\n",
       "      <td>-64.67</td>\n",
       "    </tr>\n",
       "  </tbody>\n",
       "</table>\n",
       "</div>"
      ],
      "text/plain": [
       "       Order ID Order Date Customer ID  Customer Name              City  \\\n",
       "0  CA-2021-1000 2025-02-14   CUST-1000  Jasmine Davis         East Tony   \n",
       "1  CA-2021-1001 2024-01-01   CUST-1001   Ryan Lambert  East Melissaberg   \n",
       "2  CA-2021-1002 2024-02-04   CUST-1002   Lisa Hickman       West Debbie   \n",
       "3  CA-2021-1003 2023-08-04   CUST-1003   Robert Smith      East Michael   \n",
       "4  CA-2021-1004 2024-12-06   CUST-1004   Jason Willis    Port Elizabeth   \n",
       "\n",
       "    Region         Category  Quantity   Sales  Profit  \n",
       "0    South  Office Supplies      10.0  843.53     NaN  \n",
       "1  Central        Furniture       3.0  868.01     NaN  \n",
       "2  Central        Furniture       2.0  105.02  296.82  \n",
       "3     West              NaN       3.0  544.25  177.81  \n",
       "4  Central        Furniture       6.0  395.26  -64.67  "
      ]
     },
     "execution_count": 15,
     "metadata": {},
     "output_type": "execute_result"
    }
   ],
   "source": [
    "df_date.head()"
   ]
  },
  {
   "cell_type": "code",
   "execution_count": 16,
   "id": "89f79653-40ca-4ee5-a9bb-5b9fea4512fc",
   "metadata": {},
   "outputs": [],
   "source": [
    "df_date[\"Year\"] = df_date[\"Order Date\"].dt.year"
   ]
  },
  {
   "cell_type": "code",
   "execution_count": 106,
   "id": "c4a7b3b1-ba44-4408-818b-545a52f58792",
   "metadata": {},
   "outputs": [
    {
     "data": {
      "text/html": [
       "<div>\n",
       "<style scoped>\n",
       "    .dataframe tbody tr th:only-of-type {\n",
       "        vertical-align: middle;\n",
       "    }\n",
       "\n",
       "    .dataframe tbody tr th {\n",
       "        vertical-align: top;\n",
       "    }\n",
       "\n",
       "    .dataframe thead th {\n",
       "        text-align: right;\n",
       "    }\n",
       "</style>\n",
       "<table border=\"1\" class=\"dataframe\">\n",
       "  <thead>\n",
       "    <tr style=\"text-align: right;\">\n",
       "      <th></th>\n",
       "      <th>Order ID</th>\n",
       "      <th>Order Date</th>\n",
       "      <th>Customer ID</th>\n",
       "      <th>Customer Name</th>\n",
       "      <th>City</th>\n",
       "      <th>Region</th>\n",
       "      <th>Category</th>\n",
       "      <th>Quantity</th>\n",
       "      <th>Sales</th>\n",
       "      <th>Profit</th>\n",
       "      <th>Year</th>\n",
       "    </tr>\n",
       "  </thead>\n",
       "  <tbody>\n",
       "    <tr>\n",
       "      <th>0</th>\n",
       "      <td>CA-2021-1000</td>\n",
       "      <td>2025-02-14</td>\n",
       "      <td>CUST-1000</td>\n",
       "      <td>Jasmine Davis</td>\n",
       "      <td>East Tony</td>\n",
       "      <td>South</td>\n",
       "      <td>Office Supplies</td>\n",
       "      <td>10.0</td>\n",
       "      <td>843.53</td>\n",
       "      <td>NaN</td>\n",
       "      <td>2025.0</td>\n",
       "    </tr>\n",
       "    <tr>\n",
       "      <th>1</th>\n",
       "      <td>CA-2021-1001</td>\n",
       "      <td>2024-01-01</td>\n",
       "      <td>CUST-1001</td>\n",
       "      <td>Ryan Lambert</td>\n",
       "      <td>East Melissaberg</td>\n",
       "      <td>Central</td>\n",
       "      <td>Furniture</td>\n",
       "      <td>3.0</td>\n",
       "      <td>868.01</td>\n",
       "      <td>NaN</td>\n",
       "      <td>2024.0</td>\n",
       "    </tr>\n",
       "    <tr>\n",
       "      <th>2</th>\n",
       "      <td>CA-2021-1002</td>\n",
       "      <td>2024-02-04</td>\n",
       "      <td>CUST-1002</td>\n",
       "      <td>Lisa Hickman</td>\n",
       "      <td>West Debbie</td>\n",
       "      <td>Central</td>\n",
       "      <td>Furniture</td>\n",
       "      <td>2.0</td>\n",
       "      <td>105.02</td>\n",
       "      <td>296.82</td>\n",
       "      <td>2024.0</td>\n",
       "    </tr>\n",
       "    <tr>\n",
       "      <th>3</th>\n",
       "      <td>CA-2021-1003</td>\n",
       "      <td>2023-08-04</td>\n",
       "      <td>CUST-1003</td>\n",
       "      <td>Robert Smith</td>\n",
       "      <td>East Michael</td>\n",
       "      <td>West</td>\n",
       "      <td>NaN</td>\n",
       "      <td>3.0</td>\n",
       "      <td>544.25</td>\n",
       "      <td>177.81</td>\n",
       "      <td>2023.0</td>\n",
       "    </tr>\n",
       "    <tr>\n",
       "      <th>4</th>\n",
       "      <td>CA-2021-1004</td>\n",
       "      <td>2024-12-06</td>\n",
       "      <td>CUST-1004</td>\n",
       "      <td>Jason Willis</td>\n",
       "      <td>Port Elizabeth</td>\n",
       "      <td>Central</td>\n",
       "      <td>Furniture</td>\n",
       "      <td>6.0</td>\n",
       "      <td>395.26</td>\n",
       "      <td>-64.67</td>\n",
       "      <td>2024.0</td>\n",
       "    </tr>\n",
       "  </tbody>\n",
       "</table>\n",
       "</div>"
      ],
      "text/plain": [
       "       Order ID Order Date Customer ID  Customer Name              City  \\\n",
       "0  CA-2021-1000 2025-02-14   CUST-1000  Jasmine Davis         East Tony   \n",
       "1  CA-2021-1001 2024-01-01   CUST-1001   Ryan Lambert  East Melissaberg   \n",
       "2  CA-2021-1002 2024-02-04   CUST-1002   Lisa Hickman       West Debbie   \n",
       "3  CA-2021-1003 2023-08-04   CUST-1003   Robert Smith      East Michael   \n",
       "4  CA-2021-1004 2024-12-06   CUST-1004   Jason Willis    Port Elizabeth   \n",
       "\n",
       "    Region         Category  Quantity   Sales  Profit    Year  \n",
       "0    South  Office Supplies      10.0  843.53     NaN  2025.0  \n",
       "1  Central        Furniture       3.0  868.01     NaN  2024.0  \n",
       "2  Central        Furniture       2.0  105.02  296.82  2024.0  \n",
       "3     West              NaN       3.0  544.25  177.81  2023.0  \n",
       "4  Central        Furniture       6.0  395.26  -64.67  2024.0  "
      ]
     },
     "execution_count": 106,
     "metadata": {},
     "output_type": "execute_result"
    }
   ],
   "source": [
    "df_date.head()"
   ]
  },
  {
   "cell_type": "code",
   "execution_count": 17,
   "id": "6e6e3cf8-b9f2-4d5f-955d-a9a8901ee3fd",
   "metadata": {},
   "outputs": [],
   "source": [
    "df_date[\"Month\"] = df_date[\"Order Date\"].dt.month"
   ]
  },
  {
   "cell_type": "code",
   "execution_count": 108,
   "id": "61958b01-3da9-48c6-ad44-2f322d26d5ac",
   "metadata": {},
   "outputs": [
    {
     "data": {
      "text/html": [
       "<div>\n",
       "<style scoped>\n",
       "    .dataframe tbody tr th:only-of-type {\n",
       "        vertical-align: middle;\n",
       "    }\n",
       "\n",
       "    .dataframe tbody tr th {\n",
       "        vertical-align: top;\n",
       "    }\n",
       "\n",
       "    .dataframe thead th {\n",
       "        text-align: right;\n",
       "    }\n",
       "</style>\n",
       "<table border=\"1\" class=\"dataframe\">\n",
       "  <thead>\n",
       "    <tr style=\"text-align: right;\">\n",
       "      <th></th>\n",
       "      <th>Order ID</th>\n",
       "      <th>Order Date</th>\n",
       "      <th>Customer ID</th>\n",
       "      <th>Customer Name</th>\n",
       "      <th>City</th>\n",
       "      <th>Region</th>\n",
       "      <th>Category</th>\n",
       "      <th>Quantity</th>\n",
       "      <th>Sales</th>\n",
       "      <th>Profit</th>\n",
       "      <th>Year</th>\n",
       "      <th>Month</th>\n",
       "    </tr>\n",
       "  </thead>\n",
       "  <tbody>\n",
       "    <tr>\n",
       "      <th>0</th>\n",
       "      <td>CA-2021-1000</td>\n",
       "      <td>2025-02-14</td>\n",
       "      <td>CUST-1000</td>\n",
       "      <td>Jasmine Davis</td>\n",
       "      <td>East Tony</td>\n",
       "      <td>South</td>\n",
       "      <td>Office Supplies</td>\n",
       "      <td>10.0</td>\n",
       "      <td>843.53</td>\n",
       "      <td>NaN</td>\n",
       "      <td>2025.0</td>\n",
       "      <td>2.0</td>\n",
       "    </tr>\n",
       "    <tr>\n",
       "      <th>1</th>\n",
       "      <td>CA-2021-1001</td>\n",
       "      <td>2024-01-01</td>\n",
       "      <td>CUST-1001</td>\n",
       "      <td>Ryan Lambert</td>\n",
       "      <td>East Melissaberg</td>\n",
       "      <td>Central</td>\n",
       "      <td>Furniture</td>\n",
       "      <td>3.0</td>\n",
       "      <td>868.01</td>\n",
       "      <td>NaN</td>\n",
       "      <td>2024.0</td>\n",
       "      <td>1.0</td>\n",
       "    </tr>\n",
       "    <tr>\n",
       "      <th>2</th>\n",
       "      <td>CA-2021-1002</td>\n",
       "      <td>2024-02-04</td>\n",
       "      <td>CUST-1002</td>\n",
       "      <td>Lisa Hickman</td>\n",
       "      <td>West Debbie</td>\n",
       "      <td>Central</td>\n",
       "      <td>Furniture</td>\n",
       "      <td>2.0</td>\n",
       "      <td>105.02</td>\n",
       "      <td>296.82</td>\n",
       "      <td>2024.0</td>\n",
       "      <td>2.0</td>\n",
       "    </tr>\n",
       "    <tr>\n",
       "      <th>3</th>\n",
       "      <td>CA-2021-1003</td>\n",
       "      <td>2023-08-04</td>\n",
       "      <td>CUST-1003</td>\n",
       "      <td>Robert Smith</td>\n",
       "      <td>East Michael</td>\n",
       "      <td>West</td>\n",
       "      <td>NaN</td>\n",
       "      <td>3.0</td>\n",
       "      <td>544.25</td>\n",
       "      <td>177.81</td>\n",
       "      <td>2023.0</td>\n",
       "      <td>8.0</td>\n",
       "    </tr>\n",
       "    <tr>\n",
       "      <th>4</th>\n",
       "      <td>CA-2021-1004</td>\n",
       "      <td>2024-12-06</td>\n",
       "      <td>CUST-1004</td>\n",
       "      <td>Jason Willis</td>\n",
       "      <td>Port Elizabeth</td>\n",
       "      <td>Central</td>\n",
       "      <td>Furniture</td>\n",
       "      <td>6.0</td>\n",
       "      <td>395.26</td>\n",
       "      <td>-64.67</td>\n",
       "      <td>2024.0</td>\n",
       "      <td>12.0</td>\n",
       "    </tr>\n",
       "  </tbody>\n",
       "</table>\n",
       "</div>"
      ],
      "text/plain": [
       "       Order ID Order Date Customer ID  Customer Name              City  \\\n",
       "0  CA-2021-1000 2025-02-14   CUST-1000  Jasmine Davis         East Tony   \n",
       "1  CA-2021-1001 2024-01-01   CUST-1001   Ryan Lambert  East Melissaberg   \n",
       "2  CA-2021-1002 2024-02-04   CUST-1002   Lisa Hickman       West Debbie   \n",
       "3  CA-2021-1003 2023-08-04   CUST-1003   Robert Smith      East Michael   \n",
       "4  CA-2021-1004 2024-12-06   CUST-1004   Jason Willis    Port Elizabeth   \n",
       "\n",
       "    Region         Category  Quantity   Sales  Profit    Year  Month  \n",
       "0    South  Office Supplies      10.0  843.53     NaN  2025.0    2.0  \n",
       "1  Central        Furniture       3.0  868.01     NaN  2024.0    1.0  \n",
       "2  Central        Furniture       2.0  105.02  296.82  2024.0    2.0  \n",
       "3     West              NaN       3.0  544.25  177.81  2023.0    8.0  \n",
       "4  Central        Furniture       6.0  395.26  -64.67  2024.0   12.0  "
      ]
     },
     "execution_count": 108,
     "metadata": {},
     "output_type": "execute_result"
    }
   ],
   "source": [
    "df_date.head()"
   ]
  },
  {
   "cell_type": "code",
   "execution_count": 122,
   "id": "62bcd009-b6c9-438c-8856-b2a3729d7f6d",
   "metadata": {},
   "outputs": [],
   "source": [
    "df_date[(df_date[\"Year\"] == 2023) & (df_date[\"Month\"] == 7)].count()"
   ]
  },
  {
   "cell_type": "code",
   "execution_count": null,
   "id": "84c97cf3-76dd-4a3a-94e0-d46409258964",
   "metadata": {},
   "outputs": [],
   "source": [
    "df_date[(df_date[\"Year\"] == 2023) & (df_date[\"Month\"] == 8)].count()"
   ]
  },
  {
   "cell_type": "code",
   "execution_count": null,
   "id": "c388bf87-855e-4d80-ae4b-8a2bf9ff7f68",
   "metadata": {},
   "outputs": [],
   "source": [
    "df_date[(df_date[\"Year\"] == 2023) & (df_date[\"Month\"] == 9)].count()"
   ]
  },
  {
   "cell_type": "code",
   "execution_count": null,
   "id": "6cd69733-6f29-4f56-b943-1014aaf6ea79",
   "metadata": {},
   "outputs": [],
   "source": [
    "df_date[(df_date[\"Year\"] == 2023) & (df_date[\"Month\"] == 10)].count()"
   ]
  },
  {
   "cell_type": "code",
   "execution_count": null,
   "id": "4b0708d9-9b96-44e2-95cf-37b3701ab26a",
   "metadata": {},
   "outputs": [],
   "source": [
    "df_date[(df_date[\"Year\"] == 2023) & (df_date[\"Month\"] == 11)].count()"
   ]
  },
  {
   "cell_type": "code",
   "execution_count": null,
   "id": "e66163a6-431c-4e43-94c4-9be06377a5f9",
   "metadata": {},
   "outputs": [],
   "source": [
    "df_date[(df_date[\"Year\"] == 2023) & (df_date[\"Month\"] == 12)].count()"
   ]
  },
  {
   "cell_type": "code",
   "execution_count": null,
   "id": "4150b61e-714c-47f6-a60a-6869018bdd6c",
   "metadata": {},
   "outputs": [],
   "source": [
    "df_date[(df_date[\"Year\"] == 2024) & (df_date[\"Month\"] == 1)].count()"
   ]
  },
  {
   "cell_type": "code",
   "execution_count": null,
   "id": "fd929bfb-9c2d-469a-83f6-6c15c745ce55",
   "metadata": {},
   "outputs": [],
   "source": [
    "df_date[(df_date[\"Year\"] == 2024) & (df_date[\"Month\"] == 2)].count()"
   ]
  },
  {
   "cell_type": "code",
   "execution_count": null,
   "id": "26db7e1a-a5b6-4ed1-ac34-1e2cdc936847",
   "metadata": {},
   "outputs": [],
   "source": [
    "df_date[(df_date[\"Year\"] == 2024) & (df_date[\"Month\"] == 3)].count()"
   ]
  },
  {
   "cell_type": "code",
   "execution_count": null,
   "id": "6cb7363b-b80e-45cc-a213-f85683a15d79",
   "metadata": {},
   "outputs": [],
   "source": [
    "df_date[(df_date[\"Year\"] == 2024) & (df_date[\"Month\"] == 4)].count()"
   ]
  },
  {
   "cell_type": "code",
   "execution_count": null,
   "id": "3b331680-9f0a-4883-93bd-1dfd3090de6f",
   "metadata": {},
   "outputs": [],
   "source": [
    "df_date[(df_date[\"Year\"] == 2024) & (df_date[\"Month\"] == 5)].count()"
   ]
  },
  {
   "cell_type": "code",
   "execution_count": null,
   "id": "402bfd94-66e6-4ee8-a22b-c12cb790d240",
   "metadata": {},
   "outputs": [],
   "source": [
    "df_date[(df_date[\"Year\"] == 2024) & (df_date[\"Month\"] == 6)].count()"
   ]
  },
  {
   "cell_type": "code",
   "execution_count": null,
   "id": "fa9ff61c-b2ed-45e2-ac7a-86914490c852",
   "metadata": {},
   "outputs": [],
   "source": [
    "df_date[(df_date[\"Year\"] == 2024) & (df_date[\"Month\"] == 7)].count()"
   ]
  },
  {
   "cell_type": "code",
   "execution_count": null,
   "id": "8fb6da1a-4ae3-43c4-8946-06f6af3a6c3d",
   "metadata": {},
   "outputs": [],
   "source": [
    "df_date[(df_date[\"Year\"] == 2024) & (df_date[\"Month\"] == 8)].count()"
   ]
  },
  {
   "cell_type": "code",
   "execution_count": null,
   "id": "f4bd19ba-36ad-4df6-a824-0c90cabd7e45",
   "metadata": {},
   "outputs": [],
   "source": [
    "df_date[(df_date[\"Year\"] == 2024) & (df_date[\"Month\"] == 9)].count()"
   ]
  },
  {
   "cell_type": "code",
   "execution_count": null,
   "id": "ab286c19-3751-4a20-9fab-4603337e0b2a",
   "metadata": {},
   "outputs": [],
   "source": [
    "df_date[(df_date[\"Year\"] == 2024) & (df_date[\"Month\"] == 10)].count()"
   ]
  },
  {
   "cell_type": "code",
   "execution_count": null,
   "id": "ce7d958b-3b7c-43e1-8f9e-3687a534ffa1",
   "metadata": {},
   "outputs": [],
   "source": [
    "df_date[(df_date[\"Year\"] == 2024) & (df_date[\"Month\"] == 11)].count()"
   ]
  },
  {
   "cell_type": "code",
   "execution_count": null,
   "id": "5c1d979f-ad4d-48b9-ae0c-0738199146d0",
   "metadata": {},
   "outputs": [],
   "source": [
    "df_date[(df_date[\"Year\"] == 2024) & (df_date[\"Month\"] == 12)].count()"
   ]
  },
  {
   "cell_type": "code",
   "execution_count": null,
   "id": "666daefc-8d24-459c-99dc-9c0f418ffa55",
   "metadata": {},
   "outputs": [],
   "source": [
    "df_date[(df_date[\"Year\"] == 2025) & (df_date[\"Month\"] == 1)].count()"
   ]
  },
  {
   "cell_type": "code",
   "execution_count": null,
   "id": "3173e569-961e-4c1c-8649-8b32d2a5d2fe",
   "metadata": {},
   "outputs": [],
   "source": [
    "df_date[(df_date[\"Year\"] == 2025) & (df_date[\"Month\"] == 2)].count()"
   ]
  },
  {
   "cell_type": "code",
   "execution_count": null,
   "id": "ef929f8e-7651-4037-a69f-dac7bf06103b",
   "metadata": {},
   "outputs": [],
   "source": [
    "df_date[(df_date[\"Year\"] == 2025) & (df_date[\"Month\"] == 3)].count()"
   ]
  },
  {
   "cell_type": "code",
   "execution_count": null,
   "id": "40b77377-3efb-453d-87c5-d0fc9cefe985",
   "metadata": {},
   "outputs": [],
   "source": [
    "df_date[(df_date[\"Year\"] == 2025) & (df_date[\"Month\"] == 4)].count()"
   ]
  },
  {
   "cell_type": "code",
   "execution_count": null,
   "id": "5737fabc-6e6f-4f90-9841-b5b9935060bf",
   "metadata": {},
   "outputs": [],
   "source": [
    "df_date[(df_date[\"Year\"] == 2025) & (df_date[\"Month\"] == 5)].count()"
   ]
  },
  {
   "cell_type": "code",
   "execution_count": null,
   "id": "8a6e7f3d-d626-419e-ad1e-9d10422d9c56",
   "metadata": {},
   "outputs": [],
   "source": [
    "df_date[(df_date[\"Year\"] == 2025) & (df_date[\"Month\"] == 6)].count()"
   ]
  },
  {
   "cell_type": "code",
   "execution_count": 130,
   "id": "599380c5-16b0-4e4a-86ca-329d0c67642b",
   "metadata": {},
   "outputs": [],
   "source": [
    "df_per = df_date.groupby(\"Year\").agg({\"Month\" : \"count\"})/df_date[\"Year\"].count()*100"
   ]
  },
  {
   "cell_type": "code",
   "execution_count": 132,
   "id": "1d17e1e2-8a09-43c1-96c9-bf95b830c241",
   "metadata": {},
   "outputs": [
    {
     "data": {
      "text/html": [
       "<div>\n",
       "<style scoped>\n",
       "    .dataframe tbody tr th:only-of-type {\n",
       "        vertical-align: middle;\n",
       "    }\n",
       "\n",
       "    .dataframe tbody tr th {\n",
       "        vertical-align: top;\n",
       "    }\n",
       "\n",
       "    .dataframe thead th {\n",
       "        text-align: right;\n",
       "    }\n",
       "</style>\n",
       "<table border=\"1\" class=\"dataframe\">\n",
       "  <thead>\n",
       "    <tr style=\"text-align: right;\">\n",
       "      <th></th>\n",
       "      <th>Month</th>\n",
       "    </tr>\n",
       "    <tr>\n",
       "      <th>Year</th>\n",
       "      <th></th>\n",
       "    </tr>\n",
       "  </thead>\n",
       "  <tbody>\n",
       "    <tr>\n",
       "      <th>2023.0</th>\n",
       "      <td>28.0</td>\n",
       "    </tr>\n",
       "    <tr>\n",
       "      <th>2024.0</th>\n",
       "      <td>48.0</td>\n",
       "    </tr>\n",
       "    <tr>\n",
       "      <th>2025.0</th>\n",
       "      <td>24.0</td>\n",
       "    </tr>\n",
       "  </tbody>\n",
       "</table>\n",
       "</div>"
      ],
      "text/plain": [
       "        Month\n",
       "Year         \n",
       "2023.0   28.0\n",
       "2024.0   48.0\n",
       "2025.0   24.0"
      ]
     },
     "execution_count": 132,
     "metadata": {},
     "output_type": "execute_result"
    }
   ],
   "source": [
    "round(df_per)"
   ]
  },
  {
   "cell_type": "code",
   "execution_count": 109,
   "id": "9293c16a-482f-4220-b987-8f0dcdab9267",
   "metadata": {},
   "outputs": [
    {
     "data": {
      "text/html": [
       "<div>\n",
       "<style scoped>\n",
       "    .dataframe tbody tr th:only-of-type {\n",
       "        vertical-align: middle;\n",
       "    }\n",
       "\n",
       "    .dataframe tbody tr th {\n",
       "        vertical-align: top;\n",
       "    }\n",
       "\n",
       "    .dataframe thead th {\n",
       "        text-align: right;\n",
       "    }\n",
       "</style>\n",
       "<table border=\"1\" class=\"dataframe\">\n",
       "  <thead>\n",
       "    <tr style=\"text-align: right;\">\n",
       "      <th></th>\n",
       "      <th>Order ID</th>\n",
       "      <th>Order Date</th>\n",
       "      <th>Customer ID</th>\n",
       "      <th>Customer Name</th>\n",
       "      <th>City</th>\n",
       "      <th>Region</th>\n",
       "      <th>Category</th>\n",
       "      <th>Quantity</th>\n",
       "      <th>Sales</th>\n",
       "      <th>Profit</th>\n",
       "      <th>Year</th>\n",
       "      <th>Month</th>\n",
       "    </tr>\n",
       "  </thead>\n",
       "  <tbody>\n",
       "    <tr>\n",
       "      <th>6</th>\n",
       "      <td>CA-2021-1006</td>\n",
       "      <td>NaT</td>\n",
       "      <td>CUST-1006</td>\n",
       "      <td>Brandi Taylor</td>\n",
       "      <td>Parkermouth</td>\n",
       "      <td>Central</td>\n",
       "      <td>Furniture</td>\n",
       "      <td>4.0</td>\n",
       "      <td>710.76</td>\n",
       "      <td>-57.05</td>\n",
       "      <td>NaN</td>\n",
       "      <td>NaN</td>\n",
       "    </tr>\n",
       "    <tr>\n",
       "      <th>10</th>\n",
       "      <td>CA-2021-1010</td>\n",
       "      <td>NaT</td>\n",
       "      <td>CUST-1010</td>\n",
       "      <td>Unknown</td>\n",
       "      <td>Port Melissa</td>\n",
       "      <td>Central</td>\n",
       "      <td>Office Supplies</td>\n",
       "      <td>2.0</td>\n",
       "      <td>749.34</td>\n",
       "      <td>NaN</td>\n",
       "      <td>NaN</td>\n",
       "      <td>NaN</td>\n",
       "    </tr>\n",
       "    <tr>\n",
       "      <th>12</th>\n",
       "      <td>CA-2021-1012</td>\n",
       "      <td>NaT</td>\n",
       "      <td>CUST-1012</td>\n",
       "      <td>Jacob Sanders</td>\n",
       "      <td>Cathybury</td>\n",
       "      <td>West</td>\n",
       "      <td>Office Supplies</td>\n",
       "      <td>2.0</td>\n",
       "      <td>830.86</td>\n",
       "      <td>-4.60</td>\n",
       "      <td>NaN</td>\n",
       "      <td>NaN</td>\n",
       "    </tr>\n",
       "    <tr>\n",
       "      <th>19</th>\n",
       "      <td>CA-2021-1019</td>\n",
       "      <td>NaT</td>\n",
       "      <td>CUST-1019</td>\n",
       "      <td>Ryan Lang</td>\n",
       "      <td>North Joshuabury</td>\n",
       "      <td>South</td>\n",
       "      <td>Technology</td>\n",
       "      <td>4.0</td>\n",
       "      <td>209.45</td>\n",
       "      <td>147.20</td>\n",
       "      <td>NaN</td>\n",
       "      <td>NaN</td>\n",
       "    </tr>\n",
       "    <tr>\n",
       "      <th>26</th>\n",
       "      <td>Unknown</td>\n",
       "      <td>NaT</td>\n",
       "      <td>CUST-1026</td>\n",
       "      <td>Glenn Gonzalez</td>\n",
       "      <td>Port Kristinview</td>\n",
       "      <td>South</td>\n",
       "      <td>Furniture</td>\n",
       "      <td>6.0</td>\n",
       "      <td>75.28</td>\n",
       "      <td>-77.45</td>\n",
       "      <td>NaN</td>\n",
       "      <td>NaN</td>\n",
       "    </tr>\n",
       "    <tr>\n",
       "      <th>36</th>\n",
       "      <td>CA-2021-1036</td>\n",
       "      <td>NaT</td>\n",
       "      <td>CUST-1036</td>\n",
       "      <td>Susan Vazquez</td>\n",
       "      <td>Port Catherinestad</td>\n",
       "      <td>South</td>\n",
       "      <td>Technology</td>\n",
       "      <td>1.0</td>\n",
       "      <td>341.84</td>\n",
       "      <td>56.64</td>\n",
       "      <td>NaN</td>\n",
       "      <td>NaN</td>\n",
       "    </tr>\n",
       "    <tr>\n",
       "      <th>43</th>\n",
       "      <td>CA-2021-1043</td>\n",
       "      <td>NaT</td>\n",
       "      <td>CUST-1043</td>\n",
       "      <td>Michael Ross</td>\n",
       "      <td>Lake Kyleshire</td>\n",
       "      <td>West</td>\n",
       "      <td>Office Supplies</td>\n",
       "      <td>1.0</td>\n",
       "      <td>343.59</td>\n",
       "      <td>114.48</td>\n",
       "      <td>NaN</td>\n",
       "      <td>NaN</td>\n",
       "    </tr>\n",
       "    <tr>\n",
       "      <th>45</th>\n",
       "      <td>Unknown</td>\n",
       "      <td>NaT</td>\n",
       "      <td>CUST-1045</td>\n",
       "      <td>Nancy Fisher</td>\n",
       "      <td>Lake Maryhaven</td>\n",
       "      <td>West</td>\n",
       "      <td>Technology</td>\n",
       "      <td>2.0</td>\n",
       "      <td>847.45</td>\n",
       "      <td>161.73</td>\n",
       "      <td>NaN</td>\n",
       "      <td>NaN</td>\n",
       "    </tr>\n",
       "    <tr>\n",
       "      <th>48</th>\n",
       "      <td>CA-2021-1048</td>\n",
       "      <td>NaT</td>\n",
       "      <td>CUST-1048</td>\n",
       "      <td>Michelle Butler</td>\n",
       "      <td>North Brittany</td>\n",
       "      <td>East</td>\n",
       "      <td>Office Supplies</td>\n",
       "      <td>4.0</td>\n",
       "      <td>95.91</td>\n",
       "      <td>107.47</td>\n",
       "      <td>NaN</td>\n",
       "      <td>NaN</td>\n",
       "    </tr>\n",
       "    <tr>\n",
       "      <th>53</th>\n",
       "      <td>CA-2021-1053</td>\n",
       "      <td>NaT</td>\n",
       "      <td>CUST-1053</td>\n",
       "      <td>Rebecca Scott</td>\n",
       "      <td>Brownmouth</td>\n",
       "      <td>West</td>\n",
       "      <td>NaN</td>\n",
       "      <td>8.0</td>\n",
       "      <td>210.09</td>\n",
       "      <td>-54.80</td>\n",
       "      <td>NaN</td>\n",
       "      <td>NaN</td>\n",
       "    </tr>\n",
       "    <tr>\n",
       "      <th>57</th>\n",
       "      <td>CA-2021-1057</td>\n",
       "      <td>NaT</td>\n",
       "      <td>CUST-1057</td>\n",
       "      <td>Jonathan Flores</td>\n",
       "      <td>Englishtown</td>\n",
       "      <td>East</td>\n",
       "      <td>Technology</td>\n",
       "      <td>8.0</td>\n",
       "      <td>263.34</td>\n",
       "      <td>47.95</td>\n",
       "      <td>NaN</td>\n",
       "      <td>NaN</td>\n",
       "    </tr>\n",
       "    <tr>\n",
       "      <th>62</th>\n",
       "      <td>CA-2021-1062</td>\n",
       "      <td>NaT</td>\n",
       "      <td>CUST-1062</td>\n",
       "      <td>Timothy Willis</td>\n",
       "      <td>Lake Desiree</td>\n",
       "      <td>East</td>\n",
       "      <td>Furniture</td>\n",
       "      <td>5.0</td>\n",
       "      <td>350.74</td>\n",
       "      <td>159.66</td>\n",
       "      <td>NaN</td>\n",
       "      <td>NaN</td>\n",
       "    </tr>\n",
       "    <tr>\n",
       "      <th>74</th>\n",
       "      <td>CA-2021-1074</td>\n",
       "      <td>NaT</td>\n",
       "      <td>CUST-1074</td>\n",
       "      <td>Stephen Shields</td>\n",
       "      <td>West Sharonport</td>\n",
       "      <td>Central</td>\n",
       "      <td>Office Supplies</td>\n",
       "      <td>3.0</td>\n",
       "      <td>854.32</td>\n",
       "      <td>195.81</td>\n",
       "      <td>NaN</td>\n",
       "      <td>NaN</td>\n",
       "    </tr>\n",
       "    <tr>\n",
       "      <th>89</th>\n",
       "      <td>CA-2021-1089</td>\n",
       "      <td>NaT</td>\n",
       "      <td>Unknown</td>\n",
       "      <td>Caitlin Chapman</td>\n",
       "      <td>Stewartland</td>\n",
       "      <td>Central</td>\n",
       "      <td>Technology</td>\n",
       "      <td>1.0</td>\n",
       "      <td>20.49</td>\n",
       "      <td>122.80</td>\n",
       "      <td>NaN</td>\n",
       "      <td>NaN</td>\n",
       "    </tr>\n",
       "    <tr>\n",
       "      <th>99</th>\n",
       "      <td>CA-2021-1099</td>\n",
       "      <td>NaT</td>\n",
       "      <td>CUST-1099</td>\n",
       "      <td>Lisa Calderon</td>\n",
       "      <td>Matthewbury</td>\n",
       "      <td>East</td>\n",
       "      <td>Technology</td>\n",
       "      <td>1.0</td>\n",
       "      <td>800.25</td>\n",
       "      <td>158.23</td>\n",
       "      <td>NaN</td>\n",
       "      <td>NaN</td>\n",
       "    </tr>\n",
       "  </tbody>\n",
       "</table>\n",
       "</div>"
      ],
      "text/plain": [
       "        Order ID Order Date Customer ID    Customer Name                City  \\\n",
       "6   CA-2021-1006        NaT   CUST-1006    Brandi Taylor         Parkermouth   \n",
       "10  CA-2021-1010        NaT   CUST-1010          Unknown        Port Melissa   \n",
       "12  CA-2021-1012        NaT   CUST-1012    Jacob Sanders           Cathybury   \n",
       "19  CA-2021-1019        NaT   CUST-1019        Ryan Lang    North Joshuabury   \n",
       "26       Unknown        NaT   CUST-1026   Glenn Gonzalez    Port Kristinview   \n",
       "36  CA-2021-1036        NaT   CUST-1036    Susan Vazquez  Port Catherinestad   \n",
       "43  CA-2021-1043        NaT   CUST-1043     Michael Ross      Lake Kyleshire   \n",
       "45       Unknown        NaT   CUST-1045     Nancy Fisher      Lake Maryhaven   \n",
       "48  CA-2021-1048        NaT   CUST-1048  Michelle Butler      North Brittany   \n",
       "53  CA-2021-1053        NaT   CUST-1053    Rebecca Scott          Brownmouth   \n",
       "57  CA-2021-1057        NaT   CUST-1057  Jonathan Flores         Englishtown   \n",
       "62  CA-2021-1062        NaT   CUST-1062   Timothy Willis        Lake Desiree   \n",
       "74  CA-2021-1074        NaT   CUST-1074  Stephen Shields     West Sharonport   \n",
       "89  CA-2021-1089        NaT     Unknown  Caitlin Chapman         Stewartland   \n",
       "99  CA-2021-1099        NaT   CUST-1099    Lisa Calderon         Matthewbury   \n",
       "\n",
       "     Region         Category  Quantity   Sales  Profit  Year  Month  \n",
       "6   Central        Furniture       4.0  710.76  -57.05   NaN    NaN  \n",
       "10  Central  Office Supplies       2.0  749.34     NaN   NaN    NaN  \n",
       "12     West  Office Supplies       2.0  830.86   -4.60   NaN    NaN  \n",
       "19    South       Technology       4.0  209.45  147.20   NaN    NaN  \n",
       "26    South        Furniture       6.0   75.28  -77.45   NaN    NaN  \n",
       "36    South       Technology       1.0  341.84   56.64   NaN    NaN  \n",
       "43     West  Office Supplies       1.0  343.59  114.48   NaN    NaN  \n",
       "45     West       Technology       2.0  847.45  161.73   NaN    NaN  \n",
       "48     East  Office Supplies       4.0   95.91  107.47   NaN    NaN  \n",
       "53     West              NaN       8.0  210.09  -54.80   NaN    NaN  \n",
       "57     East       Technology       8.0  263.34   47.95   NaN    NaN  \n",
       "62     East        Furniture       5.0  350.74  159.66   NaN    NaN  \n",
       "74  Central  Office Supplies       3.0  854.32  195.81   NaN    NaN  \n",
       "89  Central       Technology       1.0   20.49  122.80   NaN    NaN  \n",
       "99     East       Technology       1.0  800.25  158.23   NaN    NaN  "
      ]
     },
     "execution_count": 109,
     "metadata": {},
     "output_type": "execute_result"
    }
   ],
   "source": [
    "df_date[df_date[\"Order Date\"].isnull()]"
   ]
  },
  {
   "cell_type": "code",
   "execution_count": 18,
   "id": "10e9005a-6f60-4e0e-af83-78a22de4d38b",
   "metadata": {},
   "outputs": [],
   "source": [
    "df_date.at[6, \"Order Date\"] = \"01-01-2024\""
   ]
  },
  {
   "cell_type": "code",
   "execution_count": 19,
   "id": "ca0107a5-0712-40bc-90f4-d1a8c7a1adbf",
   "metadata": {},
   "outputs": [],
   "source": [
    "df_date.at[89, \"Order Date\"] = \"20-04-2024\""
   ]
  },
  {
   "cell_type": "code",
   "execution_count": 20,
   "id": "96c16ff7-b22e-4889-914a-79b42708bbdc",
   "metadata": {},
   "outputs": [],
   "source": [
    "df_date.at[10, \"Order Date\"] = \"15-02-2024\""
   ]
  },
  {
   "cell_type": "code",
   "execution_count": 21,
   "id": "73f16bb1-9b6b-4931-b3a2-11b1f72a65a0",
   "metadata": {},
   "outputs": [],
   "source": [
    "df_date.at[74, \"Order Date\"] = \"12-11-2024\""
   ]
  },
  {
   "cell_type": "code",
   "execution_count": 22,
   "id": "3bffed94-8b85-43a1-9164-dc6185342e42",
   "metadata": {},
   "outputs": [],
   "source": [
    "df_date.at[12, \"Order Date\"] = \"16-12-2024\""
   ]
  },
  {
   "cell_type": "code",
   "execution_count": 23,
   "id": "62400928-7727-4e35-af43-52a915fd74fd",
   "metadata": {},
   "outputs": [],
   "source": [
    "df_date.at[45, \"Order Date\"] = \"11-04-2024\""
   ]
  },
  {
   "cell_type": "code",
   "execution_count": 24,
   "id": "fd66f77a-a439-4cb8-a10a-178a00aeee14",
   "metadata": {},
   "outputs": [],
   "source": [
    "df_date.at[43, \"Order Date\"] = \"23-09-2024\""
   ]
  },
  {
   "cell_type": "code",
   "execution_count": 25,
   "id": "c4db976b-ae43-4b29-aca6-3da66e147847",
   "metadata": {},
   "outputs": [],
   "source": [
    "df_date.at[62, \"Order Date\"] = \"01-10-2024\""
   ]
  },
  {
   "cell_type": "code",
   "execution_count": 26,
   "id": "1f31a5be-cb51-4a0b-b0d2-6bd58c49e51b",
   "metadata": {},
   "outputs": [],
   "source": [
    "df_date.at[19, \"Order Date\"] = \"30-08-2023\""
   ]
  },
  {
   "cell_type": "code",
   "execution_count": 27,
   "id": "2ab2f59d-48f3-4b4d-9fe2-2a3aec6ff75a",
   "metadata": {},
   "outputs": [],
   "source": [
    "df_date.at[26, \"Order Date\"] = \"13-07-2023\""
   ]
  },
  {
   "cell_type": "code",
   "execution_count": 28,
   "id": "3b0847cf-2926-42a9-9324-af53b4d47413",
   "metadata": {},
   "outputs": [],
   "source": [
    "df_date.at[36, \"Order Date\"] = \"28-10-2023\""
   ]
  },
  {
   "cell_type": "code",
   "execution_count": 29,
   "id": "4098780d-5b47-4e6a-a1f7-eb7ba9c816af",
   "metadata": {},
   "outputs": [],
   "source": [
    "df_date.at[48, \"Order Date\"] = \"01-08-2023\""
   ]
  },
  {
   "cell_type": "code",
   "execution_count": 30,
   "id": "6287e69a-0333-4f0a-997a-22c64cd78a36",
   "metadata": {},
   "outputs": [],
   "source": [
    "df_date.at[53, \"Order Date\"] = \"24-02-2025\""
   ]
  },
  {
   "cell_type": "code",
   "execution_count": 31,
   "id": "34a1bf8d-893c-4b39-a23a-fbd793f2a998",
   "metadata": {},
   "outputs": [],
   "source": [
    "df_date.at[57, \"Order Date\"] = \"15-05-2025\""
   ]
  },
  {
   "cell_type": "code",
   "execution_count": 32,
   "id": "9bf5fbb1-983a-4dd7-bab8-32e375cdfeaf",
   "metadata": {},
   "outputs": [],
   "source": [
    "df_date.at[99, \"Order Date\"] = \"23-01-2025\""
   ]
  },
  {
   "cell_type": "code",
   "execution_count": 33,
   "id": "d66c2abe-ef5c-4a43-99de-f2e2cfb058f0",
   "metadata": {},
   "outputs": [
    {
     "data": {
      "text/html": [
       "<div>\n",
       "<style scoped>\n",
       "    .dataframe tbody tr th:only-of-type {\n",
       "        vertical-align: middle;\n",
       "    }\n",
       "\n",
       "    .dataframe tbody tr th {\n",
       "        vertical-align: top;\n",
       "    }\n",
       "\n",
       "    .dataframe thead th {\n",
       "        text-align: right;\n",
       "    }\n",
       "</style>\n",
       "<table border=\"1\" class=\"dataframe\">\n",
       "  <thead>\n",
       "    <tr style=\"text-align: right;\">\n",
       "      <th></th>\n",
       "      <th>Order ID</th>\n",
       "      <th>Order Date</th>\n",
       "      <th>Customer ID</th>\n",
       "      <th>Customer Name</th>\n",
       "      <th>City</th>\n",
       "      <th>Region</th>\n",
       "      <th>Category</th>\n",
       "      <th>Quantity</th>\n",
       "      <th>Sales</th>\n",
       "      <th>Profit</th>\n",
       "      <th>Year</th>\n",
       "      <th>Month</th>\n",
       "    </tr>\n",
       "  </thead>\n",
       "  <tbody>\n",
       "    <tr>\n",
       "      <th>6</th>\n",
       "      <td>CA-2021-1006</td>\n",
       "      <td>2024-01-01</td>\n",
       "      <td>CUST-1006</td>\n",
       "      <td>Brandi Taylor</td>\n",
       "      <td>Parkermouth</td>\n",
       "      <td>Central</td>\n",
       "      <td>Furniture</td>\n",
       "      <td>4.0</td>\n",
       "      <td>710.76</td>\n",
       "      <td>-57.05</td>\n",
       "      <td>NaN</td>\n",
       "      <td>NaN</td>\n",
       "    </tr>\n",
       "    <tr>\n",
       "      <th>10</th>\n",
       "      <td>CA-2021-1010</td>\n",
       "      <td>2024-02-15</td>\n",
       "      <td>CUST-1010</td>\n",
       "      <td>Unknown</td>\n",
       "      <td>Port Melissa</td>\n",
       "      <td>Central</td>\n",
       "      <td>Office Supplies</td>\n",
       "      <td>2.0</td>\n",
       "      <td>749.34</td>\n",
       "      <td>NaN</td>\n",
       "      <td>NaN</td>\n",
       "      <td>NaN</td>\n",
       "    </tr>\n",
       "    <tr>\n",
       "      <th>12</th>\n",
       "      <td>CA-2021-1012</td>\n",
       "      <td>2024-12-16</td>\n",
       "      <td>CUST-1012</td>\n",
       "      <td>Jacob Sanders</td>\n",
       "      <td>Cathybury</td>\n",
       "      <td>West</td>\n",
       "      <td>Office Supplies</td>\n",
       "      <td>2.0</td>\n",
       "      <td>830.86</td>\n",
       "      <td>-4.60</td>\n",
       "      <td>NaN</td>\n",
       "      <td>NaN</td>\n",
       "    </tr>\n",
       "    <tr>\n",
       "      <th>19</th>\n",
       "      <td>CA-2021-1019</td>\n",
       "      <td>2023-08-30</td>\n",
       "      <td>CUST-1019</td>\n",
       "      <td>Ryan Lang</td>\n",
       "      <td>North Joshuabury</td>\n",
       "      <td>South</td>\n",
       "      <td>Technology</td>\n",
       "      <td>4.0</td>\n",
       "      <td>209.45</td>\n",
       "      <td>147.20</td>\n",
       "      <td>NaN</td>\n",
       "      <td>NaN</td>\n",
       "    </tr>\n",
       "    <tr>\n",
       "      <th>26</th>\n",
       "      <td>Unknown</td>\n",
       "      <td>2023-07-13</td>\n",
       "      <td>CUST-1026</td>\n",
       "      <td>Glenn Gonzalez</td>\n",
       "      <td>Port Kristinview</td>\n",
       "      <td>South</td>\n",
       "      <td>Furniture</td>\n",
       "      <td>6.0</td>\n",
       "      <td>75.28</td>\n",
       "      <td>-77.45</td>\n",
       "      <td>NaN</td>\n",
       "      <td>NaN</td>\n",
       "    </tr>\n",
       "    <tr>\n",
       "      <th>36</th>\n",
       "      <td>CA-2021-1036</td>\n",
       "      <td>2023-10-28</td>\n",
       "      <td>CUST-1036</td>\n",
       "      <td>Susan Vazquez</td>\n",
       "      <td>Port Catherinestad</td>\n",
       "      <td>South</td>\n",
       "      <td>Technology</td>\n",
       "      <td>1.0</td>\n",
       "      <td>341.84</td>\n",
       "      <td>56.64</td>\n",
       "      <td>NaN</td>\n",
       "      <td>NaN</td>\n",
       "    </tr>\n",
       "    <tr>\n",
       "      <th>43</th>\n",
       "      <td>CA-2021-1043</td>\n",
       "      <td>2024-09-23</td>\n",
       "      <td>CUST-1043</td>\n",
       "      <td>Michael Ross</td>\n",
       "      <td>Lake Kyleshire</td>\n",
       "      <td>West</td>\n",
       "      <td>Office Supplies</td>\n",
       "      <td>1.0</td>\n",
       "      <td>343.59</td>\n",
       "      <td>114.48</td>\n",
       "      <td>NaN</td>\n",
       "      <td>NaN</td>\n",
       "    </tr>\n",
       "    <tr>\n",
       "      <th>45</th>\n",
       "      <td>Unknown</td>\n",
       "      <td>2024-11-04</td>\n",
       "      <td>CUST-1045</td>\n",
       "      <td>Nancy Fisher</td>\n",
       "      <td>Lake Maryhaven</td>\n",
       "      <td>West</td>\n",
       "      <td>Technology</td>\n",
       "      <td>2.0</td>\n",
       "      <td>847.45</td>\n",
       "      <td>161.73</td>\n",
       "      <td>NaN</td>\n",
       "      <td>NaN</td>\n",
       "    </tr>\n",
       "    <tr>\n",
       "      <th>48</th>\n",
       "      <td>CA-2021-1048</td>\n",
       "      <td>2023-01-08</td>\n",
       "      <td>CUST-1048</td>\n",
       "      <td>Michelle Butler</td>\n",
       "      <td>North Brittany</td>\n",
       "      <td>East</td>\n",
       "      <td>Office Supplies</td>\n",
       "      <td>4.0</td>\n",
       "      <td>95.91</td>\n",
       "      <td>107.47</td>\n",
       "      <td>NaN</td>\n",
       "      <td>NaN</td>\n",
       "    </tr>\n",
       "    <tr>\n",
       "      <th>53</th>\n",
       "      <td>CA-2021-1053</td>\n",
       "      <td>2025-02-24</td>\n",
       "      <td>CUST-1053</td>\n",
       "      <td>Rebecca Scott</td>\n",
       "      <td>Brownmouth</td>\n",
       "      <td>West</td>\n",
       "      <td>NaN</td>\n",
       "      <td>8.0</td>\n",
       "      <td>210.09</td>\n",
       "      <td>-54.80</td>\n",
       "      <td>NaN</td>\n",
       "      <td>NaN</td>\n",
       "    </tr>\n",
       "    <tr>\n",
       "      <th>57</th>\n",
       "      <td>CA-2021-1057</td>\n",
       "      <td>2025-05-15</td>\n",
       "      <td>CUST-1057</td>\n",
       "      <td>Jonathan Flores</td>\n",
       "      <td>Englishtown</td>\n",
       "      <td>East</td>\n",
       "      <td>Technology</td>\n",
       "      <td>8.0</td>\n",
       "      <td>263.34</td>\n",
       "      <td>47.95</td>\n",
       "      <td>NaN</td>\n",
       "      <td>NaN</td>\n",
       "    </tr>\n",
       "    <tr>\n",
       "      <th>62</th>\n",
       "      <td>CA-2021-1062</td>\n",
       "      <td>2024-01-10</td>\n",
       "      <td>CUST-1062</td>\n",
       "      <td>Timothy Willis</td>\n",
       "      <td>Lake Desiree</td>\n",
       "      <td>East</td>\n",
       "      <td>Furniture</td>\n",
       "      <td>5.0</td>\n",
       "      <td>350.74</td>\n",
       "      <td>159.66</td>\n",
       "      <td>NaN</td>\n",
       "      <td>NaN</td>\n",
       "    </tr>\n",
       "    <tr>\n",
       "      <th>74</th>\n",
       "      <td>CA-2021-1074</td>\n",
       "      <td>2024-12-11</td>\n",
       "      <td>CUST-1074</td>\n",
       "      <td>Stephen Shields</td>\n",
       "      <td>West Sharonport</td>\n",
       "      <td>Central</td>\n",
       "      <td>Office Supplies</td>\n",
       "      <td>3.0</td>\n",
       "      <td>854.32</td>\n",
       "      <td>195.81</td>\n",
       "      <td>NaN</td>\n",
       "      <td>NaN</td>\n",
       "    </tr>\n",
       "    <tr>\n",
       "      <th>89</th>\n",
       "      <td>CA-2021-1089</td>\n",
       "      <td>2024-04-20</td>\n",
       "      <td>Unknown</td>\n",
       "      <td>Caitlin Chapman</td>\n",
       "      <td>Stewartland</td>\n",
       "      <td>Central</td>\n",
       "      <td>Technology</td>\n",
       "      <td>1.0</td>\n",
       "      <td>20.49</td>\n",
       "      <td>122.80</td>\n",
       "      <td>NaN</td>\n",
       "      <td>NaN</td>\n",
       "    </tr>\n",
       "    <tr>\n",
       "      <th>99</th>\n",
       "      <td>CA-2021-1099</td>\n",
       "      <td>2025-01-23</td>\n",
       "      <td>CUST-1099</td>\n",
       "      <td>Lisa Calderon</td>\n",
       "      <td>Matthewbury</td>\n",
       "      <td>East</td>\n",
       "      <td>Technology</td>\n",
       "      <td>1.0</td>\n",
       "      <td>800.25</td>\n",
       "      <td>158.23</td>\n",
       "      <td>NaN</td>\n",
       "      <td>NaN</td>\n",
       "    </tr>\n",
       "  </tbody>\n",
       "</table>\n",
       "</div>"
      ],
      "text/plain": [
       "        Order ID Order Date Customer ID    Customer Name                City  \\\n",
       "6   CA-2021-1006 2024-01-01   CUST-1006    Brandi Taylor         Parkermouth   \n",
       "10  CA-2021-1010 2024-02-15   CUST-1010          Unknown        Port Melissa   \n",
       "12  CA-2021-1012 2024-12-16   CUST-1012    Jacob Sanders           Cathybury   \n",
       "19  CA-2021-1019 2023-08-30   CUST-1019        Ryan Lang    North Joshuabury   \n",
       "26       Unknown 2023-07-13   CUST-1026   Glenn Gonzalez    Port Kristinview   \n",
       "36  CA-2021-1036 2023-10-28   CUST-1036    Susan Vazquez  Port Catherinestad   \n",
       "43  CA-2021-1043 2024-09-23   CUST-1043     Michael Ross      Lake Kyleshire   \n",
       "45       Unknown 2024-11-04   CUST-1045     Nancy Fisher      Lake Maryhaven   \n",
       "48  CA-2021-1048 2023-01-08   CUST-1048  Michelle Butler      North Brittany   \n",
       "53  CA-2021-1053 2025-02-24   CUST-1053    Rebecca Scott          Brownmouth   \n",
       "57  CA-2021-1057 2025-05-15   CUST-1057  Jonathan Flores         Englishtown   \n",
       "62  CA-2021-1062 2024-01-10   CUST-1062   Timothy Willis        Lake Desiree   \n",
       "74  CA-2021-1074 2024-12-11   CUST-1074  Stephen Shields     West Sharonport   \n",
       "89  CA-2021-1089 2024-04-20     Unknown  Caitlin Chapman         Stewartland   \n",
       "99  CA-2021-1099 2025-01-23   CUST-1099    Lisa Calderon         Matthewbury   \n",
       "\n",
       "     Region         Category  Quantity   Sales  Profit  Year  Month  \n",
       "6   Central        Furniture       4.0  710.76  -57.05   NaN    NaN  \n",
       "10  Central  Office Supplies       2.0  749.34     NaN   NaN    NaN  \n",
       "12     West  Office Supplies       2.0  830.86   -4.60   NaN    NaN  \n",
       "19    South       Technology       4.0  209.45  147.20   NaN    NaN  \n",
       "26    South        Furniture       6.0   75.28  -77.45   NaN    NaN  \n",
       "36    South       Technology       1.0  341.84   56.64   NaN    NaN  \n",
       "43     West  Office Supplies       1.0  343.59  114.48   NaN    NaN  \n",
       "45     West       Technology       2.0  847.45  161.73   NaN    NaN  \n",
       "48     East  Office Supplies       4.0   95.91  107.47   NaN    NaN  \n",
       "53     West              NaN       8.0  210.09  -54.80   NaN    NaN  \n",
       "57     East       Technology       8.0  263.34   47.95   NaN    NaN  \n",
       "62     East        Furniture       5.0  350.74  159.66   NaN    NaN  \n",
       "74  Central  Office Supplies       3.0  854.32  195.81   NaN    NaN  \n",
       "89  Central       Technology       1.0   20.49  122.80   NaN    NaN  \n",
       "99     East       Technology       1.0  800.25  158.23   NaN    NaN  "
      ]
     },
     "execution_count": 33,
     "metadata": {},
     "output_type": "execute_result"
    }
   ],
   "source": [
    "df_date.iloc[[6,10,12,19,26,36,43,45,48,53,57,62,74,89,99]]"
   ]
  },
  {
   "cell_type": "code",
   "execution_count": 34,
   "id": "29cdb234-ced3-4fb2-a518-e612a7ae3c94",
   "metadata": {},
   "outputs": [],
   "source": [
    "df_date.drop(\"Year\", axis= 1, inplace= True)"
   ]
  },
  {
   "cell_type": "code",
   "execution_count": 35,
   "id": "d77a557d-8463-471d-90a7-48119c230bbf",
   "metadata": {},
   "outputs": [],
   "source": [
    "df_date.drop(\"Month\", axis= 1, inplace= True)"
   ]
  },
  {
   "cell_type": "code",
   "execution_count": 36,
   "id": "080cb319-c319-4376-ac32-ab02f740a486",
   "metadata": {},
   "outputs": [
    {
     "data": {
      "text/html": [
       "<div>\n",
       "<style scoped>\n",
       "    .dataframe tbody tr th:only-of-type {\n",
       "        vertical-align: middle;\n",
       "    }\n",
       "\n",
       "    .dataframe tbody tr th {\n",
       "        vertical-align: top;\n",
       "    }\n",
       "\n",
       "    .dataframe thead th {\n",
       "        text-align: right;\n",
       "    }\n",
       "</style>\n",
       "<table border=\"1\" class=\"dataframe\">\n",
       "  <thead>\n",
       "    <tr style=\"text-align: right;\">\n",
       "      <th></th>\n",
       "      <th>Order ID</th>\n",
       "      <th>Order Date</th>\n",
       "      <th>Customer ID</th>\n",
       "      <th>Customer Name</th>\n",
       "      <th>City</th>\n",
       "      <th>Region</th>\n",
       "      <th>Category</th>\n",
       "      <th>Quantity</th>\n",
       "      <th>Sales</th>\n",
       "      <th>Profit</th>\n",
       "    </tr>\n",
       "  </thead>\n",
       "  <tbody>\n",
       "    <tr>\n",
       "      <th>0</th>\n",
       "      <td>CA-2021-1000</td>\n",
       "      <td>2025-02-14</td>\n",
       "      <td>CUST-1000</td>\n",
       "      <td>Jasmine Davis</td>\n",
       "      <td>East Tony</td>\n",
       "      <td>South</td>\n",
       "      <td>Office Supplies</td>\n",
       "      <td>10.0</td>\n",
       "      <td>843.53</td>\n",
       "      <td>NaN</td>\n",
       "    </tr>\n",
       "    <tr>\n",
       "      <th>1</th>\n",
       "      <td>CA-2021-1001</td>\n",
       "      <td>2024-01-01</td>\n",
       "      <td>CUST-1001</td>\n",
       "      <td>Ryan Lambert</td>\n",
       "      <td>East Melissaberg</td>\n",
       "      <td>Central</td>\n",
       "      <td>Furniture</td>\n",
       "      <td>3.0</td>\n",
       "      <td>868.01</td>\n",
       "      <td>NaN</td>\n",
       "    </tr>\n",
       "    <tr>\n",
       "      <th>2</th>\n",
       "      <td>CA-2021-1002</td>\n",
       "      <td>2024-02-04</td>\n",
       "      <td>CUST-1002</td>\n",
       "      <td>Lisa Hickman</td>\n",
       "      <td>West Debbie</td>\n",
       "      <td>Central</td>\n",
       "      <td>Furniture</td>\n",
       "      <td>2.0</td>\n",
       "      <td>105.02</td>\n",
       "      <td>296.82</td>\n",
       "    </tr>\n",
       "    <tr>\n",
       "      <th>3</th>\n",
       "      <td>CA-2021-1003</td>\n",
       "      <td>2023-08-04</td>\n",
       "      <td>CUST-1003</td>\n",
       "      <td>Robert Smith</td>\n",
       "      <td>East Michael</td>\n",
       "      <td>West</td>\n",
       "      <td>NaN</td>\n",
       "      <td>3.0</td>\n",
       "      <td>544.25</td>\n",
       "      <td>177.81</td>\n",
       "    </tr>\n",
       "    <tr>\n",
       "      <th>4</th>\n",
       "      <td>CA-2021-1004</td>\n",
       "      <td>2024-12-06</td>\n",
       "      <td>CUST-1004</td>\n",
       "      <td>Jason Willis</td>\n",
       "      <td>Port Elizabeth</td>\n",
       "      <td>Central</td>\n",
       "      <td>Furniture</td>\n",
       "      <td>6.0</td>\n",
       "      <td>395.26</td>\n",
       "      <td>-64.67</td>\n",
       "    </tr>\n",
       "  </tbody>\n",
       "</table>\n",
       "</div>"
      ],
      "text/plain": [
       "       Order ID Order Date Customer ID  Customer Name              City  \\\n",
       "0  CA-2021-1000 2025-02-14   CUST-1000  Jasmine Davis         East Tony   \n",
       "1  CA-2021-1001 2024-01-01   CUST-1001   Ryan Lambert  East Melissaberg   \n",
       "2  CA-2021-1002 2024-02-04   CUST-1002   Lisa Hickman       West Debbie   \n",
       "3  CA-2021-1003 2023-08-04   CUST-1003   Robert Smith      East Michael   \n",
       "4  CA-2021-1004 2024-12-06   CUST-1004   Jason Willis    Port Elizabeth   \n",
       "\n",
       "    Region         Category  Quantity   Sales  Profit  \n",
       "0    South  Office Supplies      10.0  843.53     NaN  \n",
       "1  Central        Furniture       3.0  868.01     NaN  \n",
       "2  Central        Furniture       2.0  105.02  296.82  \n",
       "3     West              NaN       3.0  544.25  177.81  \n",
       "4  Central        Furniture       6.0  395.26  -64.67  "
      ]
     },
     "execution_count": 36,
     "metadata": {},
     "output_type": "execute_result"
    }
   ],
   "source": [
    "df_date.head()"
   ]
  },
  {
   "cell_type": "markdown",
   "id": "eee8e7ef-93a9-4b30-bbfb-c2fa7279b71d",
   "metadata": {},
   "source": [
    "#### <b><font color= #FFFF00> Order Date column Analysis :"
   ]
  },
  {
   "cell_type": "markdown",
   "id": "85305604-2694-4693-905e-3ebb3c7192a5",
   "metadata": {},
   "source": [
    "#### <b> <font color= #ABFF00> *Step - 1 :*\n",
    "##### Converted `\"Order Date\"` from object to datetime64[ns] using:\n",
    "##### `df_date[\"Order Date\"] = pd.to_datetime(df_date[\"Order Date\"], dayfirst= True)`"
   ]
  },
  {
   "cell_type": "markdown",
   "id": "d0c41287-2217-4c6b-8926-a93b5e792b94",
   "metadata": {},
   "source": [
    "#### <b> <font color= #ABFF00> *Step - 2 :*\n",
    "##### Extracted `Year` and `Month` to analyze time-based distribution:\n",
    "##### `df_date[\"Year\"] = df_date[\"Order Date\"].dt.year`\n",
    "##### `df_date[\"Month\"] = df_date[\"Order Date\"].dt.month`"
   ]
  },
  {
   "cell_type": "markdown",
   "id": "8e14db3a-a24f-4db2-827b-56b46e6406da",
   "metadata": {},
   "source": [
    "#### <b> <font color= #ABFF00> *Step - 3 :*\n",
    "##### Analyzed monthly data distribution per year:\n",
    "- ##### 2023 – 24 values → spread across July to December\n",
    "- ##### 2024 – 41 values → full-year distribution\n",
    "- ##### 2025 – 20 values → Jan to June only\n",
    "##### `df_date[(df_date[\"Year\"] == 2025) & (df_date[\"Month\"] == 1)].count()`"
   ]
  },
  {
   "cell_type": "markdown",
   "id": "b1baeca3-930a-4b33-a5a7-c103067ffe86",
   "metadata": {},
   "source": [
    "#### <b> <font color= #ABFF00> *Step - 3 :*\n",
    "##### Analyzed monthly data distribution per year:\n",
    "- ##### 2023 – 24 values → spread across July to December\n",
    "- ##### 2024 – 41 values → full-year distribution\n",
    "- ##### 2025 – 20 values → Jan to June only\n",
    "##### `df_date[(df_date[\"Year\"] == 2025) & (df_date[\"Month\"] == 1)].count()`"
   ]
  },
  {
   "cell_type": "markdown",
   "id": "fc8c2551-1868-4c50-b7fe-c3379cefb85b",
   "metadata": {},
   "source": [
    "#### <b> <font color= #ABFF00> *Step - 4 :*\n",
    "##### Analyzed Region-wise breakdown for each year to match nulls with similar patterns."
   ]
  },
  {
   "cell_type": "markdown",
   "id": "c3a4287f-aec3-4b0c-a343-46f1465dcb47",
   "metadata": {},
   "source": [
    "#### <b> <font color= #ABFF00> *Step - 5 :*\n",
    "##### Calculated percentage of data filled per year:\n",
    "##### `df_date.groupby(\"Year\").agg({\"Month\" : \"count\"})/df_date[\"Year\"].count()*100`\n",
    "- ##### 2023 → 28%\n",
    "- ##### 2024 → 48%\n",
    "- ##### 2025 → 24%\n",
    "##### Used this as a guideline to decide how many nulls to fill from each year."
   ]
  },
  {
   "cell_type": "markdown",
   "id": "c1c5a456-10a7-439f-b7db-db19eca83a99",
   "metadata": {},
   "source": [
    "#### <b> <font color= #ABFF00> *Step - 6 :*\n",
    "##### Identified remaining rows with null \"Order Date\" and used Region column to match realistic values."
   ]
  },
  {
   "cell_type": "markdown",
   "id": "5d4bd88e-0322-4b86-b833-0022df0bc356",
   "metadata": {},
   "source": [
    "#### <b> <font color= #ABFF00> *Step - 7 :*\n",
    "##### Filled 15 nulls using .at[], choosing existing date patterns (Year + Month + Region).\n",
    "##### Example:\n",
    "##### `df_date.at[99, \"Order Date\"] = \"2025-01-23\"`\n",
    "- ##### 8 values from 2024 (most frequent year)\n",
    "- ##### 4 values from 2023\n",
    "- ##### 3 values from 2025"
   ]
  },
  {
   "cell_type": "markdown",
   "id": "529408c2-0629-40b9-b5dd-688de482ed00",
   "metadata": {},
   "source": [
    "#### <b> <font color= #ABFF00> *Step - 8 :*\n",
    "##### Dropped the helper columns:\n",
    "##### df_date.drop(\"Year\", axis= 1, inplace= True)\n",
    "##### df_date.drop(\"Month\", axis= 1, inplace= True)"
   ]
  },
  {
   "cell_type": "markdown",
   "id": "bde246e7-75f8-46b3-a2c6-246678b856aa",
   "metadata": {},
   "source": [
    "#### <b> <font color= #ABFF00> *Conclusion :*\n",
    "##### Rather than using random fill or forward fill, I used a smart, realistic strategy combining:\n",
    "- ##### Year/month distribution\n",
    "- ##### Regional patterns\n",
    "- ##### Data proportions\n",
    "##### This approach ensures that filled values reflect real-world business logic and don’t mislead future analysis."
   ]
  },
  {
   "cell_type": "code",
   "execution_count": 38,
   "id": "c601eaf9-3964-4260-bdec-d904f104cf11",
   "metadata": {},
   "outputs": [
    {
     "name": "stdout",
     "output_type": "stream",
     "text": [
      "<class 'pandas.core.series.Series'>\n",
      "RangeIndex: 100 entries, 0 to 99\n",
      "Series name: Order Date\n",
      "Non-Null Count  Dtype         \n",
      "--------------  -----         \n",
      "100 non-null    datetime64[ns]\n",
      "dtypes: datetime64[ns](1)\n",
      "memory usage: 932.0 bytes\n"
     ]
    }
   ],
   "source": [
    "df_date[\"Order Date\"].info()"
   ]
  },
  {
   "cell_type": "markdown",
   "id": "91d802aa-909d-449c-a766-785a7f756e00",
   "metadata": {},
   "source": [
    "### <b><font color= #ABFF00> *3 - Handling the Categorical columns :*"
   ]
  },
  {
   "cell_type": "code",
   "execution_count": 39,
   "id": "3f82ecef-f83f-4833-a210-6b0c0dbbe78d",
   "metadata": {},
   "outputs": [
    {
     "data": {
      "text/html": [
       "<div>\n",
       "<style scoped>\n",
       "    .dataframe tbody tr th:only-of-type {\n",
       "        vertical-align: middle;\n",
       "    }\n",
       "\n",
       "    .dataframe tbody tr th {\n",
       "        vertical-align: top;\n",
       "    }\n",
       "\n",
       "    .dataframe thead th {\n",
       "        text-align: right;\n",
       "    }\n",
       "</style>\n",
       "<table border=\"1\" class=\"dataframe\">\n",
       "  <thead>\n",
       "    <tr style=\"text-align: right;\">\n",
       "      <th></th>\n",
       "      <th>Order ID</th>\n",
       "      <th>Order Date</th>\n",
       "      <th>Customer ID</th>\n",
       "      <th>Customer Name</th>\n",
       "      <th>City</th>\n",
       "      <th>Region</th>\n",
       "      <th>Category</th>\n",
       "      <th>Quantity</th>\n",
       "      <th>Sales</th>\n",
       "      <th>Profit</th>\n",
       "    </tr>\n",
       "  </thead>\n",
       "  <tbody>\n",
       "    <tr>\n",
       "      <th>0</th>\n",
       "      <td>CA-2021-1000</td>\n",
       "      <td>2025-02-14</td>\n",
       "      <td>CUST-1000</td>\n",
       "      <td>Jasmine Davis</td>\n",
       "      <td>East Tony</td>\n",
       "      <td>South</td>\n",
       "      <td>Office Supplies</td>\n",
       "      <td>10.0</td>\n",
       "      <td>843.53</td>\n",
       "      <td>NaN</td>\n",
       "    </tr>\n",
       "    <tr>\n",
       "      <th>1</th>\n",
       "      <td>CA-2021-1001</td>\n",
       "      <td>2024-01-01</td>\n",
       "      <td>CUST-1001</td>\n",
       "      <td>Ryan Lambert</td>\n",
       "      <td>East Melissaberg</td>\n",
       "      <td>Central</td>\n",
       "      <td>Furniture</td>\n",
       "      <td>3.0</td>\n",
       "      <td>868.01</td>\n",
       "      <td>NaN</td>\n",
       "    </tr>\n",
       "    <tr>\n",
       "      <th>2</th>\n",
       "      <td>CA-2021-1002</td>\n",
       "      <td>2024-02-04</td>\n",
       "      <td>CUST-1002</td>\n",
       "      <td>Lisa Hickman</td>\n",
       "      <td>West Debbie</td>\n",
       "      <td>Central</td>\n",
       "      <td>Furniture</td>\n",
       "      <td>2.0</td>\n",
       "      <td>105.02</td>\n",
       "      <td>296.82</td>\n",
       "    </tr>\n",
       "    <tr>\n",
       "      <th>3</th>\n",
       "      <td>CA-2021-1003</td>\n",
       "      <td>2023-08-04</td>\n",
       "      <td>CUST-1003</td>\n",
       "      <td>Robert Smith</td>\n",
       "      <td>East Michael</td>\n",
       "      <td>West</td>\n",
       "      <td>NaN</td>\n",
       "      <td>3.0</td>\n",
       "      <td>544.25</td>\n",
       "      <td>177.81</td>\n",
       "    </tr>\n",
       "    <tr>\n",
       "      <th>4</th>\n",
       "      <td>CA-2021-1004</td>\n",
       "      <td>2024-12-06</td>\n",
       "      <td>CUST-1004</td>\n",
       "      <td>Jason Willis</td>\n",
       "      <td>Port Elizabeth</td>\n",
       "      <td>Central</td>\n",
       "      <td>Furniture</td>\n",
       "      <td>6.0</td>\n",
       "      <td>395.26</td>\n",
       "      <td>-64.67</td>\n",
       "    </tr>\n",
       "  </tbody>\n",
       "</table>\n",
       "</div>"
      ],
      "text/plain": [
       "       Order ID Order Date Customer ID  Customer Name              City  \\\n",
       "0  CA-2021-1000 2025-02-14   CUST-1000  Jasmine Davis         East Tony   \n",
       "1  CA-2021-1001 2024-01-01   CUST-1001   Ryan Lambert  East Melissaberg   \n",
       "2  CA-2021-1002 2024-02-04   CUST-1002   Lisa Hickman       West Debbie   \n",
       "3  CA-2021-1003 2023-08-04   CUST-1003   Robert Smith      East Michael   \n",
       "4  CA-2021-1004 2024-12-06   CUST-1004   Jason Willis    Port Elizabeth   \n",
       "\n",
       "    Region         Category  Quantity   Sales  Profit  \n",
       "0    South  Office Supplies      10.0  843.53     NaN  \n",
       "1  Central        Furniture       3.0  868.01     NaN  \n",
       "2  Central        Furniture       2.0  105.02  296.82  \n",
       "3     West              NaN       3.0  544.25  177.81  \n",
       "4  Central        Furniture       6.0  395.26  -64.67  "
      ]
     },
     "execution_count": 39,
     "metadata": {},
     "output_type": "execute_result"
    }
   ],
   "source": [
    "df_cat = pd.DataFrame(df_date)\n",
    "df_cat.head()"
   ]
  },
  {
   "cell_type": "markdown",
   "id": "161fda82-5f8d-4ca7-b55c-1252dc131d15",
   "metadata": {},
   "source": [
    "#### <b> <font color= #FFFF00> 1 - Handling the City column :\n",
    "- ##### *Type: Object*\n",
    "- ##### *Fill_values: 88*\n",
    "- ##### *Null_values: 12*"
   ]
  },
  {
   "cell_type": "code",
   "execution_count": 211,
   "id": "1b841a83-d626-4bbf-8300-8c7d0bd4a16e",
   "metadata": {},
   "outputs": [
    {
     "name": "stdout",
     "output_type": "stream",
     "text": [
      "<class 'pandas.core.series.Series'>\n",
      "RangeIndex: 100 entries, 0 to 99\n",
      "Series name: City\n",
      "Non-Null Count  Dtype \n",
      "--------------  ----- \n",
      "88 non-null     object\n",
      "dtypes: object(1)\n",
      "memory usage: 932.0+ bytes\n"
     ]
    }
   ],
   "source": [
    "df_cat[\"City\"].info()"
   ]
  },
  {
   "cell_type": "code",
   "execution_count": 212,
   "id": "b1f75db7-54d4-483d-87fa-ac0b491d84cd",
   "metadata": {},
   "outputs": [
    {
     "data": {
      "text/plain": [
       "88"
      ]
     },
     "execution_count": 212,
     "metadata": {},
     "output_type": "execute_result"
    }
   ],
   "source": [
    "df_cat[\"City\"].nunique()"
   ]
  },
  {
   "cell_type": "code",
   "execution_count": 213,
   "id": "52d1e04c-cfd6-475d-8ed0-4e958008589c",
   "metadata": {},
   "outputs": [
    {
     "data": {
      "text/plain": [
       "12"
      ]
     },
     "execution_count": 213,
     "metadata": {},
     "output_type": "execute_result"
    }
   ],
   "source": [
    "df_cat[\"City\"].isnull().sum()"
   ]
  },
  {
   "cell_type": "code",
   "execution_count": 214,
   "id": "b0238470-87dd-45d6-9960-32151133fb00",
   "metadata": {},
   "outputs": [
    {
     "data": {
      "text/html": [
       "<div>\n",
       "<style scoped>\n",
       "    .dataframe tbody tr th:only-of-type {\n",
       "        vertical-align: middle;\n",
       "    }\n",
       "\n",
       "    .dataframe tbody tr th {\n",
       "        vertical-align: top;\n",
       "    }\n",
       "\n",
       "    .dataframe thead th {\n",
       "        text-align: right;\n",
       "    }\n",
       "</style>\n",
       "<table border=\"1\" class=\"dataframe\">\n",
       "  <thead>\n",
       "    <tr style=\"text-align: right;\">\n",
       "      <th></th>\n",
       "      <th>Order ID</th>\n",
       "      <th>Order Date</th>\n",
       "      <th>Customer ID</th>\n",
       "      <th>Customer Name</th>\n",
       "      <th>City</th>\n",
       "      <th>Region</th>\n",
       "      <th>Category</th>\n",
       "      <th>Quantity</th>\n",
       "      <th>Sales</th>\n",
       "      <th>Profit</th>\n",
       "    </tr>\n",
       "  </thead>\n",
       "  <tbody>\n",
       "    <tr>\n",
       "      <th>17</th>\n",
       "      <td>CA-2021-1017</td>\n",
       "      <td>2024-08-20</td>\n",
       "      <td>CUST-1017</td>\n",
       "      <td>Jessica Hunt</td>\n",
       "      <td>NaN</td>\n",
       "      <td>South</td>\n",
       "      <td>Technology</td>\n",
       "      <td>7.0</td>\n",
       "      <td>30.11</td>\n",
       "      <td>195.85</td>\n",
       "    </tr>\n",
       "    <tr>\n",
       "      <th>18</th>\n",
       "      <td>CA-2021-1018</td>\n",
       "      <td>2025-06-14</td>\n",
       "      <td>CUST-1018</td>\n",
       "      <td>Pamela Gray</td>\n",
       "      <td>NaN</td>\n",
       "      <td>Central</td>\n",
       "      <td>Technology</td>\n",
       "      <td>7.0</td>\n",
       "      <td>138.49</td>\n",
       "      <td>112.02</td>\n",
       "    </tr>\n",
       "    <tr>\n",
       "      <th>22</th>\n",
       "      <td>CA-2021-1022</td>\n",
       "      <td>2023-09-28</td>\n",
       "      <td>CUST-1022</td>\n",
       "      <td>Bill Solis</td>\n",
       "      <td>NaN</td>\n",
       "      <td>South</td>\n",
       "      <td>Technology</td>\n",
       "      <td>2.0</td>\n",
       "      <td>27.27</td>\n",
       "      <td>275.28</td>\n",
       "    </tr>\n",
       "    <tr>\n",
       "      <th>27</th>\n",
       "      <td>CA-2021-1027</td>\n",
       "      <td>2023-08-03</td>\n",
       "      <td>CUST-1027</td>\n",
       "      <td>Daniel Newman</td>\n",
       "      <td>NaN</td>\n",
       "      <td>East</td>\n",
       "      <td>Technology</td>\n",
       "      <td>7.0</td>\n",
       "      <td>507.22</td>\n",
       "      <td>-39.52</td>\n",
       "    </tr>\n",
       "    <tr>\n",
       "      <th>28</th>\n",
       "      <td>CA-2021-1028</td>\n",
       "      <td>2024-11-13</td>\n",
       "      <td>CUST-1028</td>\n",
       "      <td>Patricia Harrison</td>\n",
       "      <td>NaN</td>\n",
       "      <td>Central</td>\n",
       "      <td>Furniture</td>\n",
       "      <td>8.0</td>\n",
       "      <td>247.07</td>\n",
       "      <td>279.86</td>\n",
       "    </tr>\n",
       "    <tr>\n",
       "      <th>38</th>\n",
       "      <td>CA-2021-1038</td>\n",
       "      <td>2025-01-23</td>\n",
       "      <td>CUST-1038</td>\n",
       "      <td>Andrew Rose DDS</td>\n",
       "      <td>NaN</td>\n",
       "      <td>West</td>\n",
       "      <td>Furniture</td>\n",
       "      <td>7.0</td>\n",
       "      <td>333.64</td>\n",
       "      <td>105.27</td>\n",
       "    </tr>\n",
       "    <tr>\n",
       "      <th>52</th>\n",
       "      <td>CA-2021-1052</td>\n",
       "      <td>2024-04-28</td>\n",
       "      <td>CUST-1052</td>\n",
       "      <td>Taylor Burton</td>\n",
       "      <td>NaN</td>\n",
       "      <td>West</td>\n",
       "      <td>Furniture</td>\n",
       "      <td>2.0</td>\n",
       "      <td>NaN</td>\n",
       "      <td>257.70</td>\n",
       "    </tr>\n",
       "    <tr>\n",
       "      <th>60</th>\n",
       "      <td>CA-2021-1060</td>\n",
       "      <td>2024-05-22</td>\n",
       "      <td>CUST-1060</td>\n",
       "      <td>Sarah Cook</td>\n",
       "      <td>NaN</td>\n",
       "      <td>Central</td>\n",
       "      <td>Office Supplies</td>\n",
       "      <td>8.0</td>\n",
       "      <td>802.61</td>\n",
       "      <td>118.31</td>\n",
       "    </tr>\n",
       "    <tr>\n",
       "      <th>68</th>\n",
       "      <td>CA-2021-1068</td>\n",
       "      <td>2024-07-07</td>\n",
       "      <td>CUST-1068</td>\n",
       "      <td>Jenna Acosta</td>\n",
       "      <td>NaN</td>\n",
       "      <td>West</td>\n",
       "      <td>Furniture</td>\n",
       "      <td>6.0</td>\n",
       "      <td>269.65</td>\n",
       "      <td>-72.93</td>\n",
       "    </tr>\n",
       "    <tr>\n",
       "      <th>75</th>\n",
       "      <td>CA-2021-1075</td>\n",
       "      <td>2024-11-01</td>\n",
       "      <td>CUST-1075</td>\n",
       "      <td>Patrick Lee</td>\n",
       "      <td>NaN</td>\n",
       "      <td>South</td>\n",
       "      <td>Furniture</td>\n",
       "      <td>7.0</td>\n",
       "      <td>239.38</td>\n",
       "      <td>NaN</td>\n",
       "    </tr>\n",
       "    <tr>\n",
       "      <th>83</th>\n",
       "      <td>CA-2021-1083</td>\n",
       "      <td>2023-12-26</td>\n",
       "      <td>CUST-1083</td>\n",
       "      <td>Steve Chambers</td>\n",
       "      <td>NaN</td>\n",
       "      <td>Central</td>\n",
       "      <td>Technology</td>\n",
       "      <td>5.0</td>\n",
       "      <td>511.76</td>\n",
       "      <td>121.94</td>\n",
       "    </tr>\n",
       "    <tr>\n",
       "      <th>93</th>\n",
       "      <td>CA-2021-1093</td>\n",
       "      <td>2024-11-05</td>\n",
       "      <td>CUST-1093</td>\n",
       "      <td>Jerry Carroll</td>\n",
       "      <td>NaN</td>\n",
       "      <td>East</td>\n",
       "      <td>Technology</td>\n",
       "      <td>2.0</td>\n",
       "      <td>239.63</td>\n",
       "      <td>109.38</td>\n",
       "    </tr>\n",
       "  </tbody>\n",
       "</table>\n",
       "</div>"
      ],
      "text/plain": [
       "        Order ID Order Date Customer ID      Customer Name City   Region  \\\n",
       "17  CA-2021-1017 2024-08-20   CUST-1017       Jessica Hunt  NaN    South   \n",
       "18  CA-2021-1018 2025-06-14   CUST-1018        Pamela Gray  NaN  Central   \n",
       "22  CA-2021-1022 2023-09-28   CUST-1022         Bill Solis  NaN    South   \n",
       "27  CA-2021-1027 2023-08-03   CUST-1027      Daniel Newman  NaN     East   \n",
       "28  CA-2021-1028 2024-11-13   CUST-1028  Patricia Harrison  NaN  Central   \n",
       "38  CA-2021-1038 2025-01-23   CUST-1038    Andrew Rose DDS  NaN     West   \n",
       "52  CA-2021-1052 2024-04-28   CUST-1052      Taylor Burton  NaN     West   \n",
       "60  CA-2021-1060 2024-05-22   CUST-1060         Sarah Cook  NaN  Central   \n",
       "68  CA-2021-1068 2024-07-07   CUST-1068       Jenna Acosta  NaN     West   \n",
       "75  CA-2021-1075 2024-11-01   CUST-1075        Patrick Lee  NaN    South   \n",
       "83  CA-2021-1083 2023-12-26   CUST-1083     Steve Chambers  NaN  Central   \n",
       "93  CA-2021-1093 2024-11-05   CUST-1093      Jerry Carroll  NaN     East   \n",
       "\n",
       "           Category  Quantity   Sales  Profit  \n",
       "17       Technology       7.0   30.11  195.85  \n",
       "18       Technology       7.0  138.49  112.02  \n",
       "22       Technology       2.0   27.27  275.28  \n",
       "27       Technology       7.0  507.22  -39.52  \n",
       "28        Furniture       8.0  247.07  279.86  \n",
       "38        Furniture       7.0  333.64  105.27  \n",
       "52        Furniture       2.0     NaN  257.70  \n",
       "60  Office Supplies       8.0  802.61  118.31  \n",
       "68        Furniture       6.0  269.65  -72.93  \n",
       "75        Furniture       7.0  239.38     NaN  \n",
       "83       Technology       5.0  511.76  121.94  \n",
       "93       Technology       2.0  239.63  109.38  "
      ]
     },
     "execution_count": 214,
     "metadata": {},
     "output_type": "execute_result"
    }
   ],
   "source": [
    "df_cat[df_cat[\"City\"].isnull()]"
   ]
  },
  {
   "cell_type": "code",
   "execution_count": 40,
   "id": "6734fbde-21b9-4977-8708-ad1d2ad03756",
   "metadata": {},
   "outputs": [],
   "source": [
    "df_cat[\"City\"] = df_cat[\"City\"].fillna(\"Unknown\")"
   ]
  },
  {
   "cell_type": "code",
   "execution_count": 41,
   "id": "42ba4511-51d4-4cff-b34d-e0031d74a1e7",
   "metadata": {},
   "outputs": [
    {
     "data": {
      "text/html": [
       "<div>\n",
       "<style scoped>\n",
       "    .dataframe tbody tr th:only-of-type {\n",
       "        vertical-align: middle;\n",
       "    }\n",
       "\n",
       "    .dataframe tbody tr th {\n",
       "        vertical-align: top;\n",
       "    }\n",
       "\n",
       "    .dataframe thead th {\n",
       "        text-align: right;\n",
       "    }\n",
       "</style>\n",
       "<table border=\"1\" class=\"dataframe\">\n",
       "  <thead>\n",
       "    <tr style=\"text-align: right;\">\n",
       "      <th></th>\n",
       "      <th>Order ID</th>\n",
       "      <th>Order Date</th>\n",
       "      <th>Customer ID</th>\n",
       "      <th>Customer Name</th>\n",
       "      <th>City</th>\n",
       "      <th>Region</th>\n",
       "      <th>Category</th>\n",
       "      <th>Quantity</th>\n",
       "      <th>Sales</th>\n",
       "      <th>Profit</th>\n",
       "    </tr>\n",
       "  </thead>\n",
       "  <tbody>\n",
       "    <tr>\n",
       "      <th>17</th>\n",
       "      <td>CA-2021-1017</td>\n",
       "      <td>2024-08-20</td>\n",
       "      <td>CUST-1017</td>\n",
       "      <td>Jessica Hunt</td>\n",
       "      <td>Unknown</td>\n",
       "      <td>South</td>\n",
       "      <td>Technology</td>\n",
       "      <td>7.0</td>\n",
       "      <td>30.11</td>\n",
       "      <td>195.85</td>\n",
       "    </tr>\n",
       "    <tr>\n",
       "      <th>18</th>\n",
       "      <td>CA-2021-1018</td>\n",
       "      <td>2025-06-14</td>\n",
       "      <td>CUST-1018</td>\n",
       "      <td>Pamela Gray</td>\n",
       "      <td>Unknown</td>\n",
       "      <td>Central</td>\n",
       "      <td>Technology</td>\n",
       "      <td>7.0</td>\n",
       "      <td>138.49</td>\n",
       "      <td>112.02</td>\n",
       "    </tr>\n",
       "    <tr>\n",
       "      <th>22</th>\n",
       "      <td>CA-2021-1022</td>\n",
       "      <td>2023-09-28</td>\n",
       "      <td>CUST-1022</td>\n",
       "      <td>Bill Solis</td>\n",
       "      <td>Unknown</td>\n",
       "      <td>South</td>\n",
       "      <td>Technology</td>\n",
       "      <td>2.0</td>\n",
       "      <td>27.27</td>\n",
       "      <td>275.28</td>\n",
       "    </tr>\n",
       "    <tr>\n",
       "      <th>27</th>\n",
       "      <td>CA-2021-1027</td>\n",
       "      <td>2023-08-03</td>\n",
       "      <td>CUST-1027</td>\n",
       "      <td>Daniel Newman</td>\n",
       "      <td>Unknown</td>\n",
       "      <td>East</td>\n",
       "      <td>Technology</td>\n",
       "      <td>7.0</td>\n",
       "      <td>507.22</td>\n",
       "      <td>-39.52</td>\n",
       "    </tr>\n",
       "    <tr>\n",
       "      <th>28</th>\n",
       "      <td>CA-2021-1028</td>\n",
       "      <td>2024-11-13</td>\n",
       "      <td>CUST-1028</td>\n",
       "      <td>Patricia Harrison</td>\n",
       "      <td>Unknown</td>\n",
       "      <td>Central</td>\n",
       "      <td>Furniture</td>\n",
       "      <td>8.0</td>\n",
       "      <td>247.07</td>\n",
       "      <td>279.86</td>\n",
       "    </tr>\n",
       "    <tr>\n",
       "      <th>38</th>\n",
       "      <td>CA-2021-1038</td>\n",
       "      <td>2025-01-23</td>\n",
       "      <td>CUST-1038</td>\n",
       "      <td>Andrew Rose DDS</td>\n",
       "      <td>Unknown</td>\n",
       "      <td>West</td>\n",
       "      <td>Furniture</td>\n",
       "      <td>7.0</td>\n",
       "      <td>333.64</td>\n",
       "      <td>105.27</td>\n",
       "    </tr>\n",
       "    <tr>\n",
       "      <th>52</th>\n",
       "      <td>CA-2021-1052</td>\n",
       "      <td>2024-04-28</td>\n",
       "      <td>CUST-1052</td>\n",
       "      <td>Taylor Burton</td>\n",
       "      <td>Unknown</td>\n",
       "      <td>West</td>\n",
       "      <td>Furniture</td>\n",
       "      <td>2.0</td>\n",
       "      <td>NaN</td>\n",
       "      <td>257.70</td>\n",
       "    </tr>\n",
       "    <tr>\n",
       "      <th>60</th>\n",
       "      <td>CA-2021-1060</td>\n",
       "      <td>2024-05-22</td>\n",
       "      <td>CUST-1060</td>\n",
       "      <td>Sarah Cook</td>\n",
       "      <td>Unknown</td>\n",
       "      <td>Central</td>\n",
       "      <td>Office Supplies</td>\n",
       "      <td>8.0</td>\n",
       "      <td>802.61</td>\n",
       "      <td>118.31</td>\n",
       "    </tr>\n",
       "    <tr>\n",
       "      <th>68</th>\n",
       "      <td>CA-2021-1068</td>\n",
       "      <td>2024-07-07</td>\n",
       "      <td>CUST-1068</td>\n",
       "      <td>Jenna Acosta</td>\n",
       "      <td>Unknown</td>\n",
       "      <td>West</td>\n",
       "      <td>Furniture</td>\n",
       "      <td>6.0</td>\n",
       "      <td>269.65</td>\n",
       "      <td>-72.93</td>\n",
       "    </tr>\n",
       "    <tr>\n",
       "      <th>75</th>\n",
       "      <td>CA-2021-1075</td>\n",
       "      <td>2024-11-01</td>\n",
       "      <td>CUST-1075</td>\n",
       "      <td>Patrick Lee</td>\n",
       "      <td>Unknown</td>\n",
       "      <td>South</td>\n",
       "      <td>Furniture</td>\n",
       "      <td>7.0</td>\n",
       "      <td>239.38</td>\n",
       "      <td>NaN</td>\n",
       "    </tr>\n",
       "    <tr>\n",
       "      <th>83</th>\n",
       "      <td>CA-2021-1083</td>\n",
       "      <td>2023-12-26</td>\n",
       "      <td>CUST-1083</td>\n",
       "      <td>Steve Chambers</td>\n",
       "      <td>Unknown</td>\n",
       "      <td>Central</td>\n",
       "      <td>Technology</td>\n",
       "      <td>5.0</td>\n",
       "      <td>511.76</td>\n",
       "      <td>121.94</td>\n",
       "    </tr>\n",
       "    <tr>\n",
       "      <th>93</th>\n",
       "      <td>CA-2021-1093</td>\n",
       "      <td>2024-11-05</td>\n",
       "      <td>CUST-1093</td>\n",
       "      <td>Jerry Carroll</td>\n",
       "      <td>Unknown</td>\n",
       "      <td>East</td>\n",
       "      <td>Technology</td>\n",
       "      <td>2.0</td>\n",
       "      <td>239.63</td>\n",
       "      <td>109.38</td>\n",
       "    </tr>\n",
       "  </tbody>\n",
       "</table>\n",
       "</div>"
      ],
      "text/plain": [
       "        Order ID Order Date Customer ID      Customer Name     City   Region  \\\n",
       "17  CA-2021-1017 2024-08-20   CUST-1017       Jessica Hunt  Unknown    South   \n",
       "18  CA-2021-1018 2025-06-14   CUST-1018        Pamela Gray  Unknown  Central   \n",
       "22  CA-2021-1022 2023-09-28   CUST-1022         Bill Solis  Unknown    South   \n",
       "27  CA-2021-1027 2023-08-03   CUST-1027      Daniel Newman  Unknown     East   \n",
       "28  CA-2021-1028 2024-11-13   CUST-1028  Patricia Harrison  Unknown  Central   \n",
       "38  CA-2021-1038 2025-01-23   CUST-1038    Andrew Rose DDS  Unknown     West   \n",
       "52  CA-2021-1052 2024-04-28   CUST-1052      Taylor Burton  Unknown     West   \n",
       "60  CA-2021-1060 2024-05-22   CUST-1060         Sarah Cook  Unknown  Central   \n",
       "68  CA-2021-1068 2024-07-07   CUST-1068       Jenna Acosta  Unknown     West   \n",
       "75  CA-2021-1075 2024-11-01   CUST-1075        Patrick Lee  Unknown    South   \n",
       "83  CA-2021-1083 2023-12-26   CUST-1083     Steve Chambers  Unknown  Central   \n",
       "93  CA-2021-1093 2024-11-05   CUST-1093      Jerry Carroll  Unknown     East   \n",
       "\n",
       "           Category  Quantity   Sales  Profit  \n",
       "17       Technology       7.0   30.11  195.85  \n",
       "18       Technology       7.0  138.49  112.02  \n",
       "22       Technology       2.0   27.27  275.28  \n",
       "27       Technology       7.0  507.22  -39.52  \n",
       "28        Furniture       8.0  247.07  279.86  \n",
       "38        Furniture       7.0  333.64  105.27  \n",
       "52        Furniture       2.0     NaN  257.70  \n",
       "60  Office Supplies       8.0  802.61  118.31  \n",
       "68        Furniture       6.0  269.65  -72.93  \n",
       "75        Furniture       7.0  239.38     NaN  \n",
       "83       Technology       5.0  511.76  121.94  \n",
       "93       Technology       2.0  239.63  109.38  "
      ]
     },
     "execution_count": 41,
     "metadata": {},
     "output_type": "execute_result"
    }
   ],
   "source": [
    "df_cat[df_cat[\"City\"] == \"Unknown\"]"
   ]
  },
  {
   "cell_type": "markdown",
   "id": "24c7c83c-013e-4678-bf8f-64c1bd1dfa59",
   "metadata": {},
   "source": [
    "#### <b><font color= #FFFF00> City column Analysis :"
   ]
  },
  {
   "cell_type": "markdown",
   "id": "9ed2f410-f714-42e0-a2e6-6a4160885fd9",
   "metadata": {},
   "source": [
    "#### <b> <font color= #ABFF00> *Step - 1 :*\n",
    "##### Checked Upon reviewing the `City` column, I found that all 88 filled values are unique — no city names are repeated across the dataset. Due to this uniqueness, there is no meaningful way to relate or group missing values with other categorical columns such as Region or Categorie.\n",
    "#### <b> <font color= #ABFF00> *Conclusion :*\n",
    "- ##### In this scenario, using `'Unknown'` to fill the 12 missing city values is the most appropriate and logical choice.\n",
    "- ##### Using `'Unknown'` ensures data integrity without distorting analytical results.\n",
    "#### <b> <font color= #ABFF00> *Why i did not use ffill or bfill :*\n",
    "##### Techniques like forward fill (ffill) or backward fill (bfill) would introduce unrelated or incorrect city names, leading to potential misinterpretation of the data."
   ]
  },
  {
   "cell_type": "code",
   "execution_count": 36,
   "id": "76c948c0-f59f-448a-89b1-0f739373dbc4",
   "metadata": {},
   "outputs": [
    {
     "name": "stdout",
     "output_type": "stream",
     "text": [
      "<class 'pandas.core.series.Series'>\n",
      "RangeIndex: 100 entries, 0 to 99\n",
      "Series name: City\n",
      "Non-Null Count  Dtype \n",
      "--------------  ----- \n",
      "100 non-null    object\n",
      "dtypes: object(1)\n",
      "memory usage: 932.0+ bytes\n"
     ]
    }
   ],
   "source": [
    "df_cat[\"City\"].info()"
   ]
  },
  {
   "cell_type": "markdown",
   "id": "a787d2ac-cda4-4f29-bdff-790a49cb228e",
   "metadata": {},
   "source": [
    "#### <b> <font color= #FFFF00> 2 - Handling the Region column :\n",
    "- ##### *Type: Object*\n",
    "- ##### *Fill_values: 96*\n",
    "- ##### *Null_values: 4*"
   ]
  },
  {
   "cell_type": "code",
   "execution_count": 220,
   "id": "f1d904fe-b55d-48f5-9a12-2f6eda449a75",
   "metadata": {},
   "outputs": [
    {
     "name": "stdout",
     "output_type": "stream",
     "text": [
      "<class 'pandas.core.series.Series'>\n",
      "RangeIndex: 100 entries, 0 to 99\n",
      "Series name: Region\n",
      "Non-Null Count  Dtype \n",
      "--------------  ----- \n",
      "96 non-null     object\n",
      "dtypes: object(1)\n",
      "memory usage: 932.0+ bytes\n"
     ]
    }
   ],
   "source": [
    "df_cat[\"Region\"].info()"
   ]
  },
  {
   "cell_type": "code",
   "execution_count": 230,
   "id": "62e2393e-0532-421e-aa37-178fbff0cde7",
   "metadata": {},
   "outputs": [
    {
     "data": {
      "text/plain": [
       "4"
      ]
     },
     "execution_count": 230,
     "metadata": {},
     "output_type": "execute_result"
    }
   ],
   "source": [
    "df_cat[\"Region\"].isnull().sum()"
   ]
  },
  {
   "cell_type": "code",
   "execution_count": 225,
   "id": "066d07e5-25e5-4029-bebe-1d2fd3bdebf4",
   "metadata": {},
   "outputs": [
    {
     "data": {
      "text/plain": [
       "array(['South', 'Central', 'West', 'East', nan], dtype=object)"
      ]
     },
     "execution_count": 225,
     "metadata": {},
     "output_type": "execute_result"
    }
   ],
   "source": [
    "df_cat[\"Region\"].unique()"
   ]
  },
  {
   "cell_type": "code",
   "execution_count": 227,
   "id": "fab75fe3-a331-4975-8b5a-ce0129bcf572",
   "metadata": {},
   "outputs": [
    {
     "data": {
      "text/html": [
       "<div>\n",
       "<style scoped>\n",
       "    .dataframe tbody tr th:only-of-type {\n",
       "        vertical-align: middle;\n",
       "    }\n",
       "\n",
       "    .dataframe tbody tr th {\n",
       "        vertical-align: top;\n",
       "    }\n",
       "\n",
       "    .dataframe thead th {\n",
       "        text-align: right;\n",
       "    }\n",
       "</style>\n",
       "<table border=\"1\" class=\"dataframe\">\n",
       "  <thead>\n",
       "    <tr style=\"text-align: right;\">\n",
       "      <th></th>\n",
       "      <th>Region</th>\n",
       "    </tr>\n",
       "    <tr>\n",
       "      <th>Region</th>\n",
       "      <th></th>\n",
       "    </tr>\n",
       "  </thead>\n",
       "  <tbody>\n",
       "    <tr>\n",
       "      <th>Central</th>\n",
       "      <td>26</td>\n",
       "    </tr>\n",
       "    <tr>\n",
       "      <th>East</th>\n",
       "      <td>19</td>\n",
       "    </tr>\n",
       "    <tr>\n",
       "      <th>South</th>\n",
       "      <td>28</td>\n",
       "    </tr>\n",
       "    <tr>\n",
       "      <th>West</th>\n",
       "      <td>23</td>\n",
       "    </tr>\n",
       "  </tbody>\n",
       "</table>\n",
       "</div>"
      ],
      "text/plain": [
       "         Region\n",
       "Region         \n",
       "Central      26\n",
       "East         19\n",
       "South        28\n",
       "West         23"
      ]
     },
     "execution_count": 227,
     "metadata": {},
     "output_type": "execute_result"
    }
   ],
   "source": [
    "df_cat.groupby(\"Region\").agg({\"Region\" : \"count\"})"
   ]
  },
  {
   "cell_type": "code",
   "execution_count": 233,
   "id": "b73c6b7d-dd72-4ebe-b559-5a16627e3fab",
   "metadata": {},
   "outputs": [
    {
     "data": {
      "text/html": [
       "<div>\n",
       "<style scoped>\n",
       "    .dataframe tbody tr th:only-of-type {\n",
       "        vertical-align: middle;\n",
       "    }\n",
       "\n",
       "    .dataframe tbody tr th {\n",
       "        vertical-align: top;\n",
       "    }\n",
       "\n",
       "    .dataframe thead th {\n",
       "        text-align: right;\n",
       "    }\n",
       "</style>\n",
       "<table border=\"1\" class=\"dataframe\">\n",
       "  <thead>\n",
       "    <tr style=\"text-align: right;\">\n",
       "      <th></th>\n",
       "      <th>Order ID</th>\n",
       "      <th>Order Date</th>\n",
       "      <th>Customer ID</th>\n",
       "      <th>Customer Name</th>\n",
       "      <th>City</th>\n",
       "      <th>Region</th>\n",
       "      <th>Category</th>\n",
       "      <th>Quantity</th>\n",
       "      <th>Sales</th>\n",
       "      <th>Profit</th>\n",
       "    </tr>\n",
       "  </thead>\n",
       "  <tbody>\n",
       "    <tr>\n",
       "      <th>35</th>\n",
       "      <td>Unknown</td>\n",
       "      <td>2025-04-10</td>\n",
       "      <td>CUST-1035</td>\n",
       "      <td>Cesar Campbell</td>\n",
       "      <td>South James</td>\n",
       "      <td>NaN</td>\n",
       "      <td>Office Supplies</td>\n",
       "      <td>10.0</td>\n",
       "      <td>734.29</td>\n",
       "      <td>70.03</td>\n",
       "    </tr>\n",
       "    <tr>\n",
       "      <th>54</th>\n",
       "      <td>Unknown</td>\n",
       "      <td>2025-01-29</td>\n",
       "      <td>CUST-1054</td>\n",
       "      <td>Jeffrey Barry</td>\n",
       "      <td>West Marieville</td>\n",
       "      <td>NaN</td>\n",
       "      <td>Office Supplies</td>\n",
       "      <td>2.0</td>\n",
       "      <td>396.97</td>\n",
       "      <td>194.35</td>\n",
       "    </tr>\n",
       "    <tr>\n",
       "      <th>64</th>\n",
       "      <td>CA-2021-1064</td>\n",
       "      <td>2023-08-05</td>\n",
       "      <td>CUST-1064</td>\n",
       "      <td>Donald Morgan</td>\n",
       "      <td>East Emilyview</td>\n",
       "      <td>NaN</td>\n",
       "      <td>Furniture</td>\n",
       "      <td>NaN</td>\n",
       "      <td>NaN</td>\n",
       "      <td>NaN</td>\n",
       "    </tr>\n",
       "    <tr>\n",
       "      <th>84</th>\n",
       "      <td>CA-2021-1084</td>\n",
       "      <td>2024-05-15</td>\n",
       "      <td>Unknown</td>\n",
       "      <td>Kimberly Simon</td>\n",
       "      <td>Port Joshuastad</td>\n",
       "      <td>NaN</td>\n",
       "      <td>Furniture</td>\n",
       "      <td>5.0</td>\n",
       "      <td>482.28</td>\n",
       "      <td>31.27</td>\n",
       "    </tr>\n",
       "  </tbody>\n",
       "</table>\n",
       "</div>"
      ],
      "text/plain": [
       "        Order ID Order Date Customer ID   Customer Name             City  \\\n",
       "35       Unknown 2025-04-10   CUST-1035  Cesar Campbell      South James   \n",
       "54       Unknown 2025-01-29   CUST-1054   Jeffrey Barry  West Marieville   \n",
       "64  CA-2021-1064 2023-08-05   CUST-1064   Donald Morgan   East Emilyview   \n",
       "84  CA-2021-1084 2024-05-15     Unknown  Kimberly Simon  Port Joshuastad   \n",
       "\n",
       "   Region         Category  Quantity   Sales  Profit  \n",
       "35    NaN  Office Supplies      10.0  734.29   70.03  \n",
       "54    NaN  Office Supplies       2.0  396.97  194.35  \n",
       "64    NaN        Furniture       NaN     NaN     NaN  \n",
       "84    NaN        Furniture       5.0  482.28   31.27  "
      ]
     },
     "execution_count": 233,
     "metadata": {},
     "output_type": "execute_result"
    }
   ],
   "source": [
    "df_cat[df_cat[\"Region\"].isnull()]"
   ]
  },
  {
   "cell_type": "code",
   "execution_count": 42,
   "id": "40026b79-54ec-4c98-a317-b3e9a98025b6",
   "metadata": {},
   "outputs": [],
   "source": [
    "df_cat.drop(index= 64, inplace= True)"
   ]
  },
  {
   "cell_type": "code",
   "execution_count": 50,
   "id": "08499137-b3a2-4fa0-948c-56a45522e71a",
   "metadata": {},
   "outputs": [
    {
     "data": {
      "text/html": [
       "<div>\n",
       "<style scoped>\n",
       "    .dataframe tbody tr th:only-of-type {\n",
       "        vertical-align: middle;\n",
       "    }\n",
       "\n",
       "    .dataframe tbody tr th {\n",
       "        vertical-align: top;\n",
       "    }\n",
       "\n",
       "    .dataframe thead th {\n",
       "        text-align: right;\n",
       "    }\n",
       "</style>\n",
       "<table border=\"1\" class=\"dataframe\">\n",
       "  <thead>\n",
       "    <tr style=\"text-align: right;\">\n",
       "      <th></th>\n",
       "      <th>Order ID</th>\n",
       "      <th>Order Date</th>\n",
       "      <th>Customer ID</th>\n",
       "      <th>Customer Name</th>\n",
       "      <th>City</th>\n",
       "      <th>Region</th>\n",
       "      <th>Category</th>\n",
       "      <th>Quantity</th>\n",
       "      <th>Sales</th>\n",
       "      <th>Profit</th>\n",
       "    </tr>\n",
       "  </thead>\n",
       "  <tbody>\n",
       "    <tr>\n",
       "      <th>35</th>\n",
       "      <td>Unknown</td>\n",
       "      <td>2025-04-10</td>\n",
       "      <td>CUST-1035</td>\n",
       "      <td>Cesar Campbell</td>\n",
       "      <td>South James</td>\n",
       "      <td>NaN</td>\n",
       "      <td>Office Supplies</td>\n",
       "      <td>10.0</td>\n",
       "      <td>734.29</td>\n",
       "      <td>70.03</td>\n",
       "    </tr>\n",
       "    <tr>\n",
       "      <th>54</th>\n",
       "      <td>Unknown</td>\n",
       "      <td>2025-01-29</td>\n",
       "      <td>CUST-1054</td>\n",
       "      <td>Jeffrey Barry</td>\n",
       "      <td>West Marieville</td>\n",
       "      <td>NaN</td>\n",
       "      <td>Office Supplies</td>\n",
       "      <td>2.0</td>\n",
       "      <td>396.97</td>\n",
       "      <td>194.35</td>\n",
       "    </tr>\n",
       "    <tr>\n",
       "      <th>84</th>\n",
       "      <td>CA-2021-1084</td>\n",
       "      <td>2024-05-15</td>\n",
       "      <td>Unknown</td>\n",
       "      <td>Kimberly Simon</td>\n",
       "      <td>Port Joshuastad</td>\n",
       "      <td>NaN</td>\n",
       "      <td>Furniture</td>\n",
       "      <td>5.0</td>\n",
       "      <td>482.28</td>\n",
       "      <td>31.27</td>\n",
       "    </tr>\n",
       "  </tbody>\n",
       "</table>\n",
       "</div>"
      ],
      "text/plain": [
       "        Order ID Order Date Customer ID   Customer Name             City  \\\n",
       "35       Unknown 2025-04-10   CUST-1035  Cesar Campbell      South James   \n",
       "54       Unknown 2025-01-29   CUST-1054   Jeffrey Barry  West Marieville   \n",
       "84  CA-2021-1084 2024-05-15     Unknown  Kimberly Simon  Port Joshuastad   \n",
       "\n",
       "   Region         Category  Quantity   Sales  Profit  \n",
       "35    NaN  Office Supplies      10.0  734.29   70.03  \n",
       "54    NaN  Office Supplies       2.0  396.97  194.35  \n",
       "84    NaN        Furniture       5.0  482.28   31.27  "
      ]
     },
     "execution_count": 50,
     "metadata": {},
     "output_type": "execute_result"
    }
   ],
   "source": [
    "df_cat[df_cat[\"Region\"].isnull()]"
   ]
  },
  {
   "cell_type": "code",
   "execution_count": 43,
   "id": "8eb6e4f6-d09d-42c4-8ec0-d392e84b26d1",
   "metadata": {},
   "outputs": [],
   "source": [
    "df_cat.at[35,\"Region\"] = \"West\""
   ]
  },
  {
   "cell_type": "code",
   "execution_count": 44,
   "id": "80f789fa-4e84-4739-8e0e-7973f6e6852a",
   "metadata": {},
   "outputs": [],
   "source": [
    "df_cat.at[54,\"Region\"] = \"West\""
   ]
  },
  {
   "cell_type": "code",
   "execution_count": 45,
   "id": "6d37a776-e10f-4f97-b46a-07ab51339f24",
   "metadata": {},
   "outputs": [],
   "source": [
    "df_cat.at[84,\"Region\"] = \"South\""
   ]
  },
  {
   "cell_type": "code",
   "execution_count": 46,
   "id": "2b116ed8-3104-427f-8108-209c15c7d00d",
   "metadata": {},
   "outputs": [
    {
     "data": {
      "text/html": [
       "<div>\n",
       "<style scoped>\n",
       "    .dataframe tbody tr th:only-of-type {\n",
       "        vertical-align: middle;\n",
       "    }\n",
       "\n",
       "    .dataframe tbody tr th {\n",
       "        vertical-align: top;\n",
       "    }\n",
       "\n",
       "    .dataframe thead th {\n",
       "        text-align: right;\n",
       "    }\n",
       "</style>\n",
       "<table border=\"1\" class=\"dataframe\">\n",
       "  <thead>\n",
       "    <tr style=\"text-align: right;\">\n",
       "      <th></th>\n",
       "      <th>Order ID</th>\n",
       "      <th>Order Date</th>\n",
       "      <th>Customer ID</th>\n",
       "      <th>Customer Name</th>\n",
       "      <th>City</th>\n",
       "      <th>Region</th>\n",
       "      <th>Category</th>\n",
       "      <th>Quantity</th>\n",
       "      <th>Sales</th>\n",
       "      <th>Profit</th>\n",
       "    </tr>\n",
       "  </thead>\n",
       "  <tbody>\n",
       "    <tr>\n",
       "      <th>35</th>\n",
       "      <td>Unknown</td>\n",
       "      <td>2025-04-10</td>\n",
       "      <td>CUST-1035</td>\n",
       "      <td>Cesar Campbell</td>\n",
       "      <td>South James</td>\n",
       "      <td>West</td>\n",
       "      <td>Office Supplies</td>\n",
       "      <td>10.0</td>\n",
       "      <td>734.29</td>\n",
       "      <td>70.03</td>\n",
       "    </tr>\n",
       "    <tr>\n",
       "      <th>54</th>\n",
       "      <td>Unknown</td>\n",
       "      <td>2025-01-29</td>\n",
       "      <td>CUST-1054</td>\n",
       "      <td>Jeffrey Barry</td>\n",
       "      <td>West Marieville</td>\n",
       "      <td>West</td>\n",
       "      <td>Office Supplies</td>\n",
       "      <td>2.0</td>\n",
       "      <td>396.97</td>\n",
       "      <td>194.35</td>\n",
       "    </tr>\n",
       "    <tr>\n",
       "      <th>84</th>\n",
       "      <td>CA-2021-1084</td>\n",
       "      <td>2024-05-15</td>\n",
       "      <td>Unknown</td>\n",
       "      <td>Kimberly Simon</td>\n",
       "      <td>Port Joshuastad</td>\n",
       "      <td>South</td>\n",
       "      <td>Furniture</td>\n",
       "      <td>5.0</td>\n",
       "      <td>482.28</td>\n",
       "      <td>31.27</td>\n",
       "    </tr>\n",
       "  </tbody>\n",
       "</table>\n",
       "</div>"
      ],
      "text/plain": [
       "        Order ID Order Date Customer ID   Customer Name             City  \\\n",
       "35       Unknown 2025-04-10   CUST-1035  Cesar Campbell      South James   \n",
       "54       Unknown 2025-01-29   CUST-1054   Jeffrey Barry  West Marieville   \n",
       "84  CA-2021-1084 2024-05-15     Unknown  Kimberly Simon  Port Joshuastad   \n",
       "\n",
       "   Region         Category  Quantity   Sales  Profit  \n",
       "35   West  Office Supplies      10.0  734.29   70.03  \n",
       "54   West  Office Supplies       2.0  396.97  194.35  \n",
       "84  South        Furniture       5.0  482.28   31.27  "
      ]
     },
     "execution_count": 46,
     "metadata": {},
     "output_type": "execute_result"
    }
   ],
   "source": [
    "df_cat.iloc[[35,54,83]]"
   ]
  },
  {
   "cell_type": "markdown",
   "id": "ee2a5d1d-d382-46bb-8610-990210dd54ce",
   "metadata": {},
   "source": [
    "#### <b><font color= #FFFF00> Region column Analysis :"
   ]
  },
  {
   "cell_type": "markdown",
   "id": "dc2e28ca-1c6d-4a8d-bab6-339ea54178f2",
   "metadata": {},
   "source": [
    "#### <b> <font color= #ABFF00> *Step - 1 : Initial Investigation*\n",
    "- ##### The Region column contains 4 null values at index positions 35, 54, 64, 84.\n",
    "- ##### The regions are categorized into four parts: East, West, Central, and South.\n",
    "#### <b> <font color= #ABFF00> *Step - 2 : Analyzing Using the City Column*\n",
    "- ##### Index 35: City = South James - Located in the United States, belongs to the West region.\n",
    "- ##### Index 54: City = West Maryville - Located in Canada, which is grouped into the West region (as per U.S.-Canada mapping logic).\n",
    "- ##### Index 84: City = Port Joshuastad - Located in South Africa, which is mapped to the South region in global context.\n",
    "#### <b> <font color= #ABFF00> *Step - 3 : Dropping the Useless Row*\n",
    "- ##### Index 64:\n",
    "    - ##### All major numeric fields like Sales, Profit, and Discount were missing.\n",
    "    - ##### Since the row provides no useful data and can't be meaningfully imputed, it was dropped.\n",
    "#### <b> <font color= #ABFF00> *Conclusion :*\n",
    "##### In this case, the City column provided strong geographic signals to accurately fill the Region column's missing values. The method used was manual but precise, and the logic was backed by actual geographic references."
   ]
  },
  {
   "cell_type": "code",
   "execution_count": 47,
   "id": "2ac1f637-4792-4ae8-8454-df0f47eb46ad",
   "metadata": {},
   "outputs": [
    {
     "name": "stdout",
     "output_type": "stream",
     "text": [
      "<class 'pandas.core.series.Series'>\n",
      "Index: 99 entries, 0 to 99\n",
      "Series name: Region\n",
      "Non-Null Count  Dtype \n",
      "--------------  ----- \n",
      "99 non-null     object\n",
      "dtypes: object(1)\n",
      "memory usage: 3.6+ KB\n"
     ]
    }
   ],
   "source": [
    "df_cat[\"Region\"].info()"
   ]
  },
  {
   "cell_type": "markdown",
   "id": "3b5cb05a-50e0-4cd7-8216-290e4af9cd16",
   "metadata": {},
   "source": [
    "#### <b> <font color= #FFFF00> 3 - Handling the Category column :\n",
    "- ##### *Type: Object*\n",
    "- ##### *Total_Rows: 99*\n",
    "- ##### *Fill_values: 92*\n",
    "- ##### *Null_values: 7*"
   ]
  },
  {
   "cell_type": "code",
   "execution_count": 254,
   "id": "f9c4f84d-7633-4a00-ab7e-c610ede45b25",
   "metadata": {},
   "outputs": [
    {
     "name": "stdout",
     "output_type": "stream",
     "text": [
      "<class 'pandas.core.series.Series'>\n",
      "Index: 99 entries, 0 to 99\n",
      "Series name: Category\n",
      "Non-Null Count  Dtype \n",
      "--------------  ----- \n",
      "92 non-null     object\n",
      "dtypes: object(1)\n",
      "memory usage: 3.6+ KB\n"
     ]
    }
   ],
   "source": [
    "df_cat[\"Category\"].info()"
   ]
  },
  {
   "cell_type": "code",
   "execution_count": 256,
   "id": "6b6a96c0-ef94-4332-99eb-c103fb995f7e",
   "metadata": {},
   "outputs": [
    {
     "data": {
      "text/plain": [
       "7"
      ]
     },
     "execution_count": 256,
     "metadata": {},
     "output_type": "execute_result"
    }
   ],
   "source": [
    "df_cat[\"Category\"].isnull().sum()"
   ]
  },
  {
   "cell_type": "code",
   "execution_count": 257,
   "id": "601e4887-815f-4aa2-9746-5ff5b669076b",
   "metadata": {},
   "outputs": [
    {
     "data": {
      "text/plain": [
       "array(['Office Supplies', 'Furniture', nan, 'Technology'], dtype=object)"
      ]
     },
     "execution_count": 257,
     "metadata": {},
     "output_type": "execute_result"
    }
   ],
   "source": [
    "df_cat[\"Category\"].unique()"
   ]
  },
  {
   "cell_type": "code",
   "execution_count": 260,
   "id": "ebcf96f9-5855-4986-a614-3256510f24f3",
   "metadata": {},
   "outputs": [
    {
     "data": {
      "text/html": [
       "<div>\n",
       "<style scoped>\n",
       "    .dataframe tbody tr th:only-of-type {\n",
       "        vertical-align: middle;\n",
       "    }\n",
       "\n",
       "    .dataframe tbody tr th {\n",
       "        vertical-align: top;\n",
       "    }\n",
       "\n",
       "    .dataframe thead th {\n",
       "        text-align: right;\n",
       "    }\n",
       "</style>\n",
       "<table border=\"1\" class=\"dataframe\">\n",
       "  <thead>\n",
       "    <tr style=\"text-align: right;\">\n",
       "      <th></th>\n",
       "      <th>Region</th>\n",
       "    </tr>\n",
       "    <tr>\n",
       "      <th>Category</th>\n",
       "      <th></th>\n",
       "    </tr>\n",
       "  </thead>\n",
       "  <tbody>\n",
       "    <tr>\n",
       "      <th>Furniture</th>\n",
       "      <td>37</td>\n",
       "    </tr>\n",
       "    <tr>\n",
       "      <th>Office Supplies</th>\n",
       "      <td>27</td>\n",
       "    </tr>\n",
       "    <tr>\n",
       "      <th>Technology</th>\n",
       "      <td>28</td>\n",
       "    </tr>\n",
       "  </tbody>\n",
       "</table>\n",
       "</div>"
      ],
      "text/plain": [
       "                 Region\n",
       "Category               \n",
       "Furniture            37\n",
       "Office Supplies      27\n",
       "Technology           28"
      ]
     },
     "execution_count": 260,
     "metadata": {},
     "output_type": "execute_result"
    }
   ],
   "source": [
    "df_cat.groupby(\"Category\").agg({\"Region\" : \"count\"})"
   ]
  },
  {
   "cell_type": "code",
   "execution_count": 268,
   "id": "80ab9184-c9c7-4da2-a97b-bb0e3282dfb7",
   "metadata": {},
   "outputs": [],
   "source": [
    "df_cat[(df_cat[\"Category\"] == \"Furniture\") & (df_cat[\"Region\"] == \"Central\")].count()"
   ]
  },
  {
   "cell_type": "code",
   "execution_count": 269,
   "id": "a77e7173-44a2-440e-97a5-d8f010f0d282",
   "metadata": {},
   "outputs": [],
   "source": [
    "df_cat[(df_cat[\"Category\"] == \"Furniture\") & (df_cat[\"Region\"] == \"South\")].count()"
   ]
  },
  {
   "cell_type": "code",
   "execution_count": 271,
   "id": "b2010a19-41f2-4e00-a74e-6b83b0682ce7",
   "metadata": {},
   "outputs": [],
   "source": [
    "df_cat[(df_cat[\"Category\"] == \"Furniture\") & (df_cat[\"Region\"] == \"East\")].count()"
   ]
  },
  {
   "cell_type": "code",
   "execution_count": 270,
   "id": "d2670d28-522c-4684-acf7-6adbae68c3ce",
   "metadata": {},
   "outputs": [],
   "source": [
    "df_cat[(df_cat[\"Category\"] == \"Furniture\") & (df_cat[\"Region\"] == \"West\")].count()"
   ]
  },
  {
   "cell_type": "code",
   "execution_count": 293,
   "id": "6aab0dae-cb19-474c-822d-f89aa2e01f60",
   "metadata": {},
   "outputs": [],
   "source": [
    "df_cat[(df_cat[\"Category\"] == \"Office Supplies\") & (df_cat[\"Region\"] == \"Central\")].count()"
   ]
  },
  {
   "cell_type": "code",
   "execution_count": 292,
   "id": "2cd7a311-df20-45c3-8d2b-446c2339c8e0",
   "metadata": {},
   "outputs": [],
   "source": [
    "df_cat[(df_cat[\"Category\"] == \"Office Supplies\") & (df_cat[\"Region\"] == \"South\")].count()"
   ]
  },
  {
   "cell_type": "code",
   "execution_count": 291,
   "id": "a107b163-e2f1-4ce5-90c9-b9b749559c55",
   "metadata": {},
   "outputs": [],
   "source": [
    "df_cat[(df_cat[\"Category\"] == \"Office Supplies\") & (df_cat[\"Region\"] == \"East\")].count()"
   ]
  },
  {
   "cell_type": "code",
   "execution_count": 288,
   "id": "539d185f-6d14-411a-808d-44b205f7c080",
   "metadata": {},
   "outputs": [],
   "source": [
    "df_cat[(df_cat[\"Category\"] == \"Office Supplies\") & (df_cat[\"Region\"] == \"West\")].count()"
   ]
  },
  {
   "cell_type": "code",
   "execution_count": 273,
   "id": "1b9c67d1-aa66-4295-91db-109ec4fe3f1a",
   "metadata": {},
   "outputs": [],
   "source": [
    "df_cat[(df_cat[\"Category\"] == \"Technology\") & (df_cat[\"Region\"] == \"Central\")].count()"
   ]
  },
  {
   "cell_type": "code",
   "execution_count": 275,
   "id": "03b95b87-5bff-4225-80fb-f3b0979410fb",
   "metadata": {},
   "outputs": [],
   "source": [
    "df_cat[(df_cat[\"Category\"] == \"Technology\") & (df_cat[\"Region\"] == \"South\")].count()"
   ]
  },
  {
   "cell_type": "code",
   "execution_count": 277,
   "id": "b4351372-be2d-4841-9caf-7e755ef3d343",
   "metadata": {},
   "outputs": [],
   "source": [
    "df_cat[(df_cat[\"Category\"] == \"Technology\") & (df_cat[\"Region\"] == \"East\")].count()"
   ]
  },
  {
   "cell_type": "code",
   "execution_count": 279,
   "id": "30efa703-2054-4a41-9705-612e2d417eee",
   "metadata": {},
   "outputs": [],
   "source": [
    "df_cat[(df_cat[\"Category\"] == \"Technology\") & (df_cat[\"Region\"] == \"West\")].count()"
   ]
  },
  {
   "cell_type": "code",
   "execution_count": 55,
   "id": "fb875064-3e0e-4dd4-8a67-3f203b33fca2",
   "metadata": {},
   "outputs": [
    {
     "data": {
      "text/html": [
       "<div>\n",
       "<style scoped>\n",
       "    .dataframe tbody tr th:only-of-type {\n",
       "        vertical-align: middle;\n",
       "    }\n",
       "\n",
       "    .dataframe tbody tr th {\n",
       "        vertical-align: top;\n",
       "    }\n",
       "\n",
       "    .dataframe thead th {\n",
       "        text-align: right;\n",
       "    }\n",
       "</style>\n",
       "<table border=\"1\" class=\"dataframe\">\n",
       "  <thead>\n",
       "    <tr style=\"text-align: right;\">\n",
       "      <th></th>\n",
       "      <th>Order ID</th>\n",
       "      <th>Order Date</th>\n",
       "      <th>Customer ID</th>\n",
       "      <th>Customer Name</th>\n",
       "      <th>City</th>\n",
       "      <th>Region</th>\n",
       "      <th>Category</th>\n",
       "      <th>Quantity</th>\n",
       "      <th>Sales</th>\n",
       "      <th>Profit</th>\n",
       "    </tr>\n",
       "  </thead>\n",
       "  <tbody>\n",
       "    <tr>\n",
       "      <th>3</th>\n",
       "      <td>CA-2021-1003</td>\n",
       "      <td>2023-08-04</td>\n",
       "      <td>CUST-1003</td>\n",
       "      <td>Robert Smith</td>\n",
       "      <td>East Michael</td>\n",
       "      <td>West</td>\n",
       "      <td>NaN</td>\n",
       "      <td>3.0</td>\n",
       "      <td>544.25</td>\n",
       "      <td>177.81</td>\n",
       "    </tr>\n",
       "    <tr>\n",
       "      <th>11</th>\n",
       "      <td>CA-2021-1011</td>\n",
       "      <td>2024-09-19</td>\n",
       "      <td>CUST-1011</td>\n",
       "      <td>Alan Jackson</td>\n",
       "      <td>New Stephen</td>\n",
       "      <td>Central</td>\n",
       "      <td>NaN</td>\n",
       "      <td>6.0</td>\n",
       "      <td>867.53</td>\n",
       "      <td>128.86</td>\n",
       "    </tr>\n",
       "    <tr>\n",
       "      <th>49</th>\n",
       "      <td>CA-2021-1049</td>\n",
       "      <td>2023-10-20</td>\n",
       "      <td>CUST-1049</td>\n",
       "      <td>Alex Ellis</td>\n",
       "      <td>Lake Robin</td>\n",
       "      <td>South</td>\n",
       "      <td>NaN</td>\n",
       "      <td>2.0</td>\n",
       "      <td>451.45</td>\n",
       "      <td>293.47</td>\n",
       "    </tr>\n",
       "    <tr>\n",
       "      <th>53</th>\n",
       "      <td>CA-2021-1053</td>\n",
       "      <td>2025-02-24</td>\n",
       "      <td>CUST-1053</td>\n",
       "      <td>Rebecca Scott</td>\n",
       "      <td>Brownmouth</td>\n",
       "      <td>West</td>\n",
       "      <td>NaN</td>\n",
       "      <td>8.0</td>\n",
       "      <td>210.09</td>\n",
       "      <td>-54.80</td>\n",
       "    </tr>\n",
       "    <tr>\n",
       "      <th>55</th>\n",
       "      <td>CA-2021-1055</td>\n",
       "      <td>2024-07-07</td>\n",
       "      <td>CUST-1055</td>\n",
       "      <td>Shane Bell DVM</td>\n",
       "      <td>Matthewland</td>\n",
       "      <td>Central</td>\n",
       "      <td>NaN</td>\n",
       "      <td>5.0</td>\n",
       "      <td>622.72</td>\n",
       "      <td>NaN</td>\n",
       "    </tr>\n",
       "    <tr>\n",
       "      <th>67</th>\n",
       "      <td>CA-2021-1067</td>\n",
       "      <td>2025-02-11</td>\n",
       "      <td>CUST-1067</td>\n",
       "      <td>Charles Burch</td>\n",
       "      <td>Roberttown</td>\n",
       "      <td>Central</td>\n",
       "      <td>NaN</td>\n",
       "      <td>1.0</td>\n",
       "      <td>742.89</td>\n",
       "      <td>135.20</td>\n",
       "    </tr>\n",
       "    <tr>\n",
       "      <th>91</th>\n",
       "      <td>CA-2021-1091</td>\n",
       "      <td>2024-09-07</td>\n",
       "      <td>CUST-1091</td>\n",
       "      <td>Hannah Jones DDS</td>\n",
       "      <td>Danielleton</td>\n",
       "      <td>East</td>\n",
       "      <td>NaN</td>\n",
       "      <td>3.0</td>\n",
       "      <td>63.96</td>\n",
       "      <td>NaN</td>\n",
       "    </tr>\n",
       "  </tbody>\n",
       "</table>\n",
       "</div>"
      ],
      "text/plain": [
       "        Order ID Order Date Customer ID     Customer Name          City  \\\n",
       "3   CA-2021-1003 2023-08-04   CUST-1003      Robert Smith  East Michael   \n",
       "11  CA-2021-1011 2024-09-19   CUST-1011      Alan Jackson   New Stephen   \n",
       "49  CA-2021-1049 2023-10-20   CUST-1049        Alex Ellis    Lake Robin   \n",
       "53  CA-2021-1053 2025-02-24   CUST-1053     Rebecca Scott    Brownmouth   \n",
       "55  CA-2021-1055 2024-07-07   CUST-1055    Shane Bell DVM   Matthewland   \n",
       "67  CA-2021-1067 2025-02-11   CUST-1067     Charles Burch    Roberttown   \n",
       "91  CA-2021-1091 2024-09-07   CUST-1091  Hannah Jones DDS   Danielleton   \n",
       "\n",
       "     Region Category  Quantity   Sales  Profit  \n",
       "3      West      NaN       3.0  544.25  177.81  \n",
       "11  Central      NaN       6.0  867.53  128.86  \n",
       "49    South      NaN       2.0  451.45  293.47  \n",
       "53     West      NaN       8.0  210.09  -54.80  \n",
       "55  Central      NaN       5.0  622.72     NaN  \n",
       "67  Central      NaN       1.0  742.89  135.20  \n",
       "91     East      NaN       3.0   63.96     NaN  "
      ]
     },
     "execution_count": 55,
     "metadata": {},
     "output_type": "execute_result"
    }
   ],
   "source": [
    "df_cat[df_cat[\"Category\"].isnull()]"
   ]
  },
  {
   "cell_type": "code",
   "execution_count": 48,
   "id": "63761700-44ec-4d20-b2e3-caab3290dc41",
   "metadata": {},
   "outputs": [],
   "source": [
    "df_cat.at[11, \"Category\"] = \"Furniture\""
   ]
  },
  {
   "cell_type": "code",
   "execution_count": 49,
   "id": "07fe1aa7-f534-4c40-bd07-2e37720f1e7d",
   "metadata": {},
   "outputs": [],
   "source": [
    "df_cat.at[3, \"Category\"] = \"Furniture\""
   ]
  },
  {
   "cell_type": "code",
   "execution_count": 50,
   "id": "b2887409-59cd-4d43-b823-deea80e4372c",
   "metadata": {},
   "outputs": [],
   "source": [
    "df_cat.at[49, \"Category\"] = \"Furniture\""
   ]
  },
  {
   "cell_type": "code",
   "execution_count": 51,
   "id": "eea51ae7-f0fd-4e41-a777-1d75e2653857",
   "metadata": {},
   "outputs": [],
   "source": [
    "df_cat.at[55, \"Category\"] = \"Office Supplies\""
   ]
  },
  {
   "cell_type": "code",
   "execution_count": 52,
   "id": "166d2d59-ed72-4501-91aa-1b49a44799be",
   "metadata": {},
   "outputs": [],
   "source": [
    "df_cat.at[53, \"Category\"] = \"Office Supplies\""
   ]
  },
  {
   "cell_type": "code",
   "execution_count": 53,
   "id": "65322457-fb30-4f19-b64f-0304fc23a9ba",
   "metadata": {},
   "outputs": [],
   "source": [
    "df_cat.at[67, \"Category\"] = \"Technology\""
   ]
  },
  {
   "cell_type": "code",
   "execution_count": 54,
   "id": "b31925b1-8ebf-4b6b-8a83-3cfdda313409",
   "metadata": {},
   "outputs": [],
   "source": [
    "df_cat.at[91, \"Category\"] = \"Technology\""
   ]
  },
  {
   "cell_type": "code",
   "execution_count": 55,
   "id": "67c54703-2267-4b13-9f0a-e53c9c912355",
   "metadata": {},
   "outputs": [
    {
     "data": {
      "text/html": [
       "<div>\n",
       "<style scoped>\n",
       "    .dataframe tbody tr th:only-of-type {\n",
       "        vertical-align: middle;\n",
       "    }\n",
       "\n",
       "    .dataframe tbody tr th {\n",
       "        vertical-align: top;\n",
       "    }\n",
       "\n",
       "    .dataframe thead th {\n",
       "        text-align: right;\n",
       "    }\n",
       "</style>\n",
       "<table border=\"1\" class=\"dataframe\">\n",
       "  <thead>\n",
       "    <tr style=\"text-align: right;\">\n",
       "      <th></th>\n",
       "      <th>Order ID</th>\n",
       "      <th>Order Date</th>\n",
       "      <th>Customer ID</th>\n",
       "      <th>Customer Name</th>\n",
       "      <th>City</th>\n",
       "      <th>Region</th>\n",
       "      <th>Category</th>\n",
       "      <th>Quantity</th>\n",
       "      <th>Sales</th>\n",
       "      <th>Profit</th>\n",
       "    </tr>\n",
       "  </thead>\n",
       "  <tbody>\n",
       "    <tr>\n",
       "      <th>11</th>\n",
       "      <td>CA-2021-1011</td>\n",
       "      <td>2024-09-19</td>\n",
       "      <td>CUST-1011</td>\n",
       "      <td>Alan Jackson</td>\n",
       "      <td>New Stephen</td>\n",
       "      <td>Central</td>\n",
       "      <td>Furniture</td>\n",
       "      <td>6.0</td>\n",
       "      <td>867.53</td>\n",
       "      <td>128.86</td>\n",
       "    </tr>\n",
       "    <tr>\n",
       "      <th>3</th>\n",
       "      <td>CA-2021-1003</td>\n",
       "      <td>2023-08-04</td>\n",
       "      <td>CUST-1003</td>\n",
       "      <td>Robert Smith</td>\n",
       "      <td>East Michael</td>\n",
       "      <td>West</td>\n",
       "      <td>Furniture</td>\n",
       "      <td>3.0</td>\n",
       "      <td>544.25</td>\n",
       "      <td>177.81</td>\n",
       "    </tr>\n",
       "    <tr>\n",
       "      <th>49</th>\n",
       "      <td>CA-2021-1049</td>\n",
       "      <td>2023-10-20</td>\n",
       "      <td>CUST-1049</td>\n",
       "      <td>Alex Ellis</td>\n",
       "      <td>Lake Robin</td>\n",
       "      <td>South</td>\n",
       "      <td>Furniture</td>\n",
       "      <td>2.0</td>\n",
       "      <td>451.45</td>\n",
       "      <td>293.47</td>\n",
       "    </tr>\n",
       "    <tr>\n",
       "      <th>53</th>\n",
       "      <td>CA-2021-1053</td>\n",
       "      <td>2025-02-24</td>\n",
       "      <td>CUST-1053</td>\n",
       "      <td>Rebecca Scott</td>\n",
       "      <td>Brownmouth</td>\n",
       "      <td>West</td>\n",
       "      <td>Office Supplies</td>\n",
       "      <td>8.0</td>\n",
       "      <td>210.09</td>\n",
       "      <td>-54.80</td>\n",
       "    </tr>\n",
       "    <tr>\n",
       "      <th>55</th>\n",
       "      <td>CA-2021-1055</td>\n",
       "      <td>2024-07-07</td>\n",
       "      <td>CUST-1055</td>\n",
       "      <td>Shane Bell DVM</td>\n",
       "      <td>Matthewland</td>\n",
       "      <td>Central</td>\n",
       "      <td>Office Supplies</td>\n",
       "      <td>5.0</td>\n",
       "      <td>622.72</td>\n",
       "      <td>NaN</td>\n",
       "    </tr>\n",
       "    <tr>\n",
       "      <th>67</th>\n",
       "      <td>CA-2021-1067</td>\n",
       "      <td>2025-02-11</td>\n",
       "      <td>CUST-1067</td>\n",
       "      <td>Charles Burch</td>\n",
       "      <td>Roberttown</td>\n",
       "      <td>Central</td>\n",
       "      <td>Technology</td>\n",
       "      <td>1.0</td>\n",
       "      <td>742.89</td>\n",
       "      <td>135.20</td>\n",
       "    </tr>\n",
       "    <tr>\n",
       "      <th>91</th>\n",
       "      <td>CA-2021-1091</td>\n",
       "      <td>2024-09-07</td>\n",
       "      <td>CUST-1091</td>\n",
       "      <td>Hannah Jones DDS</td>\n",
       "      <td>Danielleton</td>\n",
       "      <td>East</td>\n",
       "      <td>Technology</td>\n",
       "      <td>3.0</td>\n",
       "      <td>63.96</td>\n",
       "      <td>NaN</td>\n",
       "    </tr>\n",
       "  </tbody>\n",
       "</table>\n",
       "</div>"
      ],
      "text/plain": [
       "        Order ID Order Date Customer ID     Customer Name          City  \\\n",
       "11  CA-2021-1011 2024-09-19   CUST-1011      Alan Jackson   New Stephen   \n",
       "3   CA-2021-1003 2023-08-04   CUST-1003      Robert Smith  East Michael   \n",
       "49  CA-2021-1049 2023-10-20   CUST-1049        Alex Ellis    Lake Robin   \n",
       "53  CA-2021-1053 2025-02-24   CUST-1053     Rebecca Scott    Brownmouth   \n",
       "55  CA-2021-1055 2024-07-07   CUST-1055    Shane Bell DVM   Matthewland   \n",
       "67  CA-2021-1067 2025-02-11   CUST-1067     Charles Burch    Roberttown   \n",
       "91  CA-2021-1091 2024-09-07   CUST-1091  Hannah Jones DDS   Danielleton   \n",
       "\n",
       "     Region         Category  Quantity   Sales  Profit  \n",
       "11  Central        Furniture       6.0  867.53  128.86  \n",
       "3      West        Furniture       3.0  544.25  177.81  \n",
       "49    South        Furniture       2.0  451.45  293.47  \n",
       "53     West  Office Supplies       8.0  210.09  -54.80  \n",
       "55  Central  Office Supplies       5.0  622.72     NaN  \n",
       "67  Central       Technology       1.0  742.89  135.20  \n",
       "91     East       Technology       3.0   63.96     NaN  "
      ]
     },
     "execution_count": 55,
     "metadata": {},
     "output_type": "execute_result"
    }
   ],
   "source": [
    "df_cat.iloc[[11,3,49,53,55,66,90]]"
   ]
  },
  {
   "cell_type": "markdown",
   "id": "e6d02437-a5f6-456d-a828-e9c0e0cdfe44",
   "metadata": {},
   "source": [
    "#### <b><font color= #FFFF00> Category column Analysis :"
   ]
  },
  {
   "cell_type": "markdown",
   "id": "02d49187-7826-4991-86db-fa40c084a777",
   "metadata": {},
   "source": [
    "#### <b> <font color= #ABFF00> *Step - 1 -- Relationship Between Category and Region:*\n",
    "- ##### The `Category` column (which includes Furniture, Office Supplies, and Technology) is tightly linked with the `Region` column.\n",
    "- ##### Different products are sold more heavily in different regions, so filling nulls in `Category` should take into account the region in which the sale occurred.\n",
    "#### <b> <font color= #ABFF00> *Step - 2 -- Category-Wise Counts (Overall Distribution):*\n",
    "##### Used `groupby()` to check how many times each category appears in the dataset:\n",
    "- ##### Furniture – 37\n",
    "- ##### Office Supplies – 27\n",
    "- ##### Technology – 28\n",
    "##### `df_cat.groupby(\"Category\").agg({\"Region\" : \"count\"})`\n",
    "#### <b> <font color= #ABFF00> *Step - 3 -- Region-Wise Category Distribution:*\n",
    "##### Cross-tabulated `Category` and `Region` to identify patterns:\n",
    "- ##### Central - Furniture – 8, Office Supplies – 8, Technology – 7\n",
    "- ##### South - Furniture – 14, Office Supplies – 5, Technology – 9\n",
    "- ##### East - Furniture – 4, Office Supplies – 6, Technology – 8\n",
    "- ##### West - Furniture – 11, Office Supplies – 8, Technology – 4\n",
    "#### <b> <font color= #ABFF00> *Step - 4 -- Strategy to Fill Nulls:*\n",
    "##### You used a balanced and logical approach, combining both:\n",
    "- ##### Overall product frequency\n",
    "- ##### Regional trends\n",
    "##### Fill Plan:\n",
    "- ##### Furniture - fill 3 nulls:\n",
    "    - ##### Central = 1\n",
    "    - ##### South = 1\n",
    "    - ##### West = 1\n",
    "- ##### Office Supplies - fill 2 nulls:\n",
    "    - ##### Central = 1\n",
    "    - ##### West = 1\n",
    "- ##### Technology - fill 2 nulls:\n",
    "    - ##### Central = 1\n",
    "    - ##### East = 1\n",
    "##### Used manual assignment using `df.at[index, \"Category\"] = \"Furniture\"` for each corresponding index based on their region\n",
    "#### <b> <font color= #ABFF00> *Conclusion :*\n",
    "- ##### Instead of randomly imputing missing `Category` values, I performed both frequency analysis and region-category relationship analysis. \n",
    "- ##### Based on this, I manually filled null values to preserve realistic patterns in the data."
   ]
  },
  {
   "cell_type": "code",
   "execution_count": 56,
   "id": "66fccab3-f83b-4f69-87eb-69b74f671cea",
   "metadata": {},
   "outputs": [
    {
     "name": "stdout",
     "output_type": "stream",
     "text": [
      "<class 'pandas.core.series.Series'>\n",
      "Index: 99 entries, 0 to 99\n",
      "Series name: Category\n",
      "Non-Null Count  Dtype \n",
      "--------------  ----- \n",
      "99 non-null     object\n",
      "dtypes: object(1)\n",
      "memory usage: 3.6+ KB\n"
     ]
    }
   ],
   "source": [
    "df_cat[\"Category\"].info()"
   ]
  },
  {
   "cell_type": "code",
   "execution_count": 57,
   "id": "3587ede2-a157-4d63-ad8b-391e55dcec8c",
   "metadata": {},
   "outputs": [
    {
     "name": "stdout",
     "output_type": "stream",
     "text": [
      "<class 'pandas.core.frame.DataFrame'>\n",
      "Index: 99 entries, 0 to 99\n",
      "Data columns (total 3 columns):\n",
      " #   Column    Non-Null Count  Dtype \n",
      "---  ------    --------------  ----- \n",
      " 0   City      99 non-null     object\n",
      " 1   Region    99 non-null     object\n",
      " 2   Category  99 non-null     object\n",
      "dtypes: object(3)\n",
      "memory usage: 5.1+ KB\n"
     ]
    }
   ],
   "source": [
    "df_cat[[\"City\",\"Region\",\"Category\"]].info()"
   ]
  },
  {
   "cell_type": "markdown",
   "id": "5cd16e16-3a8e-4515-9931-646ef012c41f",
   "metadata": {},
   "source": [
    "### <b><font color= #ABFF00> *4 - Handling the Numerical columns :*"
   ]
  },
  {
   "cell_type": "code",
   "execution_count": 58,
   "id": "f4387013-fa38-4354-894f-a4bc7fed1e36",
   "metadata": {},
   "outputs": [
    {
     "data": {
      "text/html": [
       "<div>\n",
       "<style scoped>\n",
       "    .dataframe tbody tr th:only-of-type {\n",
       "        vertical-align: middle;\n",
       "    }\n",
       "\n",
       "    .dataframe tbody tr th {\n",
       "        vertical-align: top;\n",
       "    }\n",
       "\n",
       "    .dataframe thead th {\n",
       "        text-align: right;\n",
       "    }\n",
       "</style>\n",
       "<table border=\"1\" class=\"dataframe\">\n",
       "  <thead>\n",
       "    <tr style=\"text-align: right;\">\n",
       "      <th></th>\n",
       "      <th>Order ID</th>\n",
       "      <th>Order Date</th>\n",
       "      <th>Customer ID</th>\n",
       "      <th>Customer Name</th>\n",
       "      <th>City</th>\n",
       "      <th>Region</th>\n",
       "      <th>Category</th>\n",
       "      <th>Quantity</th>\n",
       "      <th>Sales</th>\n",
       "      <th>Profit</th>\n",
       "    </tr>\n",
       "  </thead>\n",
       "  <tbody>\n",
       "    <tr>\n",
       "      <th>0</th>\n",
       "      <td>CA-2021-1000</td>\n",
       "      <td>2025-02-14</td>\n",
       "      <td>CUST-1000</td>\n",
       "      <td>Jasmine Davis</td>\n",
       "      <td>East Tony</td>\n",
       "      <td>South</td>\n",
       "      <td>Office Supplies</td>\n",
       "      <td>10.0</td>\n",
       "      <td>843.53</td>\n",
       "      <td>NaN</td>\n",
       "    </tr>\n",
       "    <tr>\n",
       "      <th>1</th>\n",
       "      <td>CA-2021-1001</td>\n",
       "      <td>2024-01-01</td>\n",
       "      <td>CUST-1001</td>\n",
       "      <td>Ryan Lambert</td>\n",
       "      <td>East Melissaberg</td>\n",
       "      <td>Central</td>\n",
       "      <td>Furniture</td>\n",
       "      <td>3.0</td>\n",
       "      <td>868.01</td>\n",
       "      <td>NaN</td>\n",
       "    </tr>\n",
       "    <tr>\n",
       "      <th>2</th>\n",
       "      <td>CA-2021-1002</td>\n",
       "      <td>2024-02-04</td>\n",
       "      <td>CUST-1002</td>\n",
       "      <td>Lisa Hickman</td>\n",
       "      <td>West Debbie</td>\n",
       "      <td>Central</td>\n",
       "      <td>Furniture</td>\n",
       "      <td>2.0</td>\n",
       "      <td>105.02</td>\n",
       "      <td>296.82</td>\n",
       "    </tr>\n",
       "    <tr>\n",
       "      <th>3</th>\n",
       "      <td>CA-2021-1003</td>\n",
       "      <td>2023-08-04</td>\n",
       "      <td>CUST-1003</td>\n",
       "      <td>Robert Smith</td>\n",
       "      <td>East Michael</td>\n",
       "      <td>West</td>\n",
       "      <td>Furniture</td>\n",
       "      <td>3.0</td>\n",
       "      <td>544.25</td>\n",
       "      <td>177.81</td>\n",
       "    </tr>\n",
       "    <tr>\n",
       "      <th>4</th>\n",
       "      <td>CA-2021-1004</td>\n",
       "      <td>2024-12-06</td>\n",
       "      <td>CUST-1004</td>\n",
       "      <td>Jason Willis</td>\n",
       "      <td>Port Elizabeth</td>\n",
       "      <td>Central</td>\n",
       "      <td>Furniture</td>\n",
       "      <td>6.0</td>\n",
       "      <td>395.26</td>\n",
       "      <td>-64.67</td>\n",
       "    </tr>\n",
       "  </tbody>\n",
       "</table>\n",
       "</div>"
      ],
      "text/plain": [
       "       Order ID Order Date Customer ID  Customer Name              City  \\\n",
       "0  CA-2021-1000 2025-02-14   CUST-1000  Jasmine Davis         East Tony   \n",
       "1  CA-2021-1001 2024-01-01   CUST-1001   Ryan Lambert  East Melissaberg   \n",
       "2  CA-2021-1002 2024-02-04   CUST-1002   Lisa Hickman       West Debbie   \n",
       "3  CA-2021-1003 2023-08-04   CUST-1003   Robert Smith      East Michael   \n",
       "4  CA-2021-1004 2024-12-06   CUST-1004   Jason Willis    Port Elizabeth   \n",
       "\n",
       "    Region         Category  Quantity   Sales  Profit  \n",
       "0    South  Office Supplies      10.0  843.53     NaN  \n",
       "1  Central        Furniture       3.0  868.01     NaN  \n",
       "2  Central        Furniture       2.0  105.02  296.82  \n",
       "3     West        Furniture       3.0  544.25  177.81  \n",
       "4  Central        Furniture       6.0  395.26  -64.67  "
      ]
     },
     "execution_count": 58,
     "metadata": {},
     "output_type": "execute_result"
    }
   ],
   "source": [
    "df_num = pd.DataFrame(df_cat)\n",
    "df_num.head()"
   ]
  },
  {
   "cell_type": "markdown",
   "id": "ae4ee061-a1e6-406c-83ae-9e79769aeab1",
   "metadata": {},
   "source": [
    "#### <b> <font color= #FFFF00> 1 - Handling the Quantity column :\n",
    "- ##### *Type: Object*\n",
    "- ##### *Total_Rows: 99*\n",
    "- ##### *Fill_values: 93*\n",
    "- ##### *Null_values: 6*"
   ]
  },
  {
   "cell_type": "code",
   "execution_count": 62,
   "id": "f20e07e0-b0aa-4f8a-ab57-6af7ce043586",
   "metadata": {},
   "outputs": [
    {
     "name": "stdout",
     "output_type": "stream",
     "text": [
      "<class 'pandas.core.series.Series'>\n",
      "Index: 99 entries, 0 to 99\n",
      "Series name: Quantity\n",
      "Non-Null Count  Dtype  \n",
      "--------------  -----  \n",
      "93 non-null     float64\n",
      "dtypes: float64(1)\n",
      "memory usage: 3.6 KB\n"
     ]
    }
   ],
   "source": [
    "df_num[\"Quantity\"].info()"
   ]
  },
  {
   "cell_type": "code",
   "execution_count": 79,
   "id": "53bb80bd-ccf3-4a61-867a-87b545b7e7c1",
   "metadata": {},
   "outputs": [
    {
     "data": {
      "text/plain": [
       "93"
      ]
     },
     "execution_count": 79,
     "metadata": {},
     "output_type": "execute_result"
    }
   ],
   "source": [
    "df_num[\"Quantity\"].count()"
   ]
  },
  {
   "cell_type": "code",
   "execution_count": 80,
   "id": "96c1c7f5-b6ff-4b13-a762-4de4098e4c8b",
   "metadata": {},
   "outputs": [
    {
     "data": {
      "text/plain": [
       "6"
      ]
     },
     "execution_count": 80,
     "metadata": {},
     "output_type": "execute_result"
    }
   ],
   "source": [
    "df_num[\"Quantity\"].isnull().sum()"
   ]
  },
  {
   "cell_type": "code",
   "execution_count": 74,
   "id": "cd6c83ba-1c19-4029-9efd-9748264ffa55",
   "metadata": {},
   "outputs": [
    {
     "data": {
      "text/plain": [
       "10.0"
      ]
     },
     "execution_count": 74,
     "metadata": {},
     "output_type": "execute_result"
    }
   ],
   "source": [
    "df_num[\"Quantity\"].max()"
   ]
  },
  {
   "cell_type": "code",
   "execution_count": 75,
   "id": "0c433fac-cf3f-426b-b956-6ba9e0530f9d",
   "metadata": {},
   "outputs": [
    {
     "data": {
      "text/plain": [
       "1.0"
      ]
     },
     "execution_count": 75,
     "metadata": {},
     "output_type": "execute_result"
    }
   ],
   "source": [
    "df_num[\"Quantity\"].min()"
   ]
  },
  {
   "cell_type": "code",
   "execution_count": 77,
   "id": "cd64b5bf-cf3d-4bed-ae4c-a393458e931e",
   "metadata": {},
   "outputs": [
    {
     "data": {
      "text/plain": [
       "4.967741935483871"
      ]
     },
     "execution_count": 77,
     "metadata": {},
     "output_type": "execute_result"
    }
   ],
   "source": [
    "df_num[\"Quantity\"].mean()"
   ]
  },
  {
   "cell_type": "code",
   "execution_count": 81,
   "id": "a10135dc-07b2-4745-8588-681619bc07ef",
   "metadata": {},
   "outputs": [
    {
     "data": {
      "text/plain": [
       "462.0"
      ]
     },
     "execution_count": 81,
     "metadata": {},
     "output_type": "execute_result"
    }
   ],
   "source": [
    "df_num[\"Quantity\"].sum()"
   ]
  },
  {
   "cell_type": "code",
   "execution_count": 73,
   "id": "9a397bed-9f6f-4ebe-9d8c-1fa01d5b5fad",
   "metadata": {},
   "outputs": [
    {
     "data": {
      "text/html": [
       "<div>\n",
       "<style scoped>\n",
       "    .dataframe tbody tr th:only-of-type {\n",
       "        vertical-align: middle;\n",
       "    }\n",
       "\n",
       "    .dataframe tbody tr th {\n",
       "        vertical-align: top;\n",
       "    }\n",
       "\n",
       "    .dataframe thead th {\n",
       "        text-align: right;\n",
       "    }\n",
       "</style>\n",
       "<table border=\"1\" class=\"dataframe\">\n",
       "  <thead>\n",
       "    <tr style=\"text-align: right;\">\n",
       "      <th></th>\n",
       "      <th>Order ID</th>\n",
       "      <th>Order Date</th>\n",
       "      <th>Customer ID</th>\n",
       "      <th>Customer Name</th>\n",
       "      <th>City</th>\n",
       "      <th>Region</th>\n",
       "      <th>Category</th>\n",
       "      <th>Quantity</th>\n",
       "      <th>Sales</th>\n",
       "      <th>Profit</th>\n",
       "    </tr>\n",
       "  </thead>\n",
       "  <tbody>\n",
       "    <tr>\n",
       "      <th>24</th>\n",
       "      <td>CA-2021-1024</td>\n",
       "      <td>2024-12-01</td>\n",
       "      <td>CUST-1024</td>\n",
       "      <td>Noah Parks</td>\n",
       "      <td>Douglasport</td>\n",
       "      <td>Central</td>\n",
       "      <td>Office Supplies</td>\n",
       "      <td>NaN</td>\n",
       "      <td>829.36</td>\n",
       "      <td>-71.03</td>\n",
       "    </tr>\n",
       "    <tr>\n",
       "      <th>31</th>\n",
       "      <td>Unknown</td>\n",
       "      <td>2024-04-02</td>\n",
       "      <td>CUST-1031</td>\n",
       "      <td>Lisa Dominguez</td>\n",
       "      <td>Port Victoria</td>\n",
       "      <td>East</td>\n",
       "      <td>Office Supplies</td>\n",
       "      <td>NaN</td>\n",
       "      <td>707.11</td>\n",
       "      <td>118.88</td>\n",
       "    </tr>\n",
       "    <tr>\n",
       "      <th>39</th>\n",
       "      <td>CA-2021-1039</td>\n",
       "      <td>2025-02-04</td>\n",
       "      <td>CUST-1039</td>\n",
       "      <td>Sharon Austin</td>\n",
       "      <td>Garciahaven</td>\n",
       "      <td>South</td>\n",
       "      <td>Furniture</td>\n",
       "      <td>NaN</td>\n",
       "      <td>997.94</td>\n",
       "      <td>101.42</td>\n",
       "    </tr>\n",
       "    <tr>\n",
       "      <th>40</th>\n",
       "      <td>CA-2021-1040</td>\n",
       "      <td>2024-06-16</td>\n",
       "      <td>CUST-1040</td>\n",
       "      <td>Matthew Thomas</td>\n",
       "      <td>East Christopherchester</td>\n",
       "      <td>West</td>\n",
       "      <td>Furniture</td>\n",
       "      <td>NaN</td>\n",
       "      <td>534.89</td>\n",
       "      <td>238.03</td>\n",
       "    </tr>\n",
       "    <tr>\n",
       "      <th>78</th>\n",
       "      <td>CA-2021-1078</td>\n",
       "      <td>2025-02-21</td>\n",
       "      <td>CUST-1078</td>\n",
       "      <td>Kara Robertson</td>\n",
       "      <td>Port Christinaside</td>\n",
       "      <td>Central</td>\n",
       "      <td>Technology</td>\n",
       "      <td>NaN</td>\n",
       "      <td>274.25</td>\n",
       "      <td>-27.95</td>\n",
       "    </tr>\n",
       "    <tr>\n",
       "      <th>96</th>\n",
       "      <td>CA-2021-1096</td>\n",
       "      <td>2023-11-21</td>\n",
       "      <td>CUST-1096</td>\n",
       "      <td>Tracey Smith</td>\n",
       "      <td>South Madelinemouth</td>\n",
       "      <td>South</td>\n",
       "      <td>Technology</td>\n",
       "      <td>NaN</td>\n",
       "      <td>NaN</td>\n",
       "      <td>204.61</td>\n",
       "    </tr>\n",
       "  </tbody>\n",
       "</table>\n",
       "</div>"
      ],
      "text/plain": [
       "        Order ID Order Date Customer ID   Customer Name  \\\n",
       "24  CA-2021-1024 2024-12-01   CUST-1024      Noah Parks   \n",
       "31       Unknown 2024-04-02   CUST-1031  Lisa Dominguez   \n",
       "39  CA-2021-1039 2025-02-04   CUST-1039   Sharon Austin   \n",
       "40  CA-2021-1040 2024-06-16   CUST-1040  Matthew Thomas   \n",
       "78  CA-2021-1078 2025-02-21   CUST-1078  Kara Robertson   \n",
       "96  CA-2021-1096 2023-11-21   CUST-1096    Tracey Smith   \n",
       "\n",
       "                       City   Region         Category  Quantity   Sales  \\\n",
       "24              Douglasport  Central  Office Supplies       NaN  829.36   \n",
       "31            Port Victoria     East  Office Supplies       NaN  707.11   \n",
       "39              Garciahaven    South        Furniture       NaN  997.94   \n",
       "40  East Christopherchester     West        Furniture       NaN  534.89   \n",
       "78       Port Christinaside  Central       Technology       NaN  274.25   \n",
       "96      South Madelinemouth    South       Technology       NaN     NaN   \n",
       "\n",
       "    Profit  \n",
       "24  -71.03  \n",
       "31  118.88  \n",
       "39  101.42  \n",
       "40  238.03  \n",
       "78  -27.95  \n",
       "96  204.61  "
      ]
     },
     "execution_count": 73,
     "metadata": {},
     "output_type": "execute_result"
    }
   ],
   "source": [
    "df_num[df_num[\"Quantity\"].isnull()]"
   ]
  },
  {
   "cell_type": "code",
   "execution_count": 63,
   "id": "5e36fabf-c144-433d-aa37-b06474dd27b9",
   "metadata": {},
   "outputs": [
    {
     "data": {
      "text/html": [
       "<div>\n",
       "<style scoped>\n",
       "    .dataframe tbody tr th:only-of-type {\n",
       "        vertical-align: middle;\n",
       "    }\n",
       "\n",
       "    .dataframe tbody tr th {\n",
       "        vertical-align: top;\n",
       "    }\n",
       "\n",
       "    .dataframe thead th {\n",
       "        text-align: right;\n",
       "    }\n",
       "</style>\n",
       "<table border=\"1\" class=\"dataframe\">\n",
       "  <thead>\n",
       "    <tr style=\"text-align: right;\">\n",
       "      <th></th>\n",
       "      <th>Order ID</th>\n",
       "      <th>Order Date</th>\n",
       "      <th>Customer ID</th>\n",
       "      <th>Customer Name</th>\n",
       "      <th>City</th>\n",
       "      <th>Region</th>\n",
       "      <th>Category</th>\n",
       "      <th>Quantity</th>\n",
       "      <th>Sales</th>\n",
       "      <th>Profit</th>\n",
       "    </tr>\n",
       "  </thead>\n",
       "  <tbody>\n",
       "    <tr>\n",
       "      <th>24</th>\n",
       "      <td>CA-2021-1024</td>\n",
       "      <td>2024-12-01</td>\n",
       "      <td>CUST-1024</td>\n",
       "      <td>Noah Parks</td>\n",
       "      <td>Douglasport</td>\n",
       "      <td>Central</td>\n",
       "      <td>Office Supplies</td>\n",
       "      <td>NaN</td>\n",
       "      <td>829.36</td>\n",
       "      <td>-71.03</td>\n",
       "    </tr>\n",
       "    <tr>\n",
       "      <th>42</th>\n",
       "      <td>CA-2021-1042</td>\n",
       "      <td>2025-02-15</td>\n",
       "      <td>Unknown</td>\n",
       "      <td>Colleen Williams</td>\n",
       "      <td>Port Stephanie</td>\n",
       "      <td>Central</td>\n",
       "      <td>Office Supplies</td>\n",
       "      <td>1.0</td>\n",
       "      <td>NaN</td>\n",
       "      <td>95.02</td>\n",
       "    </tr>\n",
       "    <tr>\n",
       "      <th>74</th>\n",
       "      <td>CA-2021-1074</td>\n",
       "      <td>2024-12-11</td>\n",
       "      <td>CUST-1074</td>\n",
       "      <td>Stephen Shields</td>\n",
       "      <td>West Sharonport</td>\n",
       "      <td>Central</td>\n",
       "      <td>Office Supplies</td>\n",
       "      <td>3.0</td>\n",
       "      <td>854.32</td>\n",
       "      <td>195.81</td>\n",
       "    </tr>\n",
       "  </tbody>\n",
       "</table>\n",
       "</div>"
      ],
      "text/plain": [
       "        Order ID Order Date Customer ID     Customer Name             City  \\\n",
       "24  CA-2021-1024 2024-12-01   CUST-1024        Noah Parks      Douglasport   \n",
       "42  CA-2021-1042 2025-02-15     Unknown  Colleen Williams   Port Stephanie   \n",
       "74  CA-2021-1074 2024-12-11   CUST-1074   Stephen Shields  West Sharonport   \n",
       "\n",
       "     Region         Category  Quantity   Sales  Profit  \n",
       "24  Central  Office Supplies       NaN  829.36  -71.03  \n",
       "42  Central  Office Supplies       1.0     NaN   95.02  \n",
       "74  Central  Office Supplies       3.0  854.32  195.81  "
      ]
     },
     "execution_count": 63,
     "metadata": {},
     "output_type": "execute_result"
    }
   ],
   "source": [
    "df_num[(df_num[\"Category\"] == \"Office Supplies\") & (df_num[\"Region\"] == \"Central\") & (df_num[\"Order Date\"] >= \"2024-12-1\")]"
   ]
  },
  {
   "cell_type": "code",
   "execution_count": 59,
   "id": "cf1b574d-925a-4045-bbee-bcf0a7fd5272",
   "metadata": {},
   "outputs": [],
   "source": [
    "df_num.at[24, \"Quantity\"] = 3"
   ]
  },
  {
   "cell_type": "code",
   "execution_count": 60,
   "id": "4f6f20ad-e55f-4e32-8c42-62e129e3c575",
   "metadata": {},
   "outputs": [
    {
     "data": {
      "text/html": [
       "<div>\n",
       "<style scoped>\n",
       "    .dataframe tbody tr th:only-of-type {\n",
       "        vertical-align: middle;\n",
       "    }\n",
       "\n",
       "    .dataframe tbody tr th {\n",
       "        vertical-align: top;\n",
       "    }\n",
       "\n",
       "    .dataframe thead th {\n",
       "        text-align: right;\n",
       "    }\n",
       "</style>\n",
       "<table border=\"1\" class=\"dataframe\">\n",
       "  <thead>\n",
       "    <tr style=\"text-align: right;\">\n",
       "      <th></th>\n",
       "      <th>Order ID</th>\n",
       "      <th>Order Date</th>\n",
       "      <th>Customer ID</th>\n",
       "      <th>Customer Name</th>\n",
       "      <th>City</th>\n",
       "      <th>Region</th>\n",
       "      <th>Category</th>\n",
       "      <th>Quantity</th>\n",
       "      <th>Sales</th>\n",
       "      <th>Profit</th>\n",
       "    </tr>\n",
       "  </thead>\n",
       "  <tbody>\n",
       "    <tr>\n",
       "      <th>13</th>\n",
       "      <td>CA-2021-1013</td>\n",
       "      <td>2024-10-01</td>\n",
       "      <td>CUST-1013</td>\n",
       "      <td>Eric Reed</td>\n",
       "      <td>Ellisstad</td>\n",
       "      <td>East</td>\n",
       "      <td>Office Supplies</td>\n",
       "      <td>9.0</td>\n",
       "      <td>312.01</td>\n",
       "      <td>104.75</td>\n",
       "    </tr>\n",
       "    <tr>\n",
       "      <th>31</th>\n",
       "      <td>Unknown</td>\n",
       "      <td>2024-04-02</td>\n",
       "      <td>CUST-1031</td>\n",
       "      <td>Lisa Dominguez</td>\n",
       "      <td>Port Victoria</td>\n",
       "      <td>East</td>\n",
       "      <td>Office Supplies</td>\n",
       "      <td>NaN</td>\n",
       "      <td>707.11</td>\n",
       "      <td>118.88</td>\n",
       "    </tr>\n",
       "    <tr>\n",
       "      <th>63</th>\n",
       "      <td>CA-2021-1063</td>\n",
       "      <td>2024-02-23</td>\n",
       "      <td>CUST-1063</td>\n",
       "      <td>Richard Fernandez</td>\n",
       "      <td>New Amberbury</td>\n",
       "      <td>East</td>\n",
       "      <td>Office Supplies</td>\n",
       "      <td>5.0</td>\n",
       "      <td>911.59</td>\n",
       "      <td>155.40</td>\n",
       "    </tr>\n",
       "  </tbody>\n",
       "</table>\n",
       "</div>"
      ],
      "text/plain": [
       "        Order ID Order Date Customer ID      Customer Name           City  \\\n",
       "13  CA-2021-1013 2024-10-01   CUST-1013          Eric Reed      Ellisstad   \n",
       "31       Unknown 2024-04-02   CUST-1031     Lisa Dominguez  Port Victoria   \n",
       "63  CA-2021-1063 2024-02-23   CUST-1063  Richard Fernandez  New Amberbury   \n",
       "\n",
       "   Region         Category  Quantity   Sales  Profit  \n",
       "13   East  Office Supplies       9.0  312.01  104.75  \n",
       "31   East  Office Supplies       NaN  707.11  118.88  \n",
       "63   East  Office Supplies       5.0  911.59  155.40  "
      ]
     },
     "execution_count": 60,
     "metadata": {},
     "output_type": "execute_result"
    }
   ],
   "source": [
    "df_num_31 = df_num[(df_num[\"Category\"] == \"Office Supplies\") & (df_num[\"Region\"] == \"East\") & (df_num[\"Order Date\"] >= \"2024-1-1\") & (df_num[\"Order Date\"] <= \"2024-12-31\")]\n",
    "df_num_31"
   ]
  },
  {
   "cell_type": "code",
   "execution_count": 61,
   "id": "ef51fc47-b86f-4b29-bae4-4eba48d74713",
   "metadata": {},
   "outputs": [],
   "source": [
    "df_num.at[31, \"Quantity\"] = df_num_31[\"Quantity\"].mean()"
   ]
  },
  {
   "cell_type": "code",
   "execution_count": 62,
   "id": "0add0449-6fa1-4536-a3a6-1c28c59ee943",
   "metadata": {},
   "outputs": [
    {
     "data": {
      "text/html": [
       "<div>\n",
       "<style scoped>\n",
       "    .dataframe tbody tr th:only-of-type {\n",
       "        vertical-align: middle;\n",
       "    }\n",
       "\n",
       "    .dataframe tbody tr th {\n",
       "        vertical-align: top;\n",
       "    }\n",
       "\n",
       "    .dataframe thead th {\n",
       "        text-align: right;\n",
       "    }\n",
       "</style>\n",
       "<table border=\"1\" class=\"dataframe\">\n",
       "  <thead>\n",
       "    <tr style=\"text-align: right;\">\n",
       "      <th></th>\n",
       "      <th>Order ID</th>\n",
       "      <th>Order Date</th>\n",
       "      <th>Customer ID</th>\n",
       "      <th>Customer Name</th>\n",
       "      <th>City</th>\n",
       "      <th>Region</th>\n",
       "      <th>Category</th>\n",
       "      <th>Quantity</th>\n",
       "      <th>Sales</th>\n",
       "      <th>Profit</th>\n",
       "    </tr>\n",
       "  </thead>\n",
       "  <tbody>\n",
       "    <tr>\n",
       "      <th>39</th>\n",
       "      <td>CA-2021-1039</td>\n",
       "      <td>2025-02-04</td>\n",
       "      <td>CUST-1039</td>\n",
       "      <td>Sharon Austin</td>\n",
       "      <td>Garciahaven</td>\n",
       "      <td>South</td>\n",
       "      <td>Furniture</td>\n",
       "      <td>NaN</td>\n",
       "      <td>997.94</td>\n",
       "      <td>101.42</td>\n",
       "    </tr>\n",
       "    <tr>\n",
       "      <th>76</th>\n",
       "      <td>CA-2021-1076</td>\n",
       "      <td>2025-02-14</td>\n",
       "      <td>CUST-1076</td>\n",
       "      <td>Felicia Herring</td>\n",
       "      <td>Turnerport</td>\n",
       "      <td>South</td>\n",
       "      <td>Furniture</td>\n",
       "      <td>1.0</td>\n",
       "      <td>178.34</td>\n",
       "      <td>NaN</td>\n",
       "    </tr>\n",
       "    <tr>\n",
       "      <th>98</th>\n",
       "      <td>CA-2021-1098</td>\n",
       "      <td>2025-01-23</td>\n",
       "      <td>CUST-1098</td>\n",
       "      <td>Wendy Gordon</td>\n",
       "      <td>South Phillip</td>\n",
       "      <td>South</td>\n",
       "      <td>Furniture</td>\n",
       "      <td>1.0</td>\n",
       "      <td>632.64</td>\n",
       "      <td>260.67</td>\n",
       "    </tr>\n",
       "  </tbody>\n",
       "</table>\n",
       "</div>"
      ],
      "text/plain": [
       "        Order ID Order Date Customer ID    Customer Name           City  \\\n",
       "39  CA-2021-1039 2025-02-04   CUST-1039    Sharon Austin    Garciahaven   \n",
       "76  CA-2021-1076 2025-02-14   CUST-1076  Felicia Herring     Turnerport   \n",
       "98  CA-2021-1098 2025-01-23   CUST-1098     Wendy Gordon  South Phillip   \n",
       "\n",
       "   Region   Category  Quantity   Sales  Profit  \n",
       "39  South  Furniture       NaN  997.94  101.42  \n",
       "76  South  Furniture       1.0  178.34     NaN  \n",
       "98  South  Furniture       1.0  632.64  260.67  "
      ]
     },
     "execution_count": 62,
     "metadata": {},
     "output_type": "execute_result"
    }
   ],
   "source": [
    "df_num_39 = df_num[(df_num[\"Category\"] == \"Furniture\") & (df_num[\"Region\"] == \"South\") & (df_num[\"Order Date\"] >= \"2025-1-1\")]\n",
    "df_num_39"
   ]
  },
  {
   "cell_type": "code",
   "execution_count": 63,
   "id": "49a1d8b7-0b52-4b2e-a39c-f4c126490573",
   "metadata": {},
   "outputs": [],
   "source": [
    "df_num.at[39, \"Quantity\"] = df_num_39[\"Quantity\"].mean()"
   ]
  },
  {
   "cell_type": "code",
   "execution_count": 64,
   "id": "82cb364a-a41b-4c6b-abb0-370569300ad1",
   "metadata": {},
   "outputs": [
    {
     "data": {
      "text/html": [
       "<div>\n",
       "<style scoped>\n",
       "    .dataframe tbody tr th:only-of-type {\n",
       "        vertical-align: middle;\n",
       "    }\n",
       "\n",
       "    .dataframe tbody tr th {\n",
       "        vertical-align: top;\n",
       "    }\n",
       "\n",
       "    .dataframe thead th {\n",
       "        text-align: right;\n",
       "    }\n",
       "</style>\n",
       "<table border=\"1\" class=\"dataframe\">\n",
       "  <thead>\n",
       "    <tr style=\"text-align: right;\">\n",
       "      <th></th>\n",
       "      <th>Order ID</th>\n",
       "      <th>Order Date</th>\n",
       "      <th>Customer ID</th>\n",
       "      <th>Customer Name</th>\n",
       "      <th>City</th>\n",
       "      <th>Region</th>\n",
       "      <th>Category</th>\n",
       "      <th>Quantity</th>\n",
       "      <th>Sales</th>\n",
       "      <th>Profit</th>\n",
       "    </tr>\n",
       "  </thead>\n",
       "  <tbody>\n",
       "    <tr>\n",
       "      <th>20</th>\n",
       "      <td>CA-2021-1020</td>\n",
       "      <td>2024-05-04</td>\n",
       "      <td>CUST-1020</td>\n",
       "      <td>Jacob Dixon</td>\n",
       "      <td>Joshuaborough</td>\n",
       "      <td>West</td>\n",
       "      <td>Furniture</td>\n",
       "      <td>9.0</td>\n",
       "      <td>339.19</td>\n",
       "      <td>115.11</td>\n",
       "    </tr>\n",
       "    <tr>\n",
       "      <th>40</th>\n",
       "      <td>CA-2021-1040</td>\n",
       "      <td>2024-06-16</td>\n",
       "      <td>CUST-1040</td>\n",
       "      <td>Matthew Thomas</td>\n",
       "      <td>East Christopherchester</td>\n",
       "      <td>West</td>\n",
       "      <td>Furniture</td>\n",
       "      <td>NaN</td>\n",
       "      <td>534.89</td>\n",
       "      <td>238.03</td>\n",
       "    </tr>\n",
       "    <tr>\n",
       "      <th>68</th>\n",
       "      <td>CA-2021-1068</td>\n",
       "      <td>2024-07-07</td>\n",
       "      <td>CUST-1068</td>\n",
       "      <td>Jenna Acosta</td>\n",
       "      <td>Unknown</td>\n",
       "      <td>West</td>\n",
       "      <td>Furniture</td>\n",
       "      <td>6.0</td>\n",
       "      <td>269.65</td>\n",
       "      <td>-72.93</td>\n",
       "    </tr>\n",
       "  </tbody>\n",
       "</table>\n",
       "</div>"
      ],
      "text/plain": [
       "        Order ID Order Date Customer ID   Customer Name  \\\n",
       "20  CA-2021-1020 2024-05-04   CUST-1020     Jacob Dixon   \n",
       "40  CA-2021-1040 2024-06-16   CUST-1040  Matthew Thomas   \n",
       "68  CA-2021-1068 2024-07-07   CUST-1068    Jenna Acosta   \n",
       "\n",
       "                       City Region   Category  Quantity   Sales  Profit  \n",
       "20            Joshuaborough   West  Furniture       9.0  339.19  115.11  \n",
       "40  East Christopherchester   West  Furniture       NaN  534.89  238.03  \n",
       "68                  Unknown   West  Furniture       6.0  269.65  -72.93  "
      ]
     },
     "execution_count": 64,
     "metadata": {},
     "output_type": "execute_result"
    }
   ],
   "source": [
    "df_num_40 = df_num[(df_num[\"Category\"] == \"Furniture\") & (df_num[\"Region\"] == \"West\") & (df_num[\"Order Date\"] >= \"2024-5-1\") & (df_num[\"Order Date\"] <= \"2024-8-1\")]\n",
    "df_num_40"
   ]
  },
  {
   "cell_type": "code",
   "execution_count": 65,
   "id": "44ae4bfb-a3cf-41e5-988e-3e5104af21db",
   "metadata": {},
   "outputs": [],
   "source": [
    "df_num.at[40, \"Quantity\"] = df_num_40[\"Quantity\"].mean()"
   ]
  },
  {
   "cell_type": "code",
   "execution_count": 71,
   "id": "a11c77b5-8038-40e9-8c41-6fc0668fa918",
   "metadata": {},
   "outputs": [
    {
     "data": {
      "text/html": [
       "<div>\n",
       "<style scoped>\n",
       "    .dataframe tbody tr th:only-of-type {\n",
       "        vertical-align: middle;\n",
       "    }\n",
       "\n",
       "    .dataframe tbody tr th {\n",
       "        vertical-align: top;\n",
       "    }\n",
       "\n",
       "    .dataframe thead th {\n",
       "        text-align: right;\n",
       "    }\n",
       "</style>\n",
       "<table border=\"1\" class=\"dataframe\">\n",
       "  <thead>\n",
       "    <tr style=\"text-align: right;\">\n",
       "      <th></th>\n",
       "      <th>Order ID</th>\n",
       "      <th>Order Date</th>\n",
       "      <th>Customer ID</th>\n",
       "      <th>Customer Name</th>\n",
       "      <th>City</th>\n",
       "      <th>Region</th>\n",
       "      <th>Category</th>\n",
       "      <th>Quantity</th>\n",
       "      <th>Sales</th>\n",
       "      <th>Profit</th>\n",
       "    </tr>\n",
       "  </thead>\n",
       "  <tbody>\n",
       "    <tr>\n",
       "      <th>67</th>\n",
       "      <td>CA-2021-1067</td>\n",
       "      <td>2025-02-11</td>\n",
       "      <td>CUST-1067</td>\n",
       "      <td>Charles Burch</td>\n",
       "      <td>Roberttown</td>\n",
       "      <td>Central</td>\n",
       "      <td>Technology</td>\n",
       "      <td>1.0</td>\n",
       "      <td>742.89</td>\n",
       "      <td>135.20</td>\n",
       "    </tr>\n",
       "    <tr>\n",
       "      <th>78</th>\n",
       "      <td>CA-2021-1078</td>\n",
       "      <td>2025-02-21</td>\n",
       "      <td>CUST-1078</td>\n",
       "      <td>Kara Robertson</td>\n",
       "      <td>Port Christinaside</td>\n",
       "      <td>Central</td>\n",
       "      <td>Technology</td>\n",
       "      <td>NaN</td>\n",
       "      <td>274.25</td>\n",
       "      <td>-27.95</td>\n",
       "    </tr>\n",
       "  </tbody>\n",
       "</table>\n",
       "</div>"
      ],
      "text/plain": [
       "        Order ID Order Date Customer ID   Customer Name                City  \\\n",
       "67  CA-2021-1067 2025-02-11   CUST-1067   Charles Burch          Roberttown   \n",
       "78  CA-2021-1078 2025-02-21   CUST-1078  Kara Robertson  Port Christinaside   \n",
       "\n",
       "     Region    Category  Quantity   Sales  Profit  \n",
       "67  Central  Technology       1.0  742.89  135.20  \n",
       "78  Central  Technology       NaN  274.25  -27.95  "
      ]
     },
     "execution_count": 71,
     "metadata": {},
     "output_type": "execute_result"
    }
   ],
   "source": [
    "df_num[(df_num[\"Category\"] == \"Technology\") & (df_num[\"Region\"] == \"Central\") & (df_num[\"Order Date\"] >= \"2025-1-1\") & (df_num[\"Order Date\"] <= \"2025-3-1\")]"
   ]
  },
  {
   "cell_type": "code",
   "execution_count": 66,
   "id": "f1072082-ceee-4fe6-92eb-19a4aa708d1c",
   "metadata": {},
   "outputs": [],
   "source": [
    "df_num.at[78, \"Quantity\"] = 1"
   ]
  },
  {
   "cell_type": "code",
   "execution_count": 67,
   "id": "f3ddf577-f05a-49a5-bea5-d756a724ccde",
   "metadata": {},
   "outputs": [],
   "source": [
    "df_num.drop(index= 96, inplace= True)"
   ]
  },
  {
   "cell_type": "code",
   "execution_count": 68,
   "id": "3322a3e5-9415-4b65-b355-15e3289b2bf4",
   "metadata": {},
   "outputs": [
    {
     "data": {
      "text/html": [
       "<div>\n",
       "<style scoped>\n",
       "    .dataframe tbody tr th:only-of-type {\n",
       "        vertical-align: middle;\n",
       "    }\n",
       "\n",
       "    .dataframe tbody tr th {\n",
       "        vertical-align: top;\n",
       "    }\n",
       "\n",
       "    .dataframe thead th {\n",
       "        text-align: right;\n",
       "    }\n",
       "</style>\n",
       "<table border=\"1\" class=\"dataframe\">\n",
       "  <thead>\n",
       "    <tr style=\"text-align: right;\">\n",
       "      <th></th>\n",
       "      <th>Order ID</th>\n",
       "      <th>Order Date</th>\n",
       "      <th>Customer ID</th>\n",
       "      <th>Customer Name</th>\n",
       "      <th>City</th>\n",
       "      <th>Region</th>\n",
       "      <th>Category</th>\n",
       "      <th>Quantity</th>\n",
       "      <th>Sales</th>\n",
       "      <th>Profit</th>\n",
       "    </tr>\n",
       "  </thead>\n",
       "  <tbody>\n",
       "    <tr>\n",
       "      <th>24</th>\n",
       "      <td>CA-2021-1024</td>\n",
       "      <td>2024-12-01</td>\n",
       "      <td>CUST-1024</td>\n",
       "      <td>Noah Parks</td>\n",
       "      <td>Douglasport</td>\n",
       "      <td>Central</td>\n",
       "      <td>Office Supplies</td>\n",
       "      <td>3.0</td>\n",
       "      <td>829.36</td>\n",
       "      <td>-71.03</td>\n",
       "    </tr>\n",
       "    <tr>\n",
       "      <th>31</th>\n",
       "      <td>Unknown</td>\n",
       "      <td>2024-04-02</td>\n",
       "      <td>CUST-1031</td>\n",
       "      <td>Lisa Dominguez</td>\n",
       "      <td>Port Victoria</td>\n",
       "      <td>East</td>\n",
       "      <td>Office Supplies</td>\n",
       "      <td>7.0</td>\n",
       "      <td>707.11</td>\n",
       "      <td>118.88</td>\n",
       "    </tr>\n",
       "    <tr>\n",
       "      <th>39</th>\n",
       "      <td>CA-2021-1039</td>\n",
       "      <td>2025-02-04</td>\n",
       "      <td>CUST-1039</td>\n",
       "      <td>Sharon Austin</td>\n",
       "      <td>Garciahaven</td>\n",
       "      <td>South</td>\n",
       "      <td>Furniture</td>\n",
       "      <td>1.0</td>\n",
       "      <td>997.94</td>\n",
       "      <td>101.42</td>\n",
       "    </tr>\n",
       "    <tr>\n",
       "      <th>40</th>\n",
       "      <td>CA-2021-1040</td>\n",
       "      <td>2024-06-16</td>\n",
       "      <td>CUST-1040</td>\n",
       "      <td>Matthew Thomas</td>\n",
       "      <td>East Christopherchester</td>\n",
       "      <td>West</td>\n",
       "      <td>Furniture</td>\n",
       "      <td>7.5</td>\n",
       "      <td>534.89</td>\n",
       "      <td>238.03</td>\n",
       "    </tr>\n",
       "    <tr>\n",
       "      <th>79</th>\n",
       "      <td>CA-2021-1079</td>\n",
       "      <td>2025-03-09</td>\n",
       "      <td>CUST-1079</td>\n",
       "      <td>Anne Schultz</td>\n",
       "      <td>Sarafurt</td>\n",
       "      <td>West</td>\n",
       "      <td>Office Supplies</td>\n",
       "      <td>9.0</td>\n",
       "      <td>226.60</td>\n",
       "      <td>63.65</td>\n",
       "    </tr>\n",
       "  </tbody>\n",
       "</table>\n",
       "</div>"
      ],
      "text/plain": [
       "        Order ID Order Date Customer ID   Customer Name  \\\n",
       "24  CA-2021-1024 2024-12-01   CUST-1024      Noah Parks   \n",
       "31       Unknown 2024-04-02   CUST-1031  Lisa Dominguez   \n",
       "39  CA-2021-1039 2025-02-04   CUST-1039   Sharon Austin   \n",
       "40  CA-2021-1040 2024-06-16   CUST-1040  Matthew Thomas   \n",
       "79  CA-2021-1079 2025-03-09   CUST-1079    Anne Schultz   \n",
       "\n",
       "                       City   Region         Category  Quantity   Sales  \\\n",
       "24              Douglasport  Central  Office Supplies       3.0  829.36   \n",
       "31            Port Victoria     East  Office Supplies       7.0  707.11   \n",
       "39              Garciahaven    South        Furniture       1.0  997.94   \n",
       "40  East Christopherchester     West        Furniture       7.5  534.89   \n",
       "79                 Sarafurt     West  Office Supplies       9.0  226.60   \n",
       "\n",
       "    Profit  \n",
       "24  -71.03  \n",
       "31  118.88  \n",
       "39  101.42  \n",
       "40  238.03  \n",
       "79   63.65  "
      ]
     },
     "execution_count": 68,
     "metadata": {},
     "output_type": "execute_result"
    }
   ],
   "source": [
    "df_num.iloc[[24,31,39,40,78]]"
   ]
  },
  {
   "cell_type": "code",
   "execution_count": 75,
   "id": "b13f90c5-6b1a-4862-9503-6fe4fb1dae0d",
   "metadata": {},
   "outputs": [
    {
     "data": {
      "text/plain": [
       "4.913265306122449"
      ]
     },
     "execution_count": 75,
     "metadata": {},
     "output_type": "execute_result"
    }
   ],
   "source": [
    "df_num[\"Quantity\"].mean()"
   ]
  },
  {
   "cell_type": "code",
   "execution_count": 76,
   "id": "16184468-75b3-4536-81f0-2be930ea3da4",
   "metadata": {},
   "outputs": [
    {
     "data": {
      "text/plain": [
       "481.5"
      ]
     },
     "execution_count": 76,
     "metadata": {},
     "output_type": "execute_result"
    }
   ],
   "source": [
    "df_num[\"Quantity\"].sum()"
   ]
  },
  {
   "cell_type": "markdown",
   "id": "1c518be0-155f-4d6c-9b30-4d904f6e2936",
   "metadata": {},
   "source": [
    "#### <b><font color= #FFFF00> Quantity column Analysis :"
   ]
  },
  {
   "cell_type": "markdown",
   "id": "3d811005-074c-4fef-b825-e6659e91976b",
   "metadata": {},
   "source": [
    "#### <b> <font color= #ABFF00> *Step - 1 : Initial Exploration*\n",
    "##### You checked the structure and stats of the `Quantity` column using:\n",
    "- ##### `info()`, `count()` → to identify null values\n",
    "- ##### `min()`, `max()`, `mean()`, `sum()` → to understand data distribution\n",
    "#### <b> <font color= #ABFF00> *Step - 2 : Null Row Identification*\n",
    "##### You filtered and reviewed rows with missing `Quantity` using `df[df[\"Quantity\"].isnull()]`.\n",
    "#### <b> <font color= #ABFF00> *Step - 3 : Contextual Imputation – Group Based Mean or Manual*\n",
    "##### For each null row, you grouped the data by relevant `Category` + `Region` + Date Range, and used either the group mean or a manual assignment to fill the value:\n",
    "- ##### Index = 24, Filters Used = Office Supplies + Central + Dec 2024+, Method = Manual, Assigned Value = 3\n",
    "- ##### Index = 31, Filters Used = Office Supplies + East + 2024, Method = Group Mean, Assigned Value = Mean value from filtered group\n",
    "- ##### Index = 39, Filters Used = Furniture + South + 2025+, Method = Group Mean, Assigned Value = Mean value from filtered group\n",
    "- ##### Index = 40, Filters Used = Furniture + West + May–Aug 2024, Method = Group Mean, Assigned Value = Mean value from filtered group\n",
    "- ##### Index = 78, Filters Used = Technology + Central + Jan–Mar 2025, Method = Dropped, Assigned Value = 1\n",
    "- ##### Index = 96, Filters Used = Insufficient data, Method = Manual, Assigned Value = Droped\n",
    "##### You chose manual values `(like 3 and 1)` only when the data size was too small for accurate averaging, which is a practical and reasonable decision.\n",
    "#### <b> <font color= #ABFF00> *Step - 4 : Final Checks*\n",
    "##### After imputation, you reviewed the updated rows using: `df_num.iloc[[24,31,39,40,78]]`\n",
    "#### <b> <font color= #ABFF00> *Conclusion*\n",
    "##### Missing values in the Quantity column were filled using context-aware logic based on:\n",
    "- ##### Category (product type)\n",
    "- ##### Region (geographic context)\n",
    "- ##### Order Date (time of sale)\n",
    "##### When enough similar data existed, I used the mean value of that group. In cases with limited data, I used manual but reasonable estimations.\n",
    "##### The row with index `96` was dropped as it lacked sufficient reference values across other columns.\n",
    "##### This method ensures imputed values stay realistic, data-driven, and aligned with the rest of the dataset, avoiding random or misleading imputations."
   ]
  },
  {
   "cell_type": "code",
   "execution_count": 77,
   "id": "a333f4af-39d9-47ac-b86d-23dbc1d4c0f4",
   "metadata": {},
   "outputs": [
    {
     "name": "stdout",
     "output_type": "stream",
     "text": [
      "<class 'pandas.core.series.Series'>\n",
      "Index: 98 entries, 0 to 99\n",
      "Series name: Quantity\n",
      "Non-Null Count  Dtype  \n",
      "--------------  -----  \n",
      "98 non-null     float64\n",
      "dtypes: float64(1)\n",
      "memory usage: 1.5 KB\n"
     ]
    }
   ],
   "source": [
    "df_num[\"Quantity\"].info()"
   ]
  },
  {
   "cell_type": "markdown",
   "id": "44b48500-9f54-43c8-8125-e82a18fe2660",
   "metadata": {},
   "source": [
    "#### <b> <font color= #FFFF00> 2 - Handling the Sales column :\n",
    "- ##### *Type: Object*\n",
    "- ##### *Total_Rows: 98*\n",
    "- ##### *Fill_values: 89*\n",
    "- ##### *Null_values: 9*"
   ]
  },
  {
   "cell_type": "code",
   "execution_count": 124,
   "id": "e2947b37-1e2b-44bb-a332-f8c11f50cf39",
   "metadata": {},
   "outputs": [
    {
     "name": "stdout",
     "output_type": "stream",
     "text": [
      "<class 'pandas.core.series.Series'>\n",
      "Index: 98 entries, 0 to 99\n",
      "Series name: Sales\n",
      "Non-Null Count  Dtype  \n",
      "--------------  -----  \n",
      "89 non-null     float64\n",
      "dtypes: float64(1)\n",
      "memory usage: 1.5 KB\n"
     ]
    }
   ],
   "source": [
    "df_num[\"Sales\"].info()"
   ]
  },
  {
   "cell_type": "code",
   "execution_count": 129,
   "id": "57a020d3-3623-47a4-8a6f-6e3174f98085",
   "metadata": {},
   "outputs": [
    {
     "data": {
      "text/plain": [
       "89"
      ]
     },
     "execution_count": 129,
     "metadata": {},
     "output_type": "execute_result"
    }
   ],
   "source": [
    "df_num[\"Sales\"].count()"
   ]
  },
  {
   "cell_type": "code",
   "execution_count": 123,
   "id": "1e588469-e917-4d4a-b8dc-9ecaec448492",
   "metadata": {},
   "outputs": [
    {
     "data": {
      "text/plain": [
       "9"
      ]
     },
     "execution_count": 123,
     "metadata": {},
     "output_type": "execute_result"
    }
   ],
   "source": [
    "df_num[\"Sales\"].isnull().sum()"
   ]
  },
  {
   "cell_type": "code",
   "execution_count": 125,
   "id": "cb530a03-1e67-44a5-af17-41d173868c72",
   "metadata": {},
   "outputs": [
    {
     "data": {
      "text/plain": [
       "20.49"
      ]
     },
     "execution_count": 125,
     "metadata": {},
     "output_type": "execute_result"
    }
   ],
   "source": [
    "df_num[\"Sales\"].min()"
   ]
  },
  {
   "cell_type": "code",
   "execution_count": 126,
   "id": "c7e77405-efa4-42f5-898e-a3136b5a219b",
   "metadata": {},
   "outputs": [
    {
     "data": {
      "text/plain": [
       "997.94"
      ]
     },
     "execution_count": 126,
     "metadata": {},
     "output_type": "execute_result"
    }
   ],
   "source": [
    "df_num[\"Sales\"].max()"
   ]
  },
  {
   "cell_type": "code",
   "execution_count": 127,
   "id": "50ba5643-617d-4d41-869c-39719d8918ca",
   "metadata": {},
   "outputs": [
    {
     "data": {
      "text/plain": [
       "473.58831460674156"
      ]
     },
     "execution_count": 127,
     "metadata": {},
     "output_type": "execute_result"
    }
   ],
   "source": [
    "df_num[\"Sales\"].mean()"
   ]
  },
  {
   "cell_type": "code",
   "execution_count": 130,
   "id": "505754f8-906f-407e-bf0f-dfa91077fedb",
   "metadata": {},
   "outputs": [
    {
     "data": {
      "text/plain": [
       "42149.36"
      ]
     },
     "execution_count": 130,
     "metadata": {},
     "output_type": "execute_result"
    }
   ],
   "source": [
    "df_num[\"Sales\"].sum()"
   ]
  },
  {
   "cell_type": "code",
   "execution_count": 131,
   "id": "1787b197-1b72-4ca5-84e7-577a7e7697cb",
   "metadata": {},
   "outputs": [
    {
     "data": {
      "text/html": [
       "<div>\n",
       "<style scoped>\n",
       "    .dataframe tbody tr th:only-of-type {\n",
       "        vertical-align: middle;\n",
       "    }\n",
       "\n",
       "    .dataframe tbody tr th {\n",
       "        vertical-align: top;\n",
       "    }\n",
       "\n",
       "    .dataframe thead th {\n",
       "        text-align: right;\n",
       "    }\n",
       "</style>\n",
       "<table border=\"1\" class=\"dataframe\">\n",
       "  <thead>\n",
       "    <tr style=\"text-align: right;\">\n",
       "      <th></th>\n",
       "      <th>Order ID</th>\n",
       "      <th>Order Date</th>\n",
       "      <th>Customer ID</th>\n",
       "      <th>Customer Name</th>\n",
       "      <th>City</th>\n",
       "      <th>Region</th>\n",
       "      <th>Category</th>\n",
       "      <th>Quantity</th>\n",
       "      <th>Sales</th>\n",
       "      <th>Profit</th>\n",
       "    </tr>\n",
       "  </thead>\n",
       "  <tbody>\n",
       "    <tr>\n",
       "      <th>16</th>\n",
       "      <td>CA-2021-1016</td>\n",
       "      <td>2024-01-22</td>\n",
       "      <td>CUST-1016</td>\n",
       "      <td>Edwin Cole</td>\n",
       "      <td>Wufurt</td>\n",
       "      <td>Central</td>\n",
       "      <td>Furniture</td>\n",
       "      <td>9.0</td>\n",
       "      <td>NaN</td>\n",
       "      <td>105.83</td>\n",
       "    </tr>\n",
       "    <tr>\n",
       "      <th>30</th>\n",
       "      <td>CA-2021-1030</td>\n",
       "      <td>2025-02-24</td>\n",
       "      <td>CUST-1030</td>\n",
       "      <td>Deborah Johnson</td>\n",
       "      <td>Port Lynnfurt</td>\n",
       "      <td>East</td>\n",
       "      <td>Furniture</td>\n",
       "      <td>3.0</td>\n",
       "      <td>NaN</td>\n",
       "      <td>221.83</td>\n",
       "    </tr>\n",
       "    <tr>\n",
       "      <th>33</th>\n",
       "      <td>CA-2021-1033</td>\n",
       "      <td>2024-10-31</td>\n",
       "      <td>CUST-1033</td>\n",
       "      <td>Rodney Perry</td>\n",
       "      <td>North Jeremychester</td>\n",
       "      <td>West</td>\n",
       "      <td>Technology</td>\n",
       "      <td>7.0</td>\n",
       "      <td>NaN</td>\n",
       "      <td>52.33</td>\n",
       "    </tr>\n",
       "    <tr>\n",
       "      <th>42</th>\n",
       "      <td>CA-2021-1042</td>\n",
       "      <td>2025-02-15</td>\n",
       "      <td>Unknown</td>\n",
       "      <td>Colleen Williams</td>\n",
       "      <td>Port Stephanie</td>\n",
       "      <td>Central</td>\n",
       "      <td>Office Supplies</td>\n",
       "      <td>1.0</td>\n",
       "      <td>NaN</td>\n",
       "      <td>95.02</td>\n",
       "    </tr>\n",
       "    <tr>\n",
       "      <th>46</th>\n",
       "      <td>CA-2021-1046</td>\n",
       "      <td>2024-12-16</td>\n",
       "      <td>CUST-1046</td>\n",
       "      <td>Aaron Ortiz</td>\n",
       "      <td>Davidside</td>\n",
       "      <td>West</td>\n",
       "      <td>Office Supplies</td>\n",
       "      <td>6.0</td>\n",
       "      <td>NaN</td>\n",
       "      <td>149.79</td>\n",
       "    </tr>\n",
       "    <tr>\n",
       "      <th>51</th>\n",
       "      <td>CA-2021-1051</td>\n",
       "      <td>2023-07-24</td>\n",
       "      <td>CUST-1051</td>\n",
       "      <td>Joseph Campbell</td>\n",
       "      <td>Lake Craigstad</td>\n",
       "      <td>Central</td>\n",
       "      <td>Office Supplies</td>\n",
       "      <td>9.0</td>\n",
       "      <td>NaN</td>\n",
       "      <td>215.96</td>\n",
       "    </tr>\n",
       "    <tr>\n",
       "      <th>52</th>\n",
       "      <td>CA-2021-1052</td>\n",
       "      <td>2024-04-28</td>\n",
       "      <td>CUST-1052</td>\n",
       "      <td>Taylor Burton</td>\n",
       "      <td>Unknown</td>\n",
       "      <td>West</td>\n",
       "      <td>Furniture</td>\n",
       "      <td>2.0</td>\n",
       "      <td>NaN</td>\n",
       "      <td>257.70</td>\n",
       "    </tr>\n",
       "    <tr>\n",
       "      <th>61</th>\n",
       "      <td>CA-2021-1061</td>\n",
       "      <td>2025-05-11</td>\n",
       "      <td>CUST-1061</td>\n",
       "      <td>Edward Gonzales</td>\n",
       "      <td>Thomasshire</td>\n",
       "      <td>South</td>\n",
       "      <td>Technology</td>\n",
       "      <td>10.0</td>\n",
       "      <td>NaN</td>\n",
       "      <td>63.81</td>\n",
       "    </tr>\n",
       "    <tr>\n",
       "      <th>94</th>\n",
       "      <td>CA-2021-1094</td>\n",
       "      <td>2023-10-16</td>\n",
       "      <td>Unknown</td>\n",
       "      <td>Curtis Escobar</td>\n",
       "      <td>Lake Katherine</td>\n",
       "      <td>Central</td>\n",
       "      <td>Technology</td>\n",
       "      <td>4.0</td>\n",
       "      <td>NaN</td>\n",
       "      <td>201.22</td>\n",
       "    </tr>\n",
       "  </tbody>\n",
       "</table>\n",
       "</div>"
      ],
      "text/plain": [
       "        Order ID Order Date Customer ID     Customer Name  \\\n",
       "16  CA-2021-1016 2024-01-22   CUST-1016        Edwin Cole   \n",
       "30  CA-2021-1030 2025-02-24   CUST-1030   Deborah Johnson   \n",
       "33  CA-2021-1033 2024-10-31   CUST-1033      Rodney Perry   \n",
       "42  CA-2021-1042 2025-02-15     Unknown  Colleen Williams   \n",
       "46  CA-2021-1046 2024-12-16   CUST-1046       Aaron Ortiz   \n",
       "51  CA-2021-1051 2023-07-24   CUST-1051   Joseph Campbell   \n",
       "52  CA-2021-1052 2024-04-28   CUST-1052     Taylor Burton   \n",
       "61  CA-2021-1061 2025-05-11   CUST-1061   Edward Gonzales   \n",
       "94  CA-2021-1094 2023-10-16     Unknown    Curtis Escobar   \n",
       "\n",
       "                   City   Region         Category  Quantity  Sales  Profit  \n",
       "16               Wufurt  Central        Furniture       9.0    NaN  105.83  \n",
       "30        Port Lynnfurt     East        Furniture       3.0    NaN  221.83  \n",
       "33  North Jeremychester     West       Technology       7.0    NaN   52.33  \n",
       "42       Port Stephanie  Central  Office Supplies       1.0    NaN   95.02  \n",
       "46            Davidside     West  Office Supplies       6.0    NaN  149.79  \n",
       "51       Lake Craigstad  Central  Office Supplies       9.0    NaN  215.96  \n",
       "52              Unknown     West        Furniture       2.0    NaN  257.70  \n",
       "61          Thomasshire    South       Technology      10.0    NaN   63.81  \n",
       "94       Lake Katherine  Central       Technology       4.0    NaN  201.22  "
      ]
     },
     "execution_count": 131,
     "metadata": {},
     "output_type": "execute_result"
    }
   ],
   "source": [
    "df_num[df_num[\"Sales\"].isnull()]"
   ]
  },
  {
   "cell_type": "code",
   "execution_count": 71,
   "id": "51db9171-c9b9-44d0-8523-81a993267475",
   "metadata": {},
   "outputs": [
    {
     "data": {
      "text/html": [
       "<div>\n",
       "<style scoped>\n",
       "    .dataframe tbody tr th:only-of-type {\n",
       "        vertical-align: middle;\n",
       "    }\n",
       "\n",
       "    .dataframe tbody tr th {\n",
       "        vertical-align: top;\n",
       "    }\n",
       "\n",
       "    .dataframe thead th {\n",
       "        text-align: right;\n",
       "    }\n",
       "</style>\n",
       "<table border=\"1\" class=\"dataframe\">\n",
       "  <thead>\n",
       "    <tr style=\"text-align: right;\">\n",
       "      <th></th>\n",
       "      <th>Order ID</th>\n",
       "      <th>Order Date</th>\n",
       "      <th>Customer ID</th>\n",
       "      <th>Customer Name</th>\n",
       "      <th>City</th>\n",
       "      <th>Region</th>\n",
       "      <th>Category</th>\n",
       "      <th>Quantity</th>\n",
       "      <th>Sales</th>\n",
       "      <th>Profit</th>\n",
       "    </tr>\n",
       "  </thead>\n",
       "  <tbody>\n",
       "    <tr>\n",
       "      <th>1</th>\n",
       "      <td>CA-2021-1001</td>\n",
       "      <td>2024-01-01</td>\n",
       "      <td>CUST-1001</td>\n",
       "      <td>Ryan Lambert</td>\n",
       "      <td>East Melissaberg</td>\n",
       "      <td>Central</td>\n",
       "      <td>Furniture</td>\n",
       "      <td>3.0</td>\n",
       "      <td>868.01</td>\n",
       "      <td>NaN</td>\n",
       "    </tr>\n",
       "    <tr>\n",
       "      <th>2</th>\n",
       "      <td>CA-2021-1002</td>\n",
       "      <td>2024-02-04</td>\n",
       "      <td>CUST-1002</td>\n",
       "      <td>Lisa Hickman</td>\n",
       "      <td>West Debbie</td>\n",
       "      <td>Central</td>\n",
       "      <td>Furniture</td>\n",
       "      <td>2.0</td>\n",
       "      <td>105.02</td>\n",
       "      <td>296.82</td>\n",
       "    </tr>\n",
       "    <tr>\n",
       "      <th>6</th>\n",
       "      <td>CA-2021-1006</td>\n",
       "      <td>2024-01-01</td>\n",
       "      <td>CUST-1006</td>\n",
       "      <td>Brandi Taylor</td>\n",
       "      <td>Parkermouth</td>\n",
       "      <td>Central</td>\n",
       "      <td>Furniture</td>\n",
       "      <td>4.0</td>\n",
       "      <td>710.76</td>\n",
       "      <td>-57.05</td>\n",
       "    </tr>\n",
       "    <tr>\n",
       "      <th>16</th>\n",
       "      <td>CA-2021-1016</td>\n",
       "      <td>2024-01-22</td>\n",
       "      <td>CUST-1016</td>\n",
       "      <td>Edwin Cole</td>\n",
       "      <td>Wufurt</td>\n",
       "      <td>Central</td>\n",
       "      <td>Furniture</td>\n",
       "      <td>9.0</td>\n",
       "      <td>NaN</td>\n",
       "      <td>105.83</td>\n",
       "    </tr>\n",
       "  </tbody>\n",
       "</table>\n",
       "</div>"
      ],
      "text/plain": [
       "        Order ID Order Date Customer ID  Customer Name              City  \\\n",
       "1   CA-2021-1001 2024-01-01   CUST-1001   Ryan Lambert  East Melissaberg   \n",
       "2   CA-2021-1002 2024-02-04   CUST-1002   Lisa Hickman       West Debbie   \n",
       "6   CA-2021-1006 2024-01-01   CUST-1006  Brandi Taylor       Parkermouth   \n",
       "16  CA-2021-1016 2024-01-22   CUST-1016     Edwin Cole            Wufurt   \n",
       "\n",
       "     Region   Category  Quantity   Sales  Profit  \n",
       "1   Central  Furniture       3.0  868.01     NaN  \n",
       "2   Central  Furniture       2.0  105.02  296.82  \n",
       "6   Central  Furniture       4.0  710.76  -57.05  \n",
       "16  Central  Furniture       9.0     NaN  105.83  "
      ]
     },
     "execution_count": 71,
     "metadata": {},
     "output_type": "execute_result"
    }
   ],
   "source": [
    "df_num_16 = df_num[(df_num[\"Category\"] == \"Furniture\") & (df_num[\"Region\"] == \"Central\") & (df_num[\"Order Date\"] >= \"2024-1-1\") & (df_num[\"Order Date\"] <= \"2024-2-28\")]\n",
    "df_num_16"
   ]
  },
  {
   "cell_type": "code",
   "execution_count": 72,
   "id": "fe936e6b-04f9-4513-a20f-88bd3a1b1638",
   "metadata": {},
   "outputs": [],
   "source": [
    "df_num.at[16, \"Sales\"] = df_num_16[\"Sales\"].mean()"
   ]
  },
  {
   "cell_type": "code",
   "execution_count": 73,
   "id": "8f5aa28e-71ca-4ecb-9578-07a040c7899b",
   "metadata": {},
   "outputs": [
    {
     "data": {
      "text/html": [
       "<div>\n",
       "<style scoped>\n",
       "    .dataframe tbody tr th:only-of-type {\n",
       "        vertical-align: middle;\n",
       "    }\n",
       "\n",
       "    .dataframe tbody tr th {\n",
       "        vertical-align: top;\n",
       "    }\n",
       "\n",
       "    .dataframe thead th {\n",
       "        text-align: right;\n",
       "    }\n",
       "</style>\n",
       "<table border=\"1\" class=\"dataframe\">\n",
       "  <thead>\n",
       "    <tr style=\"text-align: right;\">\n",
       "      <th></th>\n",
       "      <th>Order ID</th>\n",
       "      <th>Order Date</th>\n",
       "      <th>Customer ID</th>\n",
       "      <th>Customer Name</th>\n",
       "      <th>City</th>\n",
       "      <th>Region</th>\n",
       "      <th>Category</th>\n",
       "      <th>Quantity</th>\n",
       "      <th>Sales</th>\n",
       "      <th>Profit</th>\n",
       "    </tr>\n",
       "  </thead>\n",
       "  <tbody>\n",
       "    <tr>\n",
       "      <th>30</th>\n",
       "      <td>CA-2021-1030</td>\n",
       "      <td>2025-02-24</td>\n",
       "      <td>CUST-1030</td>\n",
       "      <td>Deborah Johnson</td>\n",
       "      <td>Port Lynnfurt</td>\n",
       "      <td>East</td>\n",
       "      <td>Furniture</td>\n",
       "      <td>3.0</td>\n",
       "      <td>NaN</td>\n",
       "      <td>221.83</td>\n",
       "    </tr>\n",
       "    <tr>\n",
       "      <th>37</th>\n",
       "      <td>Unknown</td>\n",
       "      <td>2025-05-15</td>\n",
       "      <td>CUST-1037</td>\n",
       "      <td>Kristin Johnson</td>\n",
       "      <td>Cynthiafurt</td>\n",
       "      <td>East</td>\n",
       "      <td>Furniture</td>\n",
       "      <td>1.0</td>\n",
       "      <td>754.20</td>\n",
       "      <td>174.73</td>\n",
       "    </tr>\n",
       "    <tr>\n",
       "      <th>59</th>\n",
       "      <td>Unknown</td>\n",
       "      <td>2025-02-03</td>\n",
       "      <td>CUST-1059</td>\n",
       "      <td>Mary Bush</td>\n",
       "      <td>North Craigbury</td>\n",
       "      <td>East</td>\n",
       "      <td>Furniture</td>\n",
       "      <td>5.0</td>\n",
       "      <td>742.43</td>\n",
       "      <td>-44.92</td>\n",
       "    </tr>\n",
       "  </tbody>\n",
       "</table>\n",
       "</div>"
      ],
      "text/plain": [
       "        Order ID Order Date Customer ID    Customer Name             City  \\\n",
       "30  CA-2021-1030 2025-02-24   CUST-1030  Deborah Johnson    Port Lynnfurt   \n",
       "37       Unknown 2025-05-15   CUST-1037  Kristin Johnson      Cynthiafurt   \n",
       "59       Unknown 2025-02-03   CUST-1059        Mary Bush  North Craigbury   \n",
       "\n",
       "   Region   Category  Quantity   Sales  Profit  \n",
       "30   East  Furniture       3.0     NaN  221.83  \n",
       "37   East  Furniture       1.0  754.20  174.73  \n",
       "59   East  Furniture       5.0  742.43  -44.92  "
      ]
     },
     "execution_count": 73,
     "metadata": {},
     "output_type": "execute_result"
    }
   ],
   "source": [
    "df_num_30 = df_num[(df_num[\"Category\"] == \"Furniture\") & (df_num[\"Region\"] == \"East\") & (df_num[\"Order Date\"] >= \"2025-1-1\") & (df_num[\"Order Date\"] <= \"2025-5-28\")]\n",
    "df_num_30"
   ]
  },
  {
   "cell_type": "code",
   "execution_count": 74,
   "id": "f19327d5-52ec-41b0-a9a5-ebb30270cfd9",
   "metadata": {},
   "outputs": [],
   "source": [
    "df_num.at[30, \"Sales\"] = df_num_30[\"Sales\"].mean()"
   ]
  },
  {
   "cell_type": "code",
   "execution_count": 75,
   "id": "81610356-d3c0-4aa6-9644-8fa3f8b59004",
   "metadata": {},
   "outputs": [
    {
     "data": {
      "text/html": [
       "<div>\n",
       "<style scoped>\n",
       "    .dataframe tbody tr th:only-of-type {\n",
       "        vertical-align: middle;\n",
       "    }\n",
       "\n",
       "    .dataframe tbody tr th {\n",
       "        vertical-align: top;\n",
       "    }\n",
       "\n",
       "    .dataframe thead th {\n",
       "        text-align: right;\n",
       "    }\n",
       "</style>\n",
       "<table border=\"1\" class=\"dataframe\">\n",
       "  <thead>\n",
       "    <tr style=\"text-align: right;\">\n",
       "      <th></th>\n",
       "      <th>Order ID</th>\n",
       "      <th>Order Date</th>\n",
       "      <th>Customer ID</th>\n",
       "      <th>Customer Name</th>\n",
       "      <th>City</th>\n",
       "      <th>Region</th>\n",
       "      <th>Category</th>\n",
       "      <th>Quantity</th>\n",
       "      <th>Sales</th>\n",
       "      <th>Profit</th>\n",
       "    </tr>\n",
       "  </thead>\n",
       "  <tbody>\n",
       "    <tr>\n",
       "      <th>20</th>\n",
       "      <td>CA-2021-1020</td>\n",
       "      <td>2024-05-04</td>\n",
       "      <td>CUST-1020</td>\n",
       "      <td>Jacob Dixon</td>\n",
       "      <td>Joshuaborough</td>\n",
       "      <td>West</td>\n",
       "      <td>Furniture</td>\n",
       "      <td>9.0</td>\n",
       "      <td>339.19</td>\n",
       "      <td>115.11</td>\n",
       "    </tr>\n",
       "    <tr>\n",
       "      <th>52</th>\n",
       "      <td>CA-2021-1052</td>\n",
       "      <td>2024-04-28</td>\n",
       "      <td>CUST-1052</td>\n",
       "      <td>Taylor Burton</td>\n",
       "      <td>Unknown</td>\n",
       "      <td>West</td>\n",
       "      <td>Furniture</td>\n",
       "      <td>2.0</td>\n",
       "      <td>NaN</td>\n",
       "      <td>257.70</td>\n",
       "    </tr>\n",
       "    <tr>\n",
       "      <th>69</th>\n",
       "      <td>CA-2021-1069</td>\n",
       "      <td>2024-03-16</td>\n",
       "      <td>CUST-1069</td>\n",
       "      <td>Rebecca Sloan</td>\n",
       "      <td>Shawnshire</td>\n",
       "      <td>West</td>\n",
       "      <td>Furniture</td>\n",
       "      <td>7.0</td>\n",
       "      <td>472.40</td>\n",
       "      <td>NaN</td>\n",
       "    </tr>\n",
       "  </tbody>\n",
       "</table>\n",
       "</div>"
      ],
      "text/plain": [
       "        Order ID Order Date Customer ID  Customer Name           City Region  \\\n",
       "20  CA-2021-1020 2024-05-04   CUST-1020    Jacob Dixon  Joshuaborough   West   \n",
       "52  CA-2021-1052 2024-04-28   CUST-1052  Taylor Burton        Unknown   West   \n",
       "69  CA-2021-1069 2024-03-16   CUST-1069  Rebecca Sloan     Shawnshire   West   \n",
       "\n",
       "     Category  Quantity   Sales  Profit  \n",
       "20  Furniture       9.0  339.19  115.11  \n",
       "52  Furniture       2.0     NaN  257.70  \n",
       "69  Furniture       7.0  472.40     NaN  "
      ]
     },
     "execution_count": 75,
     "metadata": {},
     "output_type": "execute_result"
    }
   ],
   "source": [
    "df_num_52 = df_num[(df_num[\"Category\"] == \"Furniture\") & (df_num[\"Region\"] == \"West\") & (df_num[\"Order Date\"] >= \"2024-3-1\") & (df_num[\"Order Date\"] <= \"2024-5-30\")]\n",
    "df_num_52"
   ]
  },
  {
   "cell_type": "code",
   "execution_count": 76,
   "id": "fdf745b6-b755-4d3a-b130-85dea831f682",
   "metadata": {},
   "outputs": [],
   "source": [
    "df_num.at[52, \"Sales\"] = df_num_52[\"Sales\"].mean()"
   ]
  },
  {
   "cell_type": "code",
   "execution_count": 77,
   "id": "e144a88c-d3ee-472d-bfda-d7a20077de2c",
   "metadata": {},
   "outputs": [
    {
     "data": {
      "text/html": [
       "<div>\n",
       "<style scoped>\n",
       "    .dataframe tbody tr th:only-of-type {\n",
       "        vertical-align: middle;\n",
       "    }\n",
       "\n",
       "    .dataframe tbody tr th {\n",
       "        vertical-align: top;\n",
       "    }\n",
       "\n",
       "    .dataframe thead th {\n",
       "        text-align: right;\n",
       "    }\n",
       "</style>\n",
       "<table border=\"1\" class=\"dataframe\">\n",
       "  <thead>\n",
       "    <tr style=\"text-align: right;\">\n",
       "      <th></th>\n",
       "      <th>Order ID</th>\n",
       "      <th>Order Date</th>\n",
       "      <th>Customer ID</th>\n",
       "      <th>Customer Name</th>\n",
       "      <th>City</th>\n",
       "      <th>Region</th>\n",
       "      <th>Category</th>\n",
       "      <th>Quantity</th>\n",
       "      <th>Sales</th>\n",
       "      <th>Profit</th>\n",
       "    </tr>\n",
       "  </thead>\n",
       "  <tbody>\n",
       "    <tr>\n",
       "      <th>32</th>\n",
       "      <td>CA-2021-1032</td>\n",
       "      <td>2024-08-04</td>\n",
       "      <td>CUST-1032</td>\n",
       "      <td>Jason Zuniga</td>\n",
       "      <td>East Michaeltown</td>\n",
       "      <td>West</td>\n",
       "      <td>Technology</td>\n",
       "      <td>2.0</td>\n",
       "      <td>155.03</td>\n",
       "      <td>146.38</td>\n",
       "    </tr>\n",
       "    <tr>\n",
       "      <th>33</th>\n",
       "      <td>CA-2021-1033</td>\n",
       "      <td>2024-10-31</td>\n",
       "      <td>CUST-1033</td>\n",
       "      <td>Rodney Perry</td>\n",
       "      <td>North Jeremychester</td>\n",
       "      <td>West</td>\n",
       "      <td>Technology</td>\n",
       "      <td>7.0</td>\n",
       "      <td>NaN</td>\n",
       "      <td>52.33</td>\n",
       "    </tr>\n",
       "    <tr>\n",
       "      <th>45</th>\n",
       "      <td>Unknown</td>\n",
       "      <td>2024-11-04</td>\n",
       "      <td>CUST-1045</td>\n",
       "      <td>Nancy Fisher</td>\n",
       "      <td>Lake Maryhaven</td>\n",
       "      <td>West</td>\n",
       "      <td>Technology</td>\n",
       "      <td>2.0</td>\n",
       "      <td>847.45</td>\n",
       "      <td>161.73</td>\n",
       "    </tr>\n",
       "  </tbody>\n",
       "</table>\n",
       "</div>"
      ],
      "text/plain": [
       "        Order ID Order Date Customer ID Customer Name                 City  \\\n",
       "32  CA-2021-1032 2024-08-04   CUST-1032  Jason Zuniga     East Michaeltown   \n",
       "33  CA-2021-1033 2024-10-31   CUST-1033  Rodney Perry  North Jeremychester   \n",
       "45       Unknown 2024-11-04   CUST-1045  Nancy Fisher       Lake Maryhaven   \n",
       "\n",
       "   Region    Category  Quantity   Sales  Profit  \n",
       "32   West  Technology       2.0  155.03  146.38  \n",
       "33   West  Technology       7.0     NaN   52.33  \n",
       "45   West  Technology       2.0  847.45  161.73  "
      ]
     },
     "execution_count": 77,
     "metadata": {},
     "output_type": "execute_result"
    }
   ],
   "source": [
    "df_num_33 = df_num[(df_num[\"Category\"] == \"Technology\") & (df_num[\"Region\"] == \"West\") & (df_num[\"Order Date\"] >= \"2024-8-1\")]\n",
    "df_num_33"
   ]
  },
  {
   "cell_type": "code",
   "execution_count": 78,
   "id": "92f5ba06-bcb0-4bdb-8a3c-55a41f036e61",
   "metadata": {},
   "outputs": [],
   "source": [
    "df_num.at[33, \"Sales\"] = df_num_33[\"Sales\"].mean()"
   ]
  },
  {
   "cell_type": "code",
   "execution_count": 79,
   "id": "76f91fe2-bbe3-479a-99a8-5615a761e347",
   "metadata": {},
   "outputs": [
    {
     "data": {
      "text/html": [
       "<div>\n",
       "<style scoped>\n",
       "    .dataframe tbody tr th:only-of-type {\n",
       "        vertical-align: middle;\n",
       "    }\n",
       "\n",
       "    .dataframe tbody tr th {\n",
       "        vertical-align: top;\n",
       "    }\n",
       "\n",
       "    .dataframe thead th {\n",
       "        text-align: right;\n",
       "    }\n",
       "</style>\n",
       "<table border=\"1\" class=\"dataframe\">\n",
       "  <thead>\n",
       "    <tr style=\"text-align: right;\">\n",
       "      <th></th>\n",
       "      <th>Order ID</th>\n",
       "      <th>Order Date</th>\n",
       "      <th>Customer ID</th>\n",
       "      <th>Customer Name</th>\n",
       "      <th>City</th>\n",
       "      <th>Region</th>\n",
       "      <th>Category</th>\n",
       "      <th>Quantity</th>\n",
       "      <th>Sales</th>\n",
       "      <th>Profit</th>\n",
       "    </tr>\n",
       "  </thead>\n",
       "  <tbody>\n",
       "    <tr>\n",
       "      <th>17</th>\n",
       "      <td>CA-2021-1017</td>\n",
       "      <td>2024-08-20</td>\n",
       "      <td>CUST-1017</td>\n",
       "      <td>Jessica Hunt</td>\n",
       "      <td>Unknown</td>\n",
       "      <td>South</td>\n",
       "      <td>Technology</td>\n",
       "      <td>7.0</td>\n",
       "      <td>30.11</td>\n",
       "      <td>195.85</td>\n",
       "    </tr>\n",
       "    <tr>\n",
       "      <th>19</th>\n",
       "      <td>CA-2021-1019</td>\n",
       "      <td>2023-08-30</td>\n",
       "      <td>CUST-1019</td>\n",
       "      <td>Ryan Lang</td>\n",
       "      <td>North Joshuabury</td>\n",
       "      <td>South</td>\n",
       "      <td>Technology</td>\n",
       "      <td>4.0</td>\n",
       "      <td>209.45</td>\n",
       "      <td>147.20</td>\n",
       "    </tr>\n",
       "    <tr>\n",
       "      <th>22</th>\n",
       "      <td>CA-2021-1022</td>\n",
       "      <td>2023-09-28</td>\n",
       "      <td>CUST-1022</td>\n",
       "      <td>Bill Solis</td>\n",
       "      <td>Unknown</td>\n",
       "      <td>South</td>\n",
       "      <td>Technology</td>\n",
       "      <td>2.0</td>\n",
       "      <td>27.27</td>\n",
       "      <td>275.28</td>\n",
       "    </tr>\n",
       "    <tr>\n",
       "      <th>23</th>\n",
       "      <td>CA-2021-1023</td>\n",
       "      <td>2023-08-19</td>\n",
       "      <td>CUST-1023</td>\n",
       "      <td>Morgan Ramsey</td>\n",
       "      <td>Johnsonton</td>\n",
       "      <td>South</td>\n",
       "      <td>Technology</td>\n",
       "      <td>5.0</td>\n",
       "      <td>517.22</td>\n",
       "      <td>194.82</td>\n",
       "    </tr>\n",
       "    <tr>\n",
       "      <th>36</th>\n",
       "      <td>CA-2021-1036</td>\n",
       "      <td>2023-10-28</td>\n",
       "      <td>CUST-1036</td>\n",
       "      <td>Susan Vazquez</td>\n",
       "      <td>Port Catherinestad</td>\n",
       "      <td>South</td>\n",
       "      <td>Technology</td>\n",
       "      <td>1.0</td>\n",
       "      <td>341.84</td>\n",
       "      <td>56.64</td>\n",
       "    </tr>\n",
       "    <tr>\n",
       "      <th>61</th>\n",
       "      <td>CA-2021-1061</td>\n",
       "      <td>2025-05-11</td>\n",
       "      <td>CUST-1061</td>\n",
       "      <td>Edward Gonzales</td>\n",
       "      <td>Thomasshire</td>\n",
       "      <td>South</td>\n",
       "      <td>Technology</td>\n",
       "      <td>10.0</td>\n",
       "      <td>NaN</td>\n",
       "      <td>63.81</td>\n",
       "    </tr>\n",
       "    <tr>\n",
       "      <th>77</th>\n",
       "      <td>CA-2021-1077</td>\n",
       "      <td>2023-09-07</td>\n",
       "      <td>CUST-1077</td>\n",
       "      <td>Steven Kent</td>\n",
       "      <td>Jenniferton</td>\n",
       "      <td>South</td>\n",
       "      <td>Technology</td>\n",
       "      <td>6.0</td>\n",
       "      <td>147.31</td>\n",
       "      <td>60.34</td>\n",
       "    </tr>\n",
       "    <tr>\n",
       "      <th>97</th>\n",
       "      <td>CA-2021-1097</td>\n",
       "      <td>2023-12-29</td>\n",
       "      <td>CUST-1097</td>\n",
       "      <td>Darrell Wilkinson DDS</td>\n",
       "      <td>Kristiland</td>\n",
       "      <td>South</td>\n",
       "      <td>Technology</td>\n",
       "      <td>4.0</td>\n",
       "      <td>589.23</td>\n",
       "      <td>145.13</td>\n",
       "    </tr>\n",
       "  </tbody>\n",
       "</table>\n",
       "</div>"
      ],
      "text/plain": [
       "        Order ID Order Date Customer ID          Customer Name  \\\n",
       "17  CA-2021-1017 2024-08-20   CUST-1017           Jessica Hunt   \n",
       "19  CA-2021-1019 2023-08-30   CUST-1019              Ryan Lang   \n",
       "22  CA-2021-1022 2023-09-28   CUST-1022             Bill Solis   \n",
       "23  CA-2021-1023 2023-08-19   CUST-1023          Morgan Ramsey   \n",
       "36  CA-2021-1036 2023-10-28   CUST-1036          Susan Vazquez   \n",
       "61  CA-2021-1061 2025-05-11   CUST-1061        Edward Gonzales   \n",
       "77  CA-2021-1077 2023-09-07   CUST-1077            Steven Kent   \n",
       "97  CA-2021-1097 2023-12-29   CUST-1097  Darrell Wilkinson DDS   \n",
       "\n",
       "                  City Region    Category  Quantity   Sales  Profit  \n",
       "17             Unknown  South  Technology       7.0   30.11  195.85  \n",
       "19    North Joshuabury  South  Technology       4.0  209.45  147.20  \n",
       "22             Unknown  South  Technology       2.0   27.27  275.28  \n",
       "23          Johnsonton  South  Technology       5.0  517.22  194.82  \n",
       "36  Port Catherinestad  South  Technology       1.0  341.84   56.64  \n",
       "61         Thomasshire  South  Technology      10.0     NaN   63.81  \n",
       "77         Jenniferton  South  Technology       6.0  147.31   60.34  \n",
       "97          Kristiland  South  Technology       4.0  589.23  145.13  "
      ]
     },
     "execution_count": 79,
     "metadata": {},
     "output_type": "execute_result"
    }
   ],
   "source": [
    "df_num_61 = df_num[(df_num[\"Category\"] == \"Technology\") & (df_num[\"Region\"] == \"South\")]\n",
    "df_num_61"
   ]
  },
  {
   "cell_type": "code",
   "execution_count": 80,
   "id": "b5d1e4fb-5bc7-48ca-8d9a-eb3412998605",
   "metadata": {},
   "outputs": [],
   "source": [
    "df_num.drop(index= 61, inplace= True)"
   ]
  },
  {
   "cell_type": "code",
   "execution_count": 81,
   "id": "c0cf7860-3815-4409-a9ed-d7db14470f5b",
   "metadata": {},
   "outputs": [
    {
     "data": {
      "text/html": [
       "<div>\n",
       "<style scoped>\n",
       "    .dataframe tbody tr th:only-of-type {\n",
       "        vertical-align: middle;\n",
       "    }\n",
       "\n",
       "    .dataframe tbody tr th {\n",
       "        vertical-align: top;\n",
       "    }\n",
       "\n",
       "    .dataframe thead th {\n",
       "        text-align: right;\n",
       "    }\n",
       "</style>\n",
       "<table border=\"1\" class=\"dataframe\">\n",
       "  <thead>\n",
       "    <tr style=\"text-align: right;\">\n",
       "      <th></th>\n",
       "      <th>Order ID</th>\n",
       "      <th>Order Date</th>\n",
       "      <th>Customer ID</th>\n",
       "      <th>Customer Name</th>\n",
       "      <th>City</th>\n",
       "      <th>Region</th>\n",
       "      <th>Category</th>\n",
       "      <th>Quantity</th>\n",
       "      <th>Sales</th>\n",
       "      <th>Profit</th>\n",
       "    </tr>\n",
       "  </thead>\n",
       "  <tbody>\n",
       "    <tr>\n",
       "      <th>83</th>\n",
       "      <td>CA-2021-1083</td>\n",
       "      <td>2023-12-26</td>\n",
       "      <td>CUST-1083</td>\n",
       "      <td>Steve Chambers</td>\n",
       "      <td>Unknown</td>\n",
       "      <td>Central</td>\n",
       "      <td>Technology</td>\n",
       "      <td>5.0</td>\n",
       "      <td>511.76</td>\n",
       "      <td>121.94</td>\n",
       "    </tr>\n",
       "    <tr>\n",
       "      <th>94</th>\n",
       "      <td>CA-2021-1094</td>\n",
       "      <td>2023-10-16</td>\n",
       "      <td>Unknown</td>\n",
       "      <td>Curtis Escobar</td>\n",
       "      <td>Lake Katherine</td>\n",
       "      <td>Central</td>\n",
       "      <td>Technology</td>\n",
       "      <td>4.0</td>\n",
       "      <td>NaN</td>\n",
       "      <td>201.22</td>\n",
       "    </tr>\n",
       "  </tbody>\n",
       "</table>\n",
       "</div>"
      ],
      "text/plain": [
       "        Order ID Order Date Customer ID   Customer Name            City  \\\n",
       "83  CA-2021-1083 2023-12-26   CUST-1083  Steve Chambers         Unknown   \n",
       "94  CA-2021-1094 2023-10-16     Unknown  Curtis Escobar  Lake Katherine   \n",
       "\n",
       "     Region    Category  Quantity   Sales  Profit  \n",
       "83  Central  Technology       5.0  511.76  121.94  \n",
       "94  Central  Technology       4.0     NaN  201.22  "
      ]
     },
     "execution_count": 81,
     "metadata": {},
     "output_type": "execute_result"
    }
   ],
   "source": [
    "df_num_94 = df_num[(df_num[\"Category\"] == \"Technology\") & (df_num[\"Region\"] == \"Central\") & (df_num[\"Order Date\"] >= \"2023-9-1\") & (df_num[\"Order Date\"] <= \"2023-12-30\")]\n",
    "df_num_94"
   ]
  },
  {
   "cell_type": "code",
   "execution_count": 82,
   "id": "c28b5f72-80c6-45fc-9ce4-a6679b1c0ad0",
   "metadata": {},
   "outputs": [],
   "source": [
    "df_num.at[94, \"Sales\"] = 511.76"
   ]
  },
  {
   "cell_type": "code",
   "execution_count": 90,
   "id": "f1e7afdc-bb69-473c-8b48-320aff4f584d",
   "metadata": {},
   "outputs": [
    {
     "data": {
      "text/html": [
       "<div>\n",
       "<style scoped>\n",
       "    .dataframe tbody tr th:only-of-type {\n",
       "        vertical-align: middle;\n",
       "    }\n",
       "\n",
       "    .dataframe tbody tr th {\n",
       "        vertical-align: top;\n",
       "    }\n",
       "\n",
       "    .dataframe thead th {\n",
       "        text-align: right;\n",
       "    }\n",
       "</style>\n",
       "<table border=\"1\" class=\"dataframe\">\n",
       "  <thead>\n",
       "    <tr style=\"text-align: right;\">\n",
       "      <th></th>\n",
       "      <th>Order ID</th>\n",
       "      <th>Order Date</th>\n",
       "      <th>Customer ID</th>\n",
       "      <th>Customer Name</th>\n",
       "      <th>City</th>\n",
       "      <th>Region</th>\n",
       "      <th>Category</th>\n",
       "      <th>Quantity</th>\n",
       "      <th>Sales</th>\n",
       "      <th>Profit</th>\n",
       "    </tr>\n",
       "  </thead>\n",
       "  <tbody>\n",
       "    <tr>\n",
       "      <th>12</th>\n",
       "      <td>CA-2021-1012</td>\n",
       "      <td>2024-12-16</td>\n",
       "      <td>CUST-1012</td>\n",
       "      <td>Jacob Sanders</td>\n",
       "      <td>Cathybury</td>\n",
       "      <td>West</td>\n",
       "      <td>Office Supplies</td>\n",
       "      <td>2.0</td>\n",
       "      <td>830.86</td>\n",
       "      <td>-4.60</td>\n",
       "    </tr>\n",
       "    <tr>\n",
       "      <th>46</th>\n",
       "      <td>CA-2021-1046</td>\n",
       "      <td>2024-12-16</td>\n",
       "      <td>CUST-1046</td>\n",
       "      <td>Aaron Ortiz</td>\n",
       "      <td>Davidside</td>\n",
       "      <td>West</td>\n",
       "      <td>Office Supplies</td>\n",
       "      <td>6.0</td>\n",
       "      <td>NaN</td>\n",
       "      <td>149.79</td>\n",
       "    </tr>\n",
       "  </tbody>\n",
       "</table>\n",
       "</div>"
      ],
      "text/plain": [
       "        Order ID Order Date Customer ID  Customer Name       City Region  \\\n",
       "12  CA-2021-1012 2024-12-16   CUST-1012  Jacob Sanders  Cathybury   West   \n",
       "46  CA-2021-1046 2024-12-16   CUST-1046    Aaron Ortiz  Davidside   West   \n",
       "\n",
       "           Category  Quantity   Sales  Profit  \n",
       "12  Office Supplies       2.0  830.86   -4.60  \n",
       "46  Office Supplies       6.0     NaN  149.79  "
      ]
     },
     "execution_count": 90,
     "metadata": {},
     "output_type": "execute_result"
    }
   ],
   "source": [
    "df_num[(df_num[\"Category\"] == \"Office Supplies\") & (df_num[\"Region\"] == \"West\") & (df_num[\"Order Date\"] >= \"2024-12-1\") & ((df_num[\"Order Date\"] <= \"2024-12-30\"))]"
   ]
  },
  {
   "cell_type": "code",
   "execution_count": 83,
   "id": "ed4dfa72-4ca6-4dba-94d0-2f72e7b3b0e4",
   "metadata": {},
   "outputs": [],
   "source": [
    "df_num.at[46, \"Sales\"] = 830"
   ]
  },
  {
   "cell_type": "code",
   "execution_count": 86,
   "id": "ff3f0149-153a-461d-bfd9-866d395bd495",
   "metadata": {},
   "outputs": [
    {
     "data": {
      "text/html": [
       "<div>\n",
       "<style scoped>\n",
       "    .dataframe tbody tr th:only-of-type {\n",
       "        vertical-align: middle;\n",
       "    }\n",
       "\n",
       "    .dataframe tbody tr th {\n",
       "        vertical-align: top;\n",
       "    }\n",
       "\n",
       "    .dataframe thead th {\n",
       "        text-align: right;\n",
       "    }\n",
       "</style>\n",
       "<table border=\"1\" class=\"dataframe\">\n",
       "  <thead>\n",
       "    <tr style=\"text-align: right;\">\n",
       "      <th></th>\n",
       "      <th>Order ID</th>\n",
       "      <th>Order Date</th>\n",
       "      <th>Customer ID</th>\n",
       "      <th>Customer Name</th>\n",
       "      <th>City</th>\n",
       "      <th>Region</th>\n",
       "      <th>Category</th>\n",
       "      <th>Quantity</th>\n",
       "      <th>Sales</th>\n",
       "      <th>Profit</th>\n",
       "    </tr>\n",
       "  </thead>\n",
       "  <tbody>\n",
       "    <tr>\n",
       "      <th>42</th>\n",
       "      <td>CA-2021-1042</td>\n",
       "      <td>2025-02-15</td>\n",
       "      <td>Unknown</td>\n",
       "      <td>Colleen Williams</td>\n",
       "      <td>Port Stephanie</td>\n",
       "      <td>Central</td>\n",
       "      <td>Office Supplies</td>\n",
       "      <td>1.0</td>\n",
       "      <td>NaN</td>\n",
       "      <td>95.02</td>\n",
       "    </tr>\n",
       "  </tbody>\n",
       "</table>\n",
       "</div>"
      ],
      "text/plain": [
       "        Order ID Order Date Customer ID     Customer Name            City  \\\n",
       "42  CA-2021-1042 2025-02-15     Unknown  Colleen Williams  Port Stephanie   \n",
       "\n",
       "     Region         Category  Quantity  Sales  Profit  \n",
       "42  Central  Office Supplies       1.0    NaN   95.02  "
      ]
     },
     "execution_count": 86,
     "metadata": {},
     "output_type": "execute_result"
    }
   ],
   "source": [
    "df_num[(df_num[\"Category\"] == \"Office Supplies\") & (df_num[\"Region\"] == \"Central\") & (df_num[\"Order Date\"] >= \"2025-1-1\")]"
   ]
  },
  {
   "cell_type": "code",
   "execution_count": 84,
   "id": "8612856b-829f-41aa-945d-575ab0b57fe0",
   "metadata": {},
   "outputs": [],
   "source": [
    "df_num.drop(index= 42, inplace= True)"
   ]
  },
  {
   "cell_type": "code",
   "execution_count": 85,
   "id": "a0a802bc-abca-4f29-8acb-1987ba474fdd",
   "metadata": {},
   "outputs": [],
   "source": [
    "df_num.drop(index= 51, inplace= True)"
   ]
  },
  {
   "cell_type": "code",
   "execution_count": 86,
   "id": "02d21b24-4c4c-434c-83ad-b4a3982391c4",
   "metadata": {},
   "outputs": [
    {
     "data": {
      "text/html": [
       "<div>\n",
       "<style scoped>\n",
       "    .dataframe tbody tr th:only-of-type {\n",
       "        vertical-align: middle;\n",
       "    }\n",
       "\n",
       "    .dataframe tbody tr th {\n",
       "        vertical-align: top;\n",
       "    }\n",
       "\n",
       "    .dataframe thead th {\n",
       "        text-align: right;\n",
       "    }\n",
       "</style>\n",
       "<table border=\"1\" class=\"dataframe\">\n",
       "  <thead>\n",
       "    <tr style=\"text-align: right;\">\n",
       "      <th></th>\n",
       "      <th>Order ID</th>\n",
       "      <th>Order Date</th>\n",
       "      <th>Customer ID</th>\n",
       "      <th>Customer Name</th>\n",
       "      <th>City</th>\n",
       "      <th>Region</th>\n",
       "      <th>Category</th>\n",
       "      <th>Quantity</th>\n",
       "      <th>Sales</th>\n",
       "      <th>Profit</th>\n",
       "    </tr>\n",
       "  </thead>\n",
       "  <tbody>\n",
       "    <tr>\n",
       "      <th>16</th>\n",
       "      <td>CA-2021-1016</td>\n",
       "      <td>2024-01-22</td>\n",
       "      <td>CUST-1016</td>\n",
       "      <td>Edwin Cole</td>\n",
       "      <td>Wufurt</td>\n",
       "      <td>Central</td>\n",
       "      <td>Furniture</td>\n",
       "      <td>9.0</td>\n",
       "      <td>561.263333</td>\n",
       "      <td>105.83</td>\n",
       "    </tr>\n",
       "    <tr>\n",
       "      <th>30</th>\n",
       "      <td>CA-2021-1030</td>\n",
       "      <td>2025-02-24</td>\n",
       "      <td>CUST-1030</td>\n",
       "      <td>Deborah Johnson</td>\n",
       "      <td>Port Lynnfurt</td>\n",
       "      <td>East</td>\n",
       "      <td>Furniture</td>\n",
       "      <td>3.0</td>\n",
       "      <td>748.315000</td>\n",
       "      <td>221.83</td>\n",
       "    </tr>\n",
       "    <tr>\n",
       "      <th>54</th>\n",
       "      <td>Unknown</td>\n",
       "      <td>2025-01-29</td>\n",
       "      <td>CUST-1054</td>\n",
       "      <td>Jeffrey Barry</td>\n",
       "      <td>West Marieville</td>\n",
       "      <td>West</td>\n",
       "      <td>Office Supplies</td>\n",
       "      <td>2.0</td>\n",
       "      <td>396.970000</td>\n",
       "      <td>194.35</td>\n",
       "    </tr>\n",
       "    <tr>\n",
       "      <th>33</th>\n",
       "      <td>CA-2021-1033</td>\n",
       "      <td>2024-10-31</td>\n",
       "      <td>CUST-1033</td>\n",
       "      <td>Rodney Perry</td>\n",
       "      <td>North Jeremychester</td>\n",
       "      <td>West</td>\n",
       "      <td>Technology</td>\n",
       "      <td>7.0</td>\n",
       "      <td>501.240000</td>\n",
       "      <td>52.33</td>\n",
       "    </tr>\n",
       "    <tr>\n",
       "      <th>97</th>\n",
       "      <td>CA-2021-1097</td>\n",
       "      <td>2023-12-29</td>\n",
       "      <td>CUST-1097</td>\n",
       "      <td>Darrell Wilkinson DDS</td>\n",
       "      <td>Kristiland</td>\n",
       "      <td>South</td>\n",
       "      <td>Technology</td>\n",
       "      <td>4.0</td>\n",
       "      <td>589.230000</td>\n",
       "      <td>145.13</td>\n",
       "    </tr>\n",
       "    <tr>\n",
       "      <th>47</th>\n",
       "      <td>CA-2021-1047</td>\n",
       "      <td>2023-07-13</td>\n",
       "      <td>CUST-1047</td>\n",
       "      <td>Michael Wright</td>\n",
       "      <td>Lake Tinaland</td>\n",
       "      <td>South</td>\n",
       "      <td>Office Supplies</td>\n",
       "      <td>3.0</td>\n",
       "      <td>879.730000</td>\n",
       "      <td>143.03</td>\n",
       "    </tr>\n",
       "  </tbody>\n",
       "</table>\n",
       "</div>"
      ],
      "text/plain": [
       "        Order ID Order Date Customer ID          Customer Name  \\\n",
       "16  CA-2021-1016 2024-01-22   CUST-1016             Edwin Cole   \n",
       "30  CA-2021-1030 2025-02-24   CUST-1030        Deborah Johnson   \n",
       "54       Unknown 2025-01-29   CUST-1054          Jeffrey Barry   \n",
       "33  CA-2021-1033 2024-10-31   CUST-1033           Rodney Perry   \n",
       "97  CA-2021-1097 2023-12-29   CUST-1097  Darrell Wilkinson DDS   \n",
       "47  CA-2021-1047 2023-07-13   CUST-1047         Michael Wright   \n",
       "\n",
       "                   City   Region         Category  Quantity       Sales  \\\n",
       "16               Wufurt  Central        Furniture       9.0  561.263333   \n",
       "30        Port Lynnfurt     East        Furniture       3.0  748.315000   \n",
       "54      West Marieville     West  Office Supplies       2.0  396.970000   \n",
       "33  North Jeremychester     West       Technology       7.0  501.240000   \n",
       "97           Kristiland    South       Technology       4.0  589.230000   \n",
       "47        Lake Tinaland    South  Office Supplies       3.0  879.730000   \n",
       "\n",
       "    Profit  \n",
       "16  105.83  \n",
       "30  221.83  \n",
       "54  194.35  \n",
       "33   52.33  \n",
       "97  145.13  \n",
       "47  143.03  "
      ]
     },
     "execution_count": 86,
     "metadata": {},
     "output_type": "execute_result"
    }
   ],
   "source": [
    "df_num.iloc[[16,30,52,33,92,46]]"
   ]
  },
  {
   "cell_type": "code",
   "execution_count": 96,
   "id": "1c8ba41f-4635-49f4-8d60-1080b4006f60",
   "metadata": {},
   "outputs": [
    {
     "data": {
      "text/plain": [
       "997.94"
      ]
     },
     "execution_count": 96,
     "metadata": {},
     "output_type": "execute_result"
    }
   ],
   "source": [
    "df_num[\"Sales\"].max()"
   ]
  },
  {
   "cell_type": "code",
   "execution_count": 97,
   "id": "faed6d47-02c1-4ab8-bc26-8d8cc94bb3e2",
   "metadata": {},
   "outputs": [
    {
     "data": {
      "text/plain": [
       "20.49"
      ]
     },
     "execution_count": 97,
     "metadata": {},
     "output_type": "execute_result"
    }
   ],
   "source": [
    "df_num[\"Sales\"].min()"
   ]
  },
  {
   "cell_type": "code",
   "execution_count": 98,
   "id": "d0f34a55-ca20-4ecd-81ac-ee6945b9ba0b",
   "metadata": {},
   "outputs": [
    {
     "data": {
      "text/plain": [
       "95"
      ]
     },
     "execution_count": 98,
     "metadata": {},
     "output_type": "execute_result"
    }
   ],
   "source": [
    "df_num[\"Sales\"].count()"
   ]
  },
  {
   "cell_type": "code",
   "execution_count": 99,
   "id": "09aaa612-7930-494a-9302-95c75da35494",
   "metadata": {},
   "outputs": [
    {
     "data": {
      "text/plain": [
       "45707.73333333334"
      ]
     },
     "execution_count": 99,
     "metadata": {},
     "output_type": "execute_result"
    }
   ],
   "source": [
    "df_num[\"Sales\"].sum()"
   ]
  },
  {
   "cell_type": "code",
   "execution_count": 100,
   "id": "2345b3dd-484b-41a1-8083-26ff20949a5c",
   "metadata": {},
   "outputs": [
    {
     "data": {
      "text/plain": [
       "481.1340350877193"
      ]
     },
     "execution_count": 100,
     "metadata": {},
     "output_type": "execute_result"
    }
   ],
   "source": [
    "df_num[\"Sales\"].mean()"
   ]
  },
  {
   "cell_type": "markdown",
   "id": "e6750dbb-49a4-42c7-b1c7-a1f6054ae91f",
   "metadata": {},
   "source": [
    "#### <b><font color= #FFFF00> Sales column Analysis :"
   ]
  },
  {
   "cell_type": "markdown",
   "id": "4bb90e23-2672-4ac0-9d83-fd8c8885554e",
   "metadata": {},
   "source": [
    "#### <b> <font color= #ABFF00> *Step - 1 : Initial Investigation*\n",
    "- ##### I began by exploring the Sales column using `info()`, `count()`, `isnull().sum()`, `min()`, `max()`, `mean()`, and `sum()` to understand the data distribution and missing values.\n",
    "- ##### This helped me assess the impact of missing data and the typical range of values.\n",
    "#### <b> <font color= #ABFF00> *Step - 2 : Locating Null Values*\n",
    "##### Using `df[df[\"Sales\"].isnull()]`, I isolated the rows with missing Sales values and reviewed their associated columns such as Category, Region, and Order Date for contextual clues.\n",
    "#### <b> <font color= #ABFF00> *Step - 3 : Contextual Imputation Using Group-Based Averages*\n",
    "- ##### Rather than filling missing values with a simple global mean, I created filters based on:\n",
    "    - ##### `Category` (e.g., Furniture, Technology)\n",
    "    - ##### `Region` (e.g., Central, West)\n",
    "    - ##### Time ranges (`Order Date` windows)\n",
    "- ##### For each missing value, I:\n",
    "    - ##### Filtered the DataFrame to a relevant group.\n",
    "    - ##### Calculated the mean Sales within that group.\n",
    "    - ##### Used `.at[]` to assign the mean to the correct index.\n",
    "##### This method allowed me to fill null values more accurately based on similar data points, preserving realistic patterns.\n",
    "#### <b> <font color= #ABFF00> *Step - 4 : Dropping Irrelevant Rows*\n",
    "##### For certain rows (e.g., index 61, 42, and 51), I found that there were no sufficient data points to calculate a meaningful replacement. These rows lacked useful values across multiple numerical columns and didn’t contribute to future analysis. So, I decided to drop them using `drop(index=..., inplace=True)`.\n",
    "#### <b> <font color= #ABFF00> *Step - 5 : Direct Imputation for Specific Cases*\n",
    "- ##### In one case (index 94), after filtering by category, region, and date range, I directly assigned a known average value based on business logic: `df.at[94, \"Sales\"] = 511.76`.\n",
    "- ##### Similarly, index 46 was filled with a representative sale amount after cross-checking its region, category, and date range.\n",
    "#### <b> <font color= #ABFF00> *Step - 6 : Final Verification*\n",
    "##### After all updates, I rechecked the `Sales column` with `info()` to ensure that all null values had been handled. The column is now clean and ready for further analysis.\n",
    "#### <b> <font color= #ABFF00> *Conclusion*\n",
    "- ##### The missing values in the `Sales` column were handled using smart contextual imputation — not random guesswork. By filtering based on `Category` + `Region` + `Order Date`, I ensured that replacements were grounded in similar data behavior.\n",
    "- ##### For rows lacking enough reference data, I made the decision to drop them, maintaining the integrity of the dataset.\n",
    "- ##### This approach balances accuracy, data logic, and business relevance, and demonstrates a professional strategy for numerical null handling in real-world datasets."
   ]
  },
  {
   "cell_type": "code",
   "execution_count": 87,
   "id": "5c3e3997-7aa1-4d8e-b751-c038f18b52a3",
   "metadata": {},
   "outputs": [
    {
     "name": "stdout",
     "output_type": "stream",
     "text": [
      "<class 'pandas.core.series.Series'>\n",
      "Index: 95 entries, 0 to 99\n",
      "Series name: Sales\n",
      "Non-Null Count  Dtype  \n",
      "--------------  -----  \n",
      "95 non-null     float64\n",
      "dtypes: float64(1)\n",
      "memory usage: 1.5 KB\n"
     ]
    }
   ],
   "source": [
    "df_num[\"Sales\"].info()"
   ]
  },
  {
   "cell_type": "markdown",
   "id": "647af4a3-9a40-4efa-8c1b-633a9620523c",
   "metadata": {},
   "source": [
    "#### <b> <font color= #FFFF00> 3 - Handling the Profit column :\n",
    "- ##### *Type: Object*\n",
    "- ##### *Total_Rows: 95*\n",
    "- ##### *Fill_values: 84*\n",
    "- ##### *Null_values: 11*"
   ]
  },
  {
   "cell_type": "code",
   "execution_count": 108,
   "id": "141c68c4-bd91-45c3-ac22-fdcc376d2837",
   "metadata": {},
   "outputs": [
    {
     "name": "stdout",
     "output_type": "stream",
     "text": [
      "<class 'pandas.core.series.Series'>\n",
      "Index: 95 entries, 0 to 99\n",
      "Series name: Profit\n",
      "Non-Null Count  Dtype  \n",
      "--------------  -----  \n",
      "84 non-null     float64\n",
      "dtypes: float64(1)\n",
      "memory usage: 1.5 KB\n"
     ]
    }
   ],
   "source": [
    "df_num[\"Profit\"].info()"
   ]
  },
  {
   "cell_type": "code",
   "execution_count": 107,
   "id": "441bd954-cab0-4a0b-9629-e31fed79f111",
   "metadata": {},
   "outputs": [
    {
     "data": {
      "text/plain": [
       "84"
      ]
     },
     "execution_count": 107,
     "metadata": {},
     "output_type": "execute_result"
    }
   ],
   "source": [
    "df_num[\"Profit\"].count()"
   ]
  },
  {
   "cell_type": "code",
   "execution_count": 106,
   "id": "4ce268bb-45f3-4bae-bb88-5160ffb32641",
   "metadata": {},
   "outputs": [
    {
     "data": {
      "text/plain": [
       "11"
      ]
     },
     "execution_count": 106,
     "metadata": {},
     "output_type": "execute_result"
    }
   ],
   "source": [
    "df_num[\"Profit\"].isnull().sum()"
   ]
  },
  {
   "cell_type": "code",
   "execution_count": 109,
   "id": "eebcaf2e-4453-44b2-a15a-58786228c18f",
   "metadata": {},
   "outputs": [
    {
     "data": {
      "text/plain": [
       "296.82"
      ]
     },
     "execution_count": 109,
     "metadata": {},
     "output_type": "execute_result"
    }
   ],
   "source": [
    "df_num[\"Profit\"].max()"
   ]
  },
  {
   "cell_type": "code",
   "execution_count": 110,
   "id": "10c67291-1f72-47ea-86cd-b1b7e740484d",
   "metadata": {},
   "outputs": [
    {
     "data": {
      "text/plain": [
       "-92.1"
      ]
     },
     "execution_count": 110,
     "metadata": {},
     "output_type": "execute_result"
    }
   ],
   "source": [
    "df_num[\"Profit\"].min()"
   ]
  },
  {
   "cell_type": "code",
   "execution_count": 111,
   "id": "244cb978-7c65-467a-8e3f-bce52ea91ce7",
   "metadata": {},
   "outputs": [
    {
     "data": {
      "text/plain": [
       "8097.049999999999"
      ]
     },
     "execution_count": 111,
     "metadata": {},
     "output_type": "execute_result"
    }
   ],
   "source": [
    "df_num[\"Profit\"].sum()"
   ]
  },
  {
   "cell_type": "code",
   "execution_count": 112,
   "id": "84ee6535-7a05-41a2-af63-7804b20f2b7d",
   "metadata": {},
   "outputs": [
    {
     "data": {
      "text/plain": [
       "96.39345238095237"
      ]
     },
     "execution_count": 112,
     "metadata": {},
     "output_type": "execute_result"
    }
   ],
   "source": [
    "df_num[\"Profit\"].mean()"
   ]
  },
  {
   "cell_type": "code",
   "execution_count": 114,
   "id": "1d536cfa-345e-4cdd-8ed7-3a6de559237e",
   "metadata": {},
   "outputs": [
    {
     "data": {
      "text/html": [
       "<div>\n",
       "<style scoped>\n",
       "    .dataframe tbody tr th:only-of-type {\n",
       "        vertical-align: middle;\n",
       "    }\n",
       "\n",
       "    .dataframe tbody tr th {\n",
       "        vertical-align: top;\n",
       "    }\n",
       "\n",
       "    .dataframe thead th {\n",
       "        text-align: right;\n",
       "    }\n",
       "</style>\n",
       "<table border=\"1\" class=\"dataframe\">\n",
       "  <thead>\n",
       "    <tr style=\"text-align: right;\">\n",
       "      <th></th>\n",
       "      <th>Order ID</th>\n",
       "      <th>Order Date</th>\n",
       "      <th>Customer ID</th>\n",
       "      <th>Customer Name</th>\n",
       "      <th>City</th>\n",
       "      <th>Region</th>\n",
       "      <th>Category</th>\n",
       "      <th>Quantity</th>\n",
       "      <th>Sales</th>\n",
       "      <th>Profit</th>\n",
       "    </tr>\n",
       "  </thead>\n",
       "  <tbody>\n",
       "    <tr>\n",
       "      <th>0</th>\n",
       "      <td>CA-2021-1000</td>\n",
       "      <td>2025-02-14</td>\n",
       "      <td>CUST-1000</td>\n",
       "      <td>Jasmine Davis</td>\n",
       "      <td>East Tony</td>\n",
       "      <td>South</td>\n",
       "      <td>Office Supplies</td>\n",
       "      <td>10.0</td>\n",
       "      <td>843.53</td>\n",
       "      <td>NaN</td>\n",
       "    </tr>\n",
       "    <tr>\n",
       "      <th>1</th>\n",
       "      <td>CA-2021-1001</td>\n",
       "      <td>2024-01-01</td>\n",
       "      <td>CUST-1001</td>\n",
       "      <td>Ryan Lambert</td>\n",
       "      <td>East Melissaberg</td>\n",
       "      <td>Central</td>\n",
       "      <td>Furniture</td>\n",
       "      <td>3.0</td>\n",
       "      <td>868.01</td>\n",
       "      <td>NaN</td>\n",
       "    </tr>\n",
       "    <tr>\n",
       "      <th>10</th>\n",
       "      <td>CA-2021-1010</td>\n",
       "      <td>2024-02-15</td>\n",
       "      <td>CUST-1010</td>\n",
       "      <td>Unknown</td>\n",
       "      <td>Port Melissa</td>\n",
       "      <td>Central</td>\n",
       "      <td>Office Supplies</td>\n",
       "      <td>2.0</td>\n",
       "      <td>749.34</td>\n",
       "      <td>NaN</td>\n",
       "    </tr>\n",
       "    <tr>\n",
       "      <th>34</th>\n",
       "      <td>CA-2021-1034</td>\n",
       "      <td>2023-12-01</td>\n",
       "      <td>CUST-1034</td>\n",
       "      <td>Christy Mullins</td>\n",
       "      <td>West Paige</td>\n",
       "      <td>East</td>\n",
       "      <td>Technology</td>\n",
       "      <td>9.0</td>\n",
       "      <td>477.43</td>\n",
       "      <td>NaN</td>\n",
       "    </tr>\n",
       "    <tr>\n",
       "      <th>44</th>\n",
       "      <td>CA-2021-1044</td>\n",
       "      <td>2023-11-07</td>\n",
       "      <td>CUST-1044</td>\n",
       "      <td>Mr. Anthony Mendoza</td>\n",
       "      <td>New Mckenzie</td>\n",
       "      <td>South</td>\n",
       "      <td>Furniture</td>\n",
       "      <td>10.0</td>\n",
       "      <td>728.24</td>\n",
       "      <td>NaN</td>\n",
       "    </tr>\n",
       "    <tr>\n",
       "      <th>55</th>\n",
       "      <td>CA-2021-1055</td>\n",
       "      <td>2024-07-07</td>\n",
       "      <td>CUST-1055</td>\n",
       "      <td>Shane Bell DVM</td>\n",
       "      <td>Matthewland</td>\n",
       "      <td>Central</td>\n",
       "      <td>Office Supplies</td>\n",
       "      <td>5.0</td>\n",
       "      <td>622.72</td>\n",
       "      <td>NaN</td>\n",
       "    </tr>\n",
       "    <tr>\n",
       "      <th>69</th>\n",
       "      <td>CA-2021-1069</td>\n",
       "      <td>2024-03-16</td>\n",
       "      <td>CUST-1069</td>\n",
       "      <td>Rebecca Sloan</td>\n",
       "      <td>Shawnshire</td>\n",
       "      <td>West</td>\n",
       "      <td>Furniture</td>\n",
       "      <td>7.0</td>\n",
       "      <td>472.40</td>\n",
       "      <td>NaN</td>\n",
       "    </tr>\n",
       "    <tr>\n",
       "      <th>75</th>\n",
       "      <td>CA-2021-1075</td>\n",
       "      <td>2024-11-01</td>\n",
       "      <td>CUST-1075</td>\n",
       "      <td>Patrick Lee</td>\n",
       "      <td>Unknown</td>\n",
       "      <td>South</td>\n",
       "      <td>Furniture</td>\n",
       "      <td>7.0</td>\n",
       "      <td>239.38</td>\n",
       "      <td>NaN</td>\n",
       "    </tr>\n",
       "    <tr>\n",
       "      <th>76</th>\n",
       "      <td>CA-2021-1076</td>\n",
       "      <td>2025-02-14</td>\n",
       "      <td>CUST-1076</td>\n",
       "      <td>Felicia Herring</td>\n",
       "      <td>Turnerport</td>\n",
       "      <td>South</td>\n",
       "      <td>Furniture</td>\n",
       "      <td>1.0</td>\n",
       "      <td>178.34</td>\n",
       "      <td>NaN</td>\n",
       "    </tr>\n",
       "    <tr>\n",
       "      <th>80</th>\n",
       "      <td>CA-2021-1080</td>\n",
       "      <td>2023-08-30</td>\n",
       "      <td>CUST-1080</td>\n",
       "      <td>Christopher Smith</td>\n",
       "      <td>Jillfurt</td>\n",
       "      <td>South</td>\n",
       "      <td>Furniture</td>\n",
       "      <td>9.0</td>\n",
       "      <td>214.44</td>\n",
       "      <td>NaN</td>\n",
       "    </tr>\n",
       "    <tr>\n",
       "      <th>91</th>\n",
       "      <td>CA-2021-1091</td>\n",
       "      <td>2024-09-07</td>\n",
       "      <td>CUST-1091</td>\n",
       "      <td>Hannah Jones DDS</td>\n",
       "      <td>Danielleton</td>\n",
       "      <td>East</td>\n",
       "      <td>Technology</td>\n",
       "      <td>3.0</td>\n",
       "      <td>63.96</td>\n",
       "      <td>NaN</td>\n",
       "    </tr>\n",
       "  </tbody>\n",
       "</table>\n",
       "</div>"
      ],
      "text/plain": [
       "        Order ID Order Date Customer ID        Customer Name  \\\n",
       "0   CA-2021-1000 2025-02-14   CUST-1000        Jasmine Davis   \n",
       "1   CA-2021-1001 2024-01-01   CUST-1001         Ryan Lambert   \n",
       "10  CA-2021-1010 2024-02-15   CUST-1010              Unknown   \n",
       "34  CA-2021-1034 2023-12-01   CUST-1034      Christy Mullins   \n",
       "44  CA-2021-1044 2023-11-07   CUST-1044  Mr. Anthony Mendoza   \n",
       "55  CA-2021-1055 2024-07-07   CUST-1055       Shane Bell DVM   \n",
       "69  CA-2021-1069 2024-03-16   CUST-1069        Rebecca Sloan   \n",
       "75  CA-2021-1075 2024-11-01   CUST-1075          Patrick Lee   \n",
       "76  CA-2021-1076 2025-02-14   CUST-1076      Felicia Herring   \n",
       "80  CA-2021-1080 2023-08-30   CUST-1080    Christopher Smith   \n",
       "91  CA-2021-1091 2024-09-07   CUST-1091     Hannah Jones DDS   \n",
       "\n",
       "                City   Region         Category  Quantity   Sales  Profit  \n",
       "0          East Tony    South  Office Supplies      10.0  843.53     NaN  \n",
       "1   East Melissaberg  Central        Furniture       3.0  868.01     NaN  \n",
       "10      Port Melissa  Central  Office Supplies       2.0  749.34     NaN  \n",
       "34        West Paige     East       Technology       9.0  477.43     NaN  \n",
       "44      New Mckenzie    South        Furniture      10.0  728.24     NaN  \n",
       "55       Matthewland  Central  Office Supplies       5.0  622.72     NaN  \n",
       "69        Shawnshire     West        Furniture       7.0  472.40     NaN  \n",
       "75           Unknown    South        Furniture       7.0  239.38     NaN  \n",
       "76        Turnerport    South        Furniture       1.0  178.34     NaN  \n",
       "80          Jillfurt    South        Furniture       9.0  214.44     NaN  \n",
       "91       Danielleton     East       Technology       3.0   63.96     NaN  "
      ]
     },
     "execution_count": 114,
     "metadata": {},
     "output_type": "execute_result"
    }
   ],
   "source": [
    "df_num[df_num[\"Profit\"].isnull()]"
   ]
  },
  {
   "cell_type": "code",
   "execution_count": 88,
   "id": "920fe813-cac0-4411-801e-8886a6146106",
   "metadata": {},
   "outputs": [],
   "source": [
    "df_num[\"Profit\"].fillna(0.0, inplace= True)"
   ]
  },
  {
   "cell_type": "code",
   "execution_count": 89,
   "id": "a0a3fd13-0b63-4b0a-b4e7-f99526d1f2ea",
   "metadata": {},
   "outputs": [
    {
     "data": {
      "text/html": [
       "<div>\n",
       "<style scoped>\n",
       "    .dataframe tbody tr th:only-of-type {\n",
       "        vertical-align: middle;\n",
       "    }\n",
       "\n",
       "    .dataframe tbody tr th {\n",
       "        vertical-align: top;\n",
       "    }\n",
       "\n",
       "    .dataframe thead th {\n",
       "        text-align: right;\n",
       "    }\n",
       "</style>\n",
       "<table border=\"1\" class=\"dataframe\">\n",
       "  <thead>\n",
       "    <tr style=\"text-align: right;\">\n",
       "      <th></th>\n",
       "      <th>Order ID</th>\n",
       "      <th>Order Date</th>\n",
       "      <th>Customer ID</th>\n",
       "      <th>Customer Name</th>\n",
       "      <th>City</th>\n",
       "      <th>Region</th>\n",
       "      <th>Category</th>\n",
       "      <th>Quantity</th>\n",
       "      <th>Sales</th>\n",
       "      <th>Profit</th>\n",
       "    </tr>\n",
       "  </thead>\n",
       "  <tbody>\n",
       "    <tr>\n",
       "      <th>0</th>\n",
       "      <td>CA-2021-1000</td>\n",
       "      <td>2025-02-14</td>\n",
       "      <td>CUST-1000</td>\n",
       "      <td>Jasmine Davis</td>\n",
       "      <td>East Tony</td>\n",
       "      <td>South</td>\n",
       "      <td>Office Supplies</td>\n",
       "      <td>10.0</td>\n",
       "      <td>843.53</td>\n",
       "      <td>0.0</td>\n",
       "    </tr>\n",
       "    <tr>\n",
       "      <th>1</th>\n",
       "      <td>CA-2021-1001</td>\n",
       "      <td>2024-01-01</td>\n",
       "      <td>CUST-1001</td>\n",
       "      <td>Ryan Lambert</td>\n",
       "      <td>East Melissaberg</td>\n",
       "      <td>Central</td>\n",
       "      <td>Furniture</td>\n",
       "      <td>3.0</td>\n",
       "      <td>868.01</td>\n",
       "      <td>0.0</td>\n",
       "    </tr>\n",
       "    <tr>\n",
       "      <th>10</th>\n",
       "      <td>CA-2021-1010</td>\n",
       "      <td>2024-02-15</td>\n",
       "      <td>CUST-1010</td>\n",
       "      <td>Unknown</td>\n",
       "      <td>Port Melissa</td>\n",
       "      <td>Central</td>\n",
       "      <td>Office Supplies</td>\n",
       "      <td>2.0</td>\n",
       "      <td>749.34</td>\n",
       "      <td>0.0</td>\n",
       "    </tr>\n",
       "    <tr>\n",
       "      <th>34</th>\n",
       "      <td>CA-2021-1034</td>\n",
       "      <td>2023-12-01</td>\n",
       "      <td>CUST-1034</td>\n",
       "      <td>Christy Mullins</td>\n",
       "      <td>West Paige</td>\n",
       "      <td>East</td>\n",
       "      <td>Technology</td>\n",
       "      <td>9.0</td>\n",
       "      <td>477.43</td>\n",
       "      <td>0.0</td>\n",
       "    </tr>\n",
       "    <tr>\n",
       "      <th>44</th>\n",
       "      <td>CA-2021-1044</td>\n",
       "      <td>2023-11-07</td>\n",
       "      <td>CUST-1044</td>\n",
       "      <td>Mr. Anthony Mendoza</td>\n",
       "      <td>New Mckenzie</td>\n",
       "      <td>South</td>\n",
       "      <td>Furniture</td>\n",
       "      <td>10.0</td>\n",
       "      <td>728.24</td>\n",
       "      <td>0.0</td>\n",
       "    </tr>\n",
       "    <tr>\n",
       "      <th>55</th>\n",
       "      <td>CA-2021-1055</td>\n",
       "      <td>2024-07-07</td>\n",
       "      <td>CUST-1055</td>\n",
       "      <td>Shane Bell DVM</td>\n",
       "      <td>Matthewland</td>\n",
       "      <td>Central</td>\n",
       "      <td>Office Supplies</td>\n",
       "      <td>5.0</td>\n",
       "      <td>622.72</td>\n",
       "      <td>0.0</td>\n",
       "    </tr>\n",
       "    <tr>\n",
       "      <th>69</th>\n",
       "      <td>CA-2021-1069</td>\n",
       "      <td>2024-03-16</td>\n",
       "      <td>CUST-1069</td>\n",
       "      <td>Rebecca Sloan</td>\n",
       "      <td>Shawnshire</td>\n",
       "      <td>West</td>\n",
       "      <td>Furniture</td>\n",
       "      <td>7.0</td>\n",
       "      <td>472.40</td>\n",
       "      <td>0.0</td>\n",
       "    </tr>\n",
       "    <tr>\n",
       "      <th>75</th>\n",
       "      <td>CA-2021-1075</td>\n",
       "      <td>2024-11-01</td>\n",
       "      <td>CUST-1075</td>\n",
       "      <td>Patrick Lee</td>\n",
       "      <td>Unknown</td>\n",
       "      <td>South</td>\n",
       "      <td>Furniture</td>\n",
       "      <td>7.0</td>\n",
       "      <td>239.38</td>\n",
       "      <td>0.0</td>\n",
       "    </tr>\n",
       "    <tr>\n",
       "      <th>76</th>\n",
       "      <td>CA-2021-1076</td>\n",
       "      <td>2025-02-14</td>\n",
       "      <td>CUST-1076</td>\n",
       "      <td>Felicia Herring</td>\n",
       "      <td>Turnerport</td>\n",
       "      <td>South</td>\n",
       "      <td>Furniture</td>\n",
       "      <td>1.0</td>\n",
       "      <td>178.34</td>\n",
       "      <td>0.0</td>\n",
       "    </tr>\n",
       "    <tr>\n",
       "      <th>80</th>\n",
       "      <td>CA-2021-1080</td>\n",
       "      <td>2023-08-30</td>\n",
       "      <td>CUST-1080</td>\n",
       "      <td>Christopher Smith</td>\n",
       "      <td>Jillfurt</td>\n",
       "      <td>South</td>\n",
       "      <td>Furniture</td>\n",
       "      <td>9.0</td>\n",
       "      <td>214.44</td>\n",
       "      <td>0.0</td>\n",
       "    </tr>\n",
       "    <tr>\n",
       "      <th>91</th>\n",
       "      <td>CA-2021-1091</td>\n",
       "      <td>2024-09-07</td>\n",
       "      <td>CUST-1091</td>\n",
       "      <td>Hannah Jones DDS</td>\n",
       "      <td>Danielleton</td>\n",
       "      <td>East</td>\n",
       "      <td>Technology</td>\n",
       "      <td>3.0</td>\n",
       "      <td>63.96</td>\n",
       "      <td>0.0</td>\n",
       "    </tr>\n",
       "  </tbody>\n",
       "</table>\n",
       "</div>"
      ],
      "text/plain": [
       "        Order ID Order Date Customer ID        Customer Name  \\\n",
       "0   CA-2021-1000 2025-02-14   CUST-1000        Jasmine Davis   \n",
       "1   CA-2021-1001 2024-01-01   CUST-1001         Ryan Lambert   \n",
       "10  CA-2021-1010 2024-02-15   CUST-1010              Unknown   \n",
       "34  CA-2021-1034 2023-12-01   CUST-1034      Christy Mullins   \n",
       "44  CA-2021-1044 2023-11-07   CUST-1044  Mr. Anthony Mendoza   \n",
       "55  CA-2021-1055 2024-07-07   CUST-1055       Shane Bell DVM   \n",
       "69  CA-2021-1069 2024-03-16   CUST-1069        Rebecca Sloan   \n",
       "75  CA-2021-1075 2024-11-01   CUST-1075          Patrick Lee   \n",
       "76  CA-2021-1076 2025-02-14   CUST-1076      Felicia Herring   \n",
       "80  CA-2021-1080 2023-08-30   CUST-1080    Christopher Smith   \n",
       "91  CA-2021-1091 2024-09-07   CUST-1091     Hannah Jones DDS   \n",
       "\n",
       "                City   Region         Category  Quantity   Sales  Profit  \n",
       "0          East Tony    South  Office Supplies      10.0  843.53     0.0  \n",
       "1   East Melissaberg  Central        Furniture       3.0  868.01     0.0  \n",
       "10      Port Melissa  Central  Office Supplies       2.0  749.34     0.0  \n",
       "34        West Paige     East       Technology       9.0  477.43     0.0  \n",
       "44      New Mckenzie    South        Furniture      10.0  728.24     0.0  \n",
       "55       Matthewland  Central  Office Supplies       5.0  622.72     0.0  \n",
       "69        Shawnshire     West        Furniture       7.0  472.40     0.0  \n",
       "75           Unknown    South        Furniture       7.0  239.38     0.0  \n",
       "76        Turnerport    South        Furniture       1.0  178.34     0.0  \n",
       "80          Jillfurt    South        Furniture       9.0  214.44     0.0  \n",
       "91       Danielleton     East       Technology       3.0   63.96     0.0  "
      ]
     },
     "execution_count": 89,
     "metadata": {},
     "output_type": "execute_result"
    }
   ],
   "source": [
    "df_num.iloc[[0,1,10,34,43,53,65,71,72,76,87]]"
   ]
  },
  {
   "cell_type": "markdown",
   "id": "daed2b58-3b7a-41a6-98a7-7ec7db92788b",
   "metadata": {},
   "source": [
    "#### <b><font color= #FFFF00> Profit column Analysis :"
   ]
  },
  {
   "cell_type": "markdown",
   "id": "9e171988-b0cd-4a24-922e-78b5d7662c12",
   "metadata": {},
   "source": [
    "#### <b> <font color= #ABFF00> *Profit Column – Null Value Handling*\n",
    "##### The Profit column contained missing values, but after exploring the data, I observed no consistent or reliable relationship between Profit and other numeric fields like Sales, Quantity, or Discount.\n",
    "##### Rather than imputing values that could mislead the final analysis, I chose to fill all missing Profit entries with 0.0.\n",
    "##### This approach ensures integrity and avoids overestimating the dataset's overall profitability.\n",
    "- ##### `df[\"Profit\"].fillna(0.0, inplace=True)`"
   ]
  },
  {
   "cell_type": "code",
   "execution_count": 90,
   "id": "f0fcc8fd-6f6f-41db-8d7c-18ffd3448fad",
   "metadata": {},
   "outputs": [
    {
     "name": "stdout",
     "output_type": "stream",
     "text": [
      "<class 'pandas.core.frame.DataFrame'>\n",
      "Index: 95 entries, 0 to 99\n",
      "Data columns (total 3 columns):\n",
      " #   Column    Non-Null Count  Dtype  \n",
      "---  ------    --------------  -----  \n",
      " 0   Quantity  95 non-null     float64\n",
      " 1   Sales     95 non-null     float64\n",
      " 2   Profit    95 non-null     float64\n",
      "dtypes: float64(3)\n",
      "memory usage: 3.0 KB\n"
     ]
    }
   ],
   "source": [
    "df_num[[\"Quantity\", \"Sales\",\"Profit\"]].info()"
   ]
  },
  {
   "cell_type": "markdown",
   "id": "c3738677-cf0d-43b3-8dc9-311f0487b7a6",
   "metadata": {},
   "source": [
    "# <b> <font color= #ABFF00> PART - 3"
   ]
  },
  {
   "cell_type": "markdown",
   "id": "7e71701c-04fc-4803-b9ba-7fbb8a9ff29e",
   "metadata": {},
   "source": [
    "#### <b><font color= #FFFF00> *Plot the Chart :* \n",
    "- ##### Before Handling null values\n",
    "- ##### After Handling null values\n",
    "#### <b><font color= #FFFF00> *Final Summary: Column wise Null value Handling Conclusion :* "
   ]
  },
  {
   "cell_type": "markdown",
   "id": "ab300bff-7a9a-4958-9e5c-cc0b5eccebf2",
   "metadata": {},
   "source": [
    "#### <b> <font color= #ABFF00> *Before Handling null values*"
   ]
  },
  {
   "cell_type": "code",
   "execution_count": 91,
   "id": "c44bbc35-f3fe-4c14-ade5-29dee787dcad",
   "metadata": {},
   "outputs": [
    {
     "data": {
      "text/plain": [
       "Index(['Order ID', 'Order Date', 'Customer ID', 'Customer Name', 'City',\n",
       "       'Region', 'Category', 'Quantity', 'Sales', 'Profit'],\n",
       "      dtype='object')"
      ]
     },
     "execution_count": 91,
     "metadata": {},
     "output_type": "execute_result"
    }
   ],
   "source": [
    "df_column = df.columns\n",
    "df_column"
   ]
  },
  {
   "cell_type": "code",
   "execution_count": 92,
   "id": "d9b791fb-5494-4585-ba19-29e48a7c32d1",
   "metadata": {},
   "outputs": [
    {
     "data": {
      "text/plain": [
       "array([93, 85, 94, 97, 88, 96, 93, 93, 89, 88], dtype=int64)"
      ]
     },
     "execution_count": 92,
     "metadata": {},
     "output_type": "execute_result"
    }
   ],
   "source": [
    "cou = df.count()\n",
    "df_count = cou.values\n",
    "df_count"
   ]
  },
  {
   "cell_type": "code",
   "execution_count": 93,
   "id": "aa1fa5a5-45e9-47da-bd0f-8d8629bb5a99",
   "metadata": {},
   "outputs": [
    {
     "data": {
      "text/plain": [
       "array([ 7, 15,  6,  3, 12,  4,  7,  7, 11, 12], dtype=int64)"
      ]
     },
     "execution_count": 93,
     "metadata": {},
     "output_type": "execute_result"
    }
   ],
   "source": [
    "isnull = df.isnull().sum()\n",
    "isnull_count = isnull.values\n",
    "isnull_count"
   ]
  },
  {
   "cell_type": "code",
   "execution_count": 103,
   "id": "96de274b-d134-4ee6-99f6-46bcf1c0c2a4",
   "metadata": {},
   "outputs": [
    {
     "data": {
      "image/png": "[encoded data removed]",
      "text/plain": [
       "<Figure size 1200x700 with 1 Axes>"
      ]
     },
     "metadata": {},
     "output_type": "display_data"
    }
   ],
   "source": [
    "fig, ax = plt.subplots(figsize= (12,7))\n",
    "ax.bar(df_column, df_count, color= \"green\")\n",
    "ax.bar(df_column, isnull_count, bottom= df_count, color= \"red\")\n",
    "ax.set_xlabel(\"Columns\")\n",
    "ax.set_ylabel(\"Values_Count\")\n",
    "plt.title(\"Before Null Value Handling: Green= Filled_value vs Red= Null_Value\")\n",
    "plt.xticks(rotation= 90)\n",
    "plt.tight_layout()\n",
    "plt.show()"
   ]
  },
  {
   "cell_type": "code",
   "execution_count": 95,
   "id": "e714028e-74e4-457d-985d-31ee4d2b8747",
   "metadata": {},
   "outputs": [
    {
     "name": "stdout",
     "output_type": "stream",
     "text": [
      "<class 'pandas.core.frame.DataFrame'>\n",
      "RangeIndex: 100 entries, 0 to 99\n",
      "Data columns (total 10 columns):\n",
      " #   Column         Non-Null Count  Dtype  \n",
      "---  ------         --------------  -----  \n",
      " 0   Order ID       93 non-null     object \n",
      " 1   Order Date     85 non-null     object \n",
      " 2   Customer ID    94 non-null     object \n",
      " 3   Customer Name  97 non-null     object \n",
      " 4   City           88 non-null     object \n",
      " 5   Region         96 non-null     object \n",
      " 6   Category       93 non-null     object \n",
      " 7   Quantity       93 non-null     float64\n",
      " 8   Sales          89 non-null     float64\n",
      " 9   Profit         88 non-null     float64\n",
      "dtypes: float64(3), object(7)\n",
      "memory usage: 7.9+ KB\n"
     ]
    }
   ],
   "source": [
    "df.info()"
   ]
  },
  {
   "cell_type": "markdown",
   "id": "8b95e83f-8082-4a65-ac29-5055d89de9fd",
   "metadata": {},
   "source": [
    "#### <b> <font color= #ABFF00> *After Handling null values*"
   ]
  },
  {
   "cell_type": "code",
   "execution_count": 96,
   "id": "7404622f-4e42-4e26-9b22-bac4640e2087",
   "metadata": {},
   "outputs": [
    {
     "data": {
      "text/html": [
       "<div>\n",
       "<style scoped>\n",
       "    .dataframe tbody tr th:only-of-type {\n",
       "        vertical-align: middle;\n",
       "    }\n",
       "\n",
       "    .dataframe tbody tr th {\n",
       "        vertical-align: top;\n",
       "    }\n",
       "\n",
       "    .dataframe thead th {\n",
       "        text-align: right;\n",
       "    }\n",
       "</style>\n",
       "<table border=\"1\" class=\"dataframe\">\n",
       "  <thead>\n",
       "    <tr style=\"text-align: right;\">\n",
       "      <th></th>\n",
       "      <th>Order ID</th>\n",
       "      <th>Order Date</th>\n",
       "      <th>Customer ID</th>\n",
       "      <th>Customer Name</th>\n",
       "      <th>City</th>\n",
       "      <th>Region</th>\n",
       "      <th>Category</th>\n",
       "      <th>Quantity</th>\n",
       "      <th>Sales</th>\n",
       "      <th>Profit</th>\n",
       "    </tr>\n",
       "  </thead>\n",
       "  <tbody>\n",
       "    <tr>\n",
       "      <th>0</th>\n",
       "      <td>CA-2021-1000</td>\n",
       "      <td>2025-02-14</td>\n",
       "      <td>CUST-1000</td>\n",
       "      <td>Jasmine Davis</td>\n",
       "      <td>East Tony</td>\n",
       "      <td>South</td>\n",
       "      <td>Office Supplies</td>\n",
       "      <td>10.0</td>\n",
       "      <td>843.53</td>\n",
       "      <td>0.00</td>\n",
       "    </tr>\n",
       "    <tr>\n",
       "      <th>1</th>\n",
       "      <td>CA-2021-1001</td>\n",
       "      <td>2024-01-01</td>\n",
       "      <td>CUST-1001</td>\n",
       "      <td>Ryan Lambert</td>\n",
       "      <td>East Melissaberg</td>\n",
       "      <td>Central</td>\n",
       "      <td>Furniture</td>\n",
       "      <td>3.0</td>\n",
       "      <td>868.01</td>\n",
       "      <td>0.00</td>\n",
       "    </tr>\n",
       "    <tr>\n",
       "      <th>2</th>\n",
       "      <td>CA-2021-1002</td>\n",
       "      <td>2024-02-04</td>\n",
       "      <td>CUST-1002</td>\n",
       "      <td>Lisa Hickman</td>\n",
       "      <td>West Debbie</td>\n",
       "      <td>Central</td>\n",
       "      <td>Furniture</td>\n",
       "      <td>2.0</td>\n",
       "      <td>105.02</td>\n",
       "      <td>296.82</td>\n",
       "    </tr>\n",
       "    <tr>\n",
       "      <th>3</th>\n",
       "      <td>CA-2021-1003</td>\n",
       "      <td>2023-08-04</td>\n",
       "      <td>CUST-1003</td>\n",
       "      <td>Robert Smith</td>\n",
       "      <td>East Michael</td>\n",
       "      <td>West</td>\n",
       "      <td>Furniture</td>\n",
       "      <td>3.0</td>\n",
       "      <td>544.25</td>\n",
       "      <td>177.81</td>\n",
       "    </tr>\n",
       "    <tr>\n",
       "      <th>4</th>\n",
       "      <td>CA-2021-1004</td>\n",
       "      <td>2024-12-06</td>\n",
       "      <td>CUST-1004</td>\n",
       "      <td>Jason Willis</td>\n",
       "      <td>Port Elizabeth</td>\n",
       "      <td>Central</td>\n",
       "      <td>Furniture</td>\n",
       "      <td>6.0</td>\n",
       "      <td>395.26</td>\n",
       "      <td>-64.67</td>\n",
       "    </tr>\n",
       "  </tbody>\n",
       "</table>\n",
       "</div>"
      ],
      "text/plain": [
       "       Order ID Order Date Customer ID  Customer Name              City  \\\n",
       "0  CA-2021-1000 2025-02-14   CUST-1000  Jasmine Davis         East Tony   \n",
       "1  CA-2021-1001 2024-01-01   CUST-1001   Ryan Lambert  East Melissaberg   \n",
       "2  CA-2021-1002 2024-02-04   CUST-1002   Lisa Hickman       West Debbie   \n",
       "3  CA-2021-1003 2023-08-04   CUST-1003   Robert Smith      East Michael   \n",
       "4  CA-2021-1004 2024-12-06   CUST-1004   Jason Willis    Port Elizabeth   \n",
       "\n",
       "    Region         Category  Quantity   Sales  Profit  \n",
       "0    South  Office Supplies      10.0  843.53    0.00  \n",
       "1  Central        Furniture       3.0  868.01    0.00  \n",
       "2  Central        Furniture       2.0  105.02  296.82  \n",
       "3     West        Furniture       3.0  544.25  177.81  \n",
       "4  Central        Furniture       6.0  395.26  -64.67  "
      ]
     },
     "execution_count": 96,
     "metadata": {},
     "output_type": "execute_result"
    }
   ],
   "source": [
    "df_handled_missing_values = pd.DataFrame(df_num)\n",
    "df_handled_missing_values.head()"
   ]
  },
  {
   "cell_type": "code",
   "execution_count": 97,
   "id": "2b8b0628-cfd8-40e1-af14-575c68057a86",
   "metadata": {},
   "outputs": [],
   "source": [
    "df_handled_missing_values.reset_index(drop= True, inplace= True)"
   ]
  },
  {
   "cell_type": "code",
   "execution_count": 102,
   "id": "49541e15-a123-46ba-b01f-9c1e2ce563e2",
   "metadata": {},
   "outputs": [
    {
     "data": {
      "image/png": "[encoded data removed]",
      "text/plain": [
       "<Figure size 1200x600 with 1 Axes>"
      ]
     },
     "metadata": {},
     "output_type": "display_data"
    }
   ],
   "source": [
    "non_null_counts = df_handled_missing_values.notnull().sum().reset_index()\n",
    "non_null_counts.columns = ['Column', 'Non-Null Count']\n",
    "plt.figure(figsize=(12, 6))\n",
    "sns.barplot(data=non_null_counts, x='Column', y='Non-Null Count')\n",
    "plt.title('After Handling Null Values Columns')\n",
    "plt.xticks(rotation=90)\n",
    "plt.tight_layout()\n",
    "plt.show()"
   ]
  },
  {
   "cell_type": "code",
   "execution_count": 99,
   "id": "0d4cbdc8-bac0-4859-a20f-e6fb6b558a5e",
   "metadata": {},
   "outputs": [
    {
     "name": "stdout",
     "output_type": "stream",
     "text": [
      "<class 'pandas.core.frame.DataFrame'>\n",
      "RangeIndex: 95 entries, 0 to 94\n",
      "Data columns (total 10 columns):\n",
      " #   Column         Non-Null Count  Dtype         \n",
      "---  ------         --------------  -----         \n",
      " 0   Order ID       95 non-null     object        \n",
      " 1   Order Date     95 non-null     datetime64[ns]\n",
      " 2   Customer ID    95 non-null     object        \n",
      " 3   Customer Name  95 non-null     object        \n",
      " 4   City           95 non-null     object        \n",
      " 5   Region         95 non-null     object        \n",
      " 6   Category       95 non-null     object        \n",
      " 7   Quantity       95 non-null     float64       \n",
      " 8   Sales          95 non-null     float64       \n",
      " 9   Profit         95 non-null     float64       \n",
      "dtypes: datetime64[ns](1), float64(3), object(6)\n",
      "memory usage: 7.6+ KB\n"
     ]
    }
   ],
   "source": [
    "df_handled_missing_values.info()"
   ]
  },
  {
   "cell_type": "markdown",
   "id": "8065e6b2-7044-4b4f-b82b-22e88c657f8e",
   "metadata": {},
   "source": [
    "#### <b><font color= #FFFF00> *Final Summary: Column wise Null value Handling Conclusion :* "
   ]
  },
  {
   "cell_type": "markdown",
   "id": "ccbb245f-c027-426a-a6cd-a4e7f132e0cc",
   "metadata": {},
   "source": [
    "#### <b> <font color= #ABFF00> 1) Order ID :\n",
    "- ##### Filled with `\"Unknown\"` since all values are unique identifiers.\n",
    "#### <b> <font color= #ABFF00> 2) Customer ID :\n",
    "- ##### Filled with `\"Unknown\"` due to uniqueness of values.\n",
    "#### <b> <font color= #ABFF00> 3) Customer Name :\n",
    "- ##### Filled with `\"Unknown\"` since all names are unique and avoid misleading results.\n",
    "#### <b> <font color= #ABFF00> 4) Order Date :\n",
    "- ##### Used category-region-date filtering, counting, and manual imputation based on realworld logic.\n",
    "#### <b> <font color= #ABFF00> 5) City :\n",
    "- ##### Filled with `\"Unknown\"` — cities are all unique.\n",
    "#### <b> <font color= #ABFF00> 6) Region :\n",
    "- ##### Filled based on city-to-region mapping; dropped one row.\n",
    "#### <b> <font color= #ABFF00> 7) Category :\n",
    "- ##### Filled based on region-wise product frequency.\n",
    "#### <b> <font color= #ABFF00> 8) Quantity :\n",
    "- ##### Used category-region-date filtering and manual imputation.\n",
    "#### <b> <font color= #ABFF00> 9) Sales :\n",
    "- ##### Filled using group-based mean or manual logic. Some rows dropped.\n",
    "#### <b> <font color= #ABFF00> 10) Profit :\n",
    "- ##### Nulls filled with `0.0` to avoid misleading results."
   ]
  },
  {
   "cell_type": "code",
   "execution_count": null,
   "id": "fbc6bd03-9dcd-428f-9e7c-e78b79fea3c8",
   "metadata": {},
   "outputs": [],
   "source": []
  },
  {
   "cell_type": "code",
   "execution_count": null,
   "id": "2215ee8b-a387-4188-bb86-d6cd9696aaa7",
   "metadata": {},
   "outputs": [],
   "source": []
  }
 ],
 "metadata": {
  "kernelspec": {
   "display_name": "Python 3 (ipykernel)",
   "language": "python",
   "name": "python3"
  },
  "language_info": {
   "codemirror_mode": {
    "name": "ipython",
    "version": 3
   },
   "file_extension": ".py",
   "mimetype": "text/x-python",
   "name": "python",
   "nbconvert_exporter": "python",
   "pygments_lexer": "ipython3",
   "version": "3.11.7"
  }
 },
 "nbformat": 4,
 "nbformat_minor": 5
}
